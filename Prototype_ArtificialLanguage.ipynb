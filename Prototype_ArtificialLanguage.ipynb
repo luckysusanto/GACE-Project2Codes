{
  "nbformat": 4,
  "nbformat_minor": 0,
  "metadata": {
    "colab": {
      "provenance": [],
      "collapsed_sections": [
        "R9T0lMBmiVBN",
        "HHxSWYQQihTd"
      ],
      "toc_visible": true
    },
    "kernelspec": {
      "name": "python3",
      "display_name": "Python 3"
    },
    "language_info": {
      "name": "python"
    }
  },
  "cells": [
    {
      "cell_type": "code",
      "source": [
        "!apt-get install texlive texlive-xetex texlive-latex-extra pandoc\n",
        "!pip install pypandoc"
      ],
      "metadata": {
        "id": "tR6t1ZaQiTnY"
      },
      "execution_count": null,
      "outputs": []
    },
    {
      "cell_type": "code",
      "source": [
        "!jupyter nbconvert --to PDF \"Artificial_Language(1).ipynb\""
      ],
      "metadata": {
        "colab": {
          "base_uri": "https://localhost:8080/"
        },
        "id": "tNBf5lRGaqM0",
        "outputId": "5e4e0227-14b1-4bc9-9eb7-349c0cf07158"
      },
      "execution_count": null,
      "outputs": [
        {
          "output_type": "stream",
          "name": "stdout",
          "text": [
            "[NbConvertApp] Converting notebook Artificial_Language(1).ipynb to PDF\n",
            "[NbConvertApp] Writing 56549 bytes to notebook.tex\n",
            "[NbConvertApp] Building PDF\n",
            "[NbConvertApp] Running xelatex 3 times: ['xelatex', 'notebook.tex', '-quiet']\n",
            "[NbConvertApp] Running bibtex 1 time: ['bibtex', 'notebook']\n",
            "[NbConvertApp] WARNING | bibtex had problems, most likely because there were no citations\n",
            "[NbConvertApp] PDF successfully created\n",
            "[NbConvertApp] Writing 72082 bytes to Artificial_Language(1).pdf\n"
          ]
        }
      ]
    },
    {
      "cell_type": "markdown",
      "source": [
        "# Difficulty Metric\n",
        "Exploration on how edit distance can be used to see how difficult it is for one language to be translated to another language by an NMT system."
      ],
      "metadata": {
        "id": "R9T0lMBmiVBN"
      }
    },
    {
      "cell_type": "markdown",
      "source": [
        "## Edit Distance Metric\n",
        "Using one of levenshtein or damerau_levenshtein distance, two string or two list of strings (one for source sentence, one for target sentence) can then be calculated to know how different the languages are.\n",
        "\n",
        "\n",
        "Justification:\n",
        "1. **We approach the task of translation by seeing it as a text correction problem.**"
      ],
      "metadata": {
        "id": "HHxSWYQQihTd"
      }
    },
    {
      "cell_type": "code",
      "source": [
        "!pip install jellyfish"
      ],
      "metadata": {
        "colab": {
          "base_uri": "https://localhost:8080/"
        },
        "id": "Ly0VlAlWTEbo",
        "outputId": "08c977d4-c1cb-4ea0-d548-a154902da34e"
      },
      "execution_count": null,
      "outputs": [
        {
          "output_type": "stream",
          "name": "stdout",
          "text": [
            "Collecting jellyfish\n",
            "  Downloading jellyfish-1.0.0-cp310-cp310-manylinux_2_17_x86_64.manylinux2014_x86_64.whl (1.2 MB)\n",
            "\u001b[?25l     \u001b[90m━━━━━━━━━━━━━━━━━━━━━━━━━━━━━━━━━━━━━━━━\u001b[0m \u001b[32m0.0/1.2 MB\u001b[0m \u001b[31m?\u001b[0m eta \u001b[36m-:--:--\u001b[0m\r\u001b[2K     \u001b[91m━━\u001b[0m\u001b[91m╸\u001b[0m\u001b[90m━━━━━━━━━━━━━━━━━━━━━━━━━━━━━━━━━━━━━\u001b[0m \u001b[32m0.1/1.2 MB\u001b[0m \u001b[31m2.2 MB/s\u001b[0m eta \u001b[36m0:00:01\u001b[0m\r\u001b[2K     \u001b[91m━━━━━━━━━━━━━━━━━━━━━━━━━━━━━━━━━━━━━━━\u001b[0m\u001b[91m╸\u001b[0m \u001b[32m1.2/1.2 MB\u001b[0m \u001b[31m19.3 MB/s\u001b[0m eta \u001b[36m0:00:01\u001b[0m\r\u001b[2K     \u001b[90m━━━━━━━━━━━━━━━━━━━━━━━━━━━━━━━━━━━━━━━━\u001b[0m \u001b[32m1.2/1.2 MB\u001b[0m \u001b[31m15.9 MB/s\u001b[0m eta \u001b[36m0:00:00\u001b[0m\n",
            "\u001b[?25hInstalling collected packages: jellyfish\n",
            "Successfully installed jellyfish-1.0.0\n"
          ]
        }
      ]
    },
    {
      "cell_type": "code",
      "source": [
        "import jellyfish\n",
        "\n",
        "def levenshtein_distance(i1, i2):\n",
        "  if isinstance(i1, str) and isinstance(i2, str):\n",
        "    return jellyfish.levenshtein_distance(i1, i2)\n",
        "  elif isinstance(i1, list) and isinstance(i2, list):\n",
        "    if len(i1) != len(i2):\n",
        "      raise ValueError('levenshtein_distance(i1, i2) Error 0: Lenght of i1 and i2 is not the same')\n",
        "\n",
        "    total_dist = 0\n",
        "    for s1, s2 in zip(i1, i2):\n",
        "      total_dist += levenshtein_distance(s1, s2)\n",
        "    return total_dist/len(i1)\n",
        "  else:\n",
        "    raise TypeError('levenshtein_distance(i1, i2) Error 1: Type of i1 and i2 are not both str or not both list')\n",
        "\n",
        "s1, s2 = \"I am at the hospital\", \"Saya am di si rumah sakit\"\n",
        "print(levenshtein_distance(s1, s2))\n",
        "\n",
        "l1, l2 = [\"I\", \"am\", \"at\", \"the\", \"hospital\"], [\"Saya\", \"am\", \"di\", \"si\", \"rumah sakit\"]\n",
        "print(levenshtein_distance(l1, l2))"
      ],
      "metadata": {
        "colab": {
          "base_uri": "https://localhost:8080/"
        },
        "id": "XT9Z7UbfgU9H",
        "outputId": "44b71b5b-1916-4978-b320-385b3891b4d4"
      },
      "execution_count": null,
      "outputs": [
        {
          "output_type": "stream",
          "name": "stdout",
          "text": [
            "18\n",
            "3.6\n"
          ]
        }
      ]
    },
    {
      "cell_type": "code",
      "source": [
        "import jellyfish\n",
        "\n",
        "def damerau_levenshtein_distance(i1, i2):\n",
        "  if isinstance(i1, str) and isinstance(i2, str):\n",
        "    return jellyfish.damerau_levenshtein_distance(i1, i2)\n",
        "  elif isinstance(i1, list) and isinstance(i2, list):\n",
        "    if len(i1) != len(i2):\n",
        "      raise ValueError('damerau_levenshtein_distance(i1, i2) Error 0: Lenght of i1 and i2 is not the same')\n",
        "\n",
        "    total_dist = 0\n",
        "    for s1, s2 in zip(i1, i2):\n",
        "      total_dist += damerau_levenshtein_distance(s1, s2)\n",
        "    return total_dist/len(i1)\n",
        "  else:\n",
        "    raise TypeError('damerau_levenshtein_distance(i1, i2) Error 1: Type of i1 and i2 are not both str or not both list')\n",
        "\n",
        "s1, s2 = \"I am at the hospital\", \"Saya am di si rumah sakit\"\n",
        "print(damerau_levenshtein_distance(s1, s2))\n",
        "\n",
        "l1, l2 = [\"I\", \"am\", \"at\", \"the\", \"hospital\"], [\"Saya\", \"am\", \"di\", \"si\", \"rumah sakit\"]\n",
        "print(damerau_levenshtein_distance(l1, l2))"
      ],
      "metadata": {
        "colab": {
          "base_uri": "https://localhost:8080/"
        },
        "id": "ajHpnvpPhaf2",
        "outputId": "ca699185-6c6c-40fd-da6e-398c0d8fe0ee"
      },
      "execution_count": null,
      "outputs": [
        {
          "output_type": "stream",
          "name": "stdout",
          "text": [
            "18\n",
            "3.6\n"
          ]
        }
      ]
    },
    {
      "cell_type": "code",
      "source": [],
      "metadata": {
        "id": "In_h6C4oiCF0"
      },
      "execution_count": null,
      "outputs": []
    },
    {
      "cell_type": "markdown",
      "source": [
        "# Editing Sentence\n",
        "This section includes the function to:\n",
        "1. Insert abritrary characters\n",
        "2. Delete arbritrary characters\n",
        "3. Substitute arbritrary characters\n",
        "4. Swap Ordering of Word in a Sentence\n",
        "5. Using Cognates"
      ],
      "metadata": {
        "id": "RobQCN8YjESY"
      }
    },
    {
      "cell_type": "markdown",
      "source": [
        "## Prerequisites\n",
        "Before any of the editing can be done, there are requirements that must be met:\n",
        "1. There must exist a monolingual dictionary of the words for the language being work on (In this case: English)\n",
        "2. There must be a POS system to use **Editing (5) -->Swap Ordering of Word in a Sentence**.\n",
        "3. There must exist a way to translate a sentence or segment of sentence or words in a sentence from English to another language to use **Editing (6) --> Using Cognates**.\n"
      ],
      "metadata": {
        "id": "6hBBzuiyjZ6t"
      }
    },
    {
      "cell_type": "code",
      "source": [
        "# Prerequisites 1: English Monolingual Dictionary\n",
        "import nltk\n",
        "nltk.download('words')\n",
        "\n",
        "from nltk.corpus import words\n",
        "ENGLISH_DICTIONARY = words.words()"
      ],
      "metadata": {
        "id": "my6YVmyqkt0Z",
        "colab": {
          "base_uri": "https://localhost:8080/"
        },
        "outputId": "e300a7f7-17a9-4239-ae01-df801081567c"
      },
      "execution_count": null,
      "outputs": [
        {
          "output_type": "stream",
          "name": "stderr",
          "text": [
            "[nltk_data] Downloading package words to /root/nltk_data...\n",
            "[nltk_data]   Unzipping corpora/words.zip.\n"
          ]
        }
      ]
    },
    {
      "cell_type": "code",
      "source": [
        "# Prerequisite 2: Swap Ordering Function (Needs Dito)\n",
        "# !git clone https://github.com/shauli-ravfogel/rnn_typology.git"
      ],
      "metadata": {
        "id": "UgSCG4mTaQay"
      },
      "execution_count": null,
      "outputs": []
    },
    {
      "cell_type": "code",
      "source": [
        "# !chmod 777 /content/rnn_typology/datasets_creation/run.sh"
      ],
      "metadata": {
        "id": "ePV8dB3o9-o5"
      },
      "execution_count": null,
      "outputs": []
    },
    {
      "cell_type": "code",
      "source": [
        "# %%python2\n",
        "# !sh /content/rnn_typology/datasets_creation/run.sh"
      ],
      "metadata": {
        "id": "cUhXAAG2U9lg"
      },
      "execution_count": null,
      "outputs": []
    },
    {
      "cell_type": "code",
      "source": [
        "# Prerequisites 3: Translation System\n",
        "# !pip install --upgrade google-cloud-translate"
      ],
      "metadata": {
        "id": "QO325l8JlW-K"
      },
      "execution_count": null,
      "outputs": []
    },
    {
      "cell_type": "code",
      "source": [
        "!gcloud auth application-default login"
      ],
      "metadata": {
        "id": "oHxC9H3d7CDV",
        "colab": {
          "base_uri": "https://localhost:8080/"
        },
        "outputId": "456bc1d7-b355-43f1-8864-40e3c36ef68c"
      },
      "execution_count": null,
      "outputs": [
        {
          "output_type": "stream",
          "name": "stdout",
          "text": [
            "Go to the following link in your browser:\n",
            "\n",
            "    https://accounts.google.com/o/oauth2/auth?response_type=code&client_id=764086051850-6qr4p6gpi6hn506pt8ejuq83di341hur.apps.googleusercontent.com&redirect_uri=https%3A%2F%2Fsdk.cloud.google.com%2Fapplicationdefaultauthcode.html&scope=openid+https%3A%2F%2Fwww.googleapis.com%2Fauth%2Fuserinfo.email+https%3A%2F%2Fwww.googleapis.com%2Fauth%2Fcloud-platform+https%3A%2F%2Fwww.googleapis.com%2Fauth%2Fsqlservice.login&state=z1KWEMST4sS1mLD5uEZmUucPVrfLEa&prompt=consent&access_type=offline&code_challenge=A-nsM2nz3u210Ev7mhcwgufxM-V1Gi9d-ziI4FOXFO0&code_challenge_method=S256\n",
            "\n",
            "Enter authorization code: 4/0Adeu5BUnJJColljjyzHQ4amB8Kn1ZIqPaCjA4_irbjChoSbHQDuBtBr2DFKDs25rK9vx6g\n",
            "\n",
            "Credentials saved to file: [/content/.config/application_default_credentials.json]\n",
            "\n",
            "These credentials will be used by any library that requests Application Default Credentials (ADC).\n",
            "\u001b[1;33mWARNING:\u001b[0m \n",
            "Cannot find a quota project to add to ADC. You might receive a \"quota exceeded\" or \"API not enabled\" error. Run $ gcloud auth application-default set-quota-project to add a quota project.\n"
          ]
        }
      ]
    },
    {
      "cell_type": "code",
      "source": [
        "!gcloud auth application-default set-quota-project resolute-parity-392608"
      ],
      "metadata": {
        "id": "UtcE5cWk7ope",
        "colab": {
          "base_uri": "https://localhost:8080/"
        },
        "outputId": "ee493639-37f6-44b3-e30c-ecbcec20ee8a"
      },
      "execution_count": null,
      "outputs": [
        {
          "output_type": "stream",
          "name": "stdout",
          "text": [
            "\n",
            "Credentials saved to file: [/content/.config/application_default_credentials.json]\n",
            "\n",
            "These credentials will be used by any library that requests Application Default Credentials (ADC).\n",
            "\n",
            "Quota project \"resolute-parity-392608\" was added to ADC which can be used by Google client libraries for billing and quota. Note that some services may still bill the project owning the resource.\n"
          ]
        }
      ]
    },
    {
      "cell_type": "code",
      "source": [
        "!gcloud auth login"
      ],
      "metadata": {
        "id": "tEbwhbTZKPo-",
        "colab": {
          "base_uri": "https://localhost:8080/"
        },
        "outputId": "ab4e10c8-dfee-4979-82db-1134f1f2df3d"
      },
      "execution_count": null,
      "outputs": [
        {
          "output_type": "stream",
          "name": "stdout",
          "text": [
            "Go to the following link in your browser:\n",
            "\n",
            "    https://accounts.google.com/o/oauth2/auth?response_type=code&client_id=32555940559.apps.googleusercontent.com&redirect_uri=https%3A%2F%2Fsdk.cloud.google.com%2Fauthcode.html&scope=openid+https%3A%2F%2Fwww.googleapis.com%2Fauth%2Fuserinfo.email+https%3A%2F%2Fwww.googleapis.com%2Fauth%2Fcloud-platform+https%3A%2F%2Fwww.googleapis.com%2Fauth%2Fappengine.admin+https%3A%2F%2Fwww.googleapis.com%2Fauth%2Fsqlservice.login+https%3A%2F%2Fwww.googleapis.com%2Fauth%2Fcompute+https%3A%2F%2Fwww.googleapis.com%2Fauth%2Faccounts.reauth&state=BVinIqHQMK9AUF3ggail3jMk2JQIJ3&prompt=consent&access_type=offline&code_challenge=b6c6_mOaJLj4mQTZqltnWMjSl1VseLqEpofYUoN-HV4&code_challenge_method=S256\n",
            "\n",
            "Enter authorization code: 4/0Adeu5BUbnA9plf7VhSkcO2EnKwCLTdd107ZZtqAV_hD55cQm1eTPRpOt9Hli3iHYr6FpPw\n",
            "\n",
            "You are now logged in as [luckyblock0@gmail.com].\n",
            "Your current project is [None].  You can change this setting by running:\n",
            "  $ gcloud config set project PROJECT_ID\n"
          ]
        }
      ]
    },
    {
      "cell_type": "code",
      "source": [
        "import requests\n",
        "import subprocess\n",
        "import json\n",
        "\n",
        "def romanize_text(src, contents):\n",
        "    # Define the data you want to send in the POST request\n",
        "    data = {\n",
        "        'source_language_code': src,\n",
        "        'contents': contents\n",
        "    }\n",
        "\n",
        "    # Define the file path where you want to save the JSON data\n",
        "    file_path = 'request.json'\n",
        "\n",
        "    # Write the dictionary to the JSON file\n",
        "    with open(file_path, 'w') as json_file:\n",
        "        json.dump(data, json_file, indent=4)\n",
        "\n",
        "    command = \"\"\"\n",
        "    curl -X POST \\\n",
        "        -H \"Authorization: Bearer $(gcloud auth print-access-token)\" \\\n",
        "        -H \"x-goog-user-project: resolute-parity-392608\" \\\n",
        "        -H \"Content-Type: application/json; charset=utf-8\" \\\n",
        "        -d @request.json \\\n",
        "        \"https://translation.googleapis.com/v3/projects/resolute-parity-392608/locations/us-central1:romanizeText\" \\\n",
        "        -o \"romanized.json\"\n",
        "    \"\"\"\n",
        "    subprocess.run(command, shell=True, text=True, stdout=subprocess.PIPE)\n",
        "\n",
        "    romanized_text_list = []\n",
        "    with open('romanized.json', 'r') as f:\n",
        "      romanized_texts = dict(json.load(f))['romanizations']\n",
        "\n",
        "      for roman_text in romanized_texts:\n",
        "        romanized_text_list.append(roman_text['romanizedText'])\n",
        "\n",
        "    return romanized_text_list\n",
        "\n",
        "# romanize_text('ja', ['お元気ですか', '私は元気です、あなたはどうですか'])"
      ],
      "metadata": {
        "id": "PUihGWKHNaQ-",
        "colab": {
          "base_uri": "https://localhost:8080/"
        },
        "outputId": "70272e45-6349-4594-a923-26aab3479c00"
      },
      "execution_count": null,
      "outputs": [
        {
          "output_type": "execute_result",
          "data": {
            "text/plain": [
              "['Ogenkidesuka', 'Watashi wa genkidesu, anata wa dōdesu ka']"
            ]
          },
          "metadata": {},
          "execution_count": 14
        }
      ]
    },
    {
      "cell_type": "code",
      "source": [
        "def translate_text(target: str, source: str, text: str) -> dict:\n",
        "    \"\"\"Translates text into the target language.\n",
        "\n",
        "    Target must be an ISO 639-1 language code.\n",
        "    See https://g.co/cloud/translate/v2/translate-reference#supported_languages\n",
        "    \"\"\"\n",
        "    from google.cloud import translate_v2 as translate\n",
        "\n",
        "    translate_client = translate.Client()\n",
        "\n",
        "    if isinstance(text, bytes):\n",
        "        text = text.decode(\"utf-8\")\n",
        "\n",
        "    result = translate_client.translate(text, target_language=target, source_language=source)\n",
        "\n",
        "    non_roman = {\n",
        "      'ar': 'Arabic',\n",
        "      'am': 'Amharic',\n",
        "      'bn': 'Bengali',\n",
        "      'be': 'Belarusian',\n",
        "      'hi': 'Hindi',\n",
        "      'ja': 'Japanese',\n",
        "      'my': 'Myanmar',\n",
        "      'ru': 'Russian',\n",
        "      'sr': 'Serbian',\n",
        "      'uk': 'Ukrainian'\n",
        "    }\n",
        "\n",
        "    if target in non_roman.keys():\n",
        "      result = romanize_text(target, result['translatedText'])\n",
        "      return result\n",
        "    return result['translatedText']"
      ],
      "metadata": {
        "id": "2AYn7Cdg4JDJ"
      },
      "execution_count": null,
      "outputs": []
    },
    {
      "cell_type": "code",
      "source": [
        "translate_text('id', 'en', 'How are you')"
      ],
      "metadata": {
        "colab": {
          "base_uri": "https://localhost:8080/",
          "height": 35
        },
        "id": "9JKUmGYeL-Hu",
        "outputId": "5d44c14e-0033-4042-dc1a-ad429572f8fd"
      },
      "execution_count": null,
      "outputs": [
        {
          "output_type": "execute_result",
          "data": {
            "text/plain": [
              "'Apa kabarmu'"
            ],
            "application/vnd.google.colaboratory.intrinsic+json": {
              "type": "string"
            }
          },
          "metadata": {},
          "execution_count": 16
        }
      ]
    },
    {
      "cell_type": "markdown",
      "source": [
        "## Editing Sentence Functions\n",
        "Use the following functions alone or in tandem to create a synthetic language.\n"
      ],
      "metadata": {
        "id": "TJ4NCSE39qPp"
      }
    },
    {
      "cell_type": "code",
      "source": [
        "AVG_ENGLISH_WORD_LEN = sum([len(w) for w in ENGLISH_DICTIONARY])/len(ENGLISH_DICTIONARY)\n",
        "AVG_ENGLISH_WORD_LEN"
      ],
      "metadata": {
        "colab": {
          "base_uri": "https://localhost:8080/"
        },
        "id": "ZlUtwkK1AXqb",
        "outputId": "46cf25de-411e-4818-ebf4-5a8d0f5f49c7"
      },
      "execution_count": null,
      "outputs": [
        {
          "output_type": "execute_result",
          "data": {
            "text/plain": [
              "9.553574445796162"
            ]
          },
          "metadata": {},
          "execution_count": 18
        }
      ]
    },
    {
      "cell_type": "code",
      "source": [
        "# A Global variable. In the end, it must have the same length as ENGLISH_DICTIONARY, to make a one to one correspondence.\n",
        "SYNTHETIC_DICTIONARY = []"
      ],
      "metadata": {
        "id": "nAzc8DdyDdv6"
      },
      "execution_count": null,
      "outputs": []
    },
    {
      "cell_type": "markdown",
      "source": [
        "### Inserting\n",
        "Insert arbritrary alphabetical character to the words.\n",
        "Parameters:\n",
        "1. word: The word to be corrupted\n",
        "2. mean: On average, how much characters should be inserted? Defaults to **len(word)**/**AVG_ENGLISH_WORD_LEN**.\n",
        "3. std : Hyperparameter for normal distribution, defaults to 2.\n",
        "\n",
        "At least 1 insertion will happen.\n",
        "\n",
        "This function will not generate a word that already exist in ENGLISH_DICTIONARY or SYNTHETHIC_DICTIONARY."
      ],
      "metadata": {
        "id": "82IjIvKl95V2"
      }
    },
    {
      "cell_type": "code",
      "source": [
        "import random\n",
        "import string\n",
        "\n",
        "def insertion_noise(word, mean_insertion = -1, std_deviation = 1.5):\n",
        "    if mean_insertion == -1:\n",
        "      mean_insertion = len(word)/AVG_ENGLISH_WORD_LEN\n",
        "    num_insertions = max(1, int(round(random.normalvariate(mean_insertion, std_deviation))))\n",
        "    corrupted_word = list(word)\n",
        "\n",
        "    for _ in range(num_insertions):\n",
        "        position = random.randint(0, len(corrupted_word))\n",
        "        random_char = random.choice(string.ascii_lowercase)\n",
        "        corrupted_word.insert(position, random_char)\n",
        "\n",
        "    corrupted_word = ''.join(corrupted_word)\n",
        "\n",
        "    if corrupted_word in ENGLISH_DICTIONARY or corrupted_word in SYNTHETIC_DICTIONARY:\n",
        "      print(f\"insertion_noise generated the word {corrupted_word}, which is in the english or synthetic dictionary\")\n",
        "      insertion_noise(word, mean_insertion, std_deviation)\n",
        "    return corrupted_word\n",
        "\n",
        "# Example usage\n",
        "original_word = \"example\"\n",
        "corrupted = insertion_noise(original_word)\n",
        "print(f\"Original word: {original_word}\")\n",
        "print(f\"Corrupted word: {corrupted}\")"
      ],
      "metadata": {
        "colab": {
          "base_uri": "https://localhost:8080/"
        },
        "id": "7xc8JvqkBZ_v",
        "outputId": "37d53313-592b-47fe-a1b6-d91ccf263053"
      },
      "execution_count": null,
      "outputs": [
        {
          "output_type": "stream",
          "name": "stdout",
          "text": [
            "Original word: example\n",
            "Corrupted word: exabmple\n"
          ]
        }
      ]
    },
    {
      "cell_type": "markdown",
      "source": [
        "### Deletion\n",
        "Delete arbritrary alphabetical character to the words. Parameters:\n",
        "\n",
        "1. word: The word to be corrupted\n",
        "2. mean: On average, how much characters should be deleted? Defaults to len(word)/AVG_ENGLISH_WORD_LEN.\n",
        "3. std : Hyperparameter for normal distribution, defaults to 2.\n",
        "4. max_depth: Maximum recurrsion depth. If reached, return the original uncorrupted word.\n",
        "\n",
        "At least 1 deletion will happen.\n",
        "\n",
        "This function **MAY** generate a word that already exist in ENGLISH_DICTIONARY or SYNTHETHIC_DICTIONARY. This happens when the word is too short to delete and is done when max_depth = 0."
      ],
      "metadata": {
        "id": "BYG7h3HYFaPc"
      }
    },
    {
      "cell_type": "code",
      "source": [
        "import random\n",
        "import string\n",
        "\n",
        "def deletion_noise(word, mean_deletion = -1, std_deviation = 1.5, max_depth = 3):\n",
        "    if max_depth == 0:\n",
        "      return word\n",
        "\n",
        "    if mean_deletion == -1:\n",
        "      mean_deletion = len(word)/AVG_ENGLISH_WORD_LEN\n",
        "    num_deletion = min(len(word) - 1, max(1, int(round(random.normalvariate(mean_deletion, std_deviation)))))\n",
        "    corrupted_word = list(word)\n",
        "\n",
        "    for _ in range(num_deletion):\n",
        "        position = random.randint(0, len(corrupted_word)-1)\n",
        "        corrupted_word.pop(position)\n",
        "\n",
        "    corrupted_word = ''.join(corrupted_word)\n",
        "\n",
        "    if corrupted_word in ENGLISH_DICTIONARY or corrupted_word in SYNTHETIC_DICTIONARY:\n",
        "      # print(f\"deletion_noise generated the word {corrupted_word}, which is in the english or synthetic dictionary\")\n",
        "      return deletion_noise(word, mean_deletion, std_deviation, max_depth-1)\n",
        "    return corrupted_word\n",
        "\n",
        "# Example usage\n",
        "original_word = \"a\"\n",
        "corrupted = deletion_noise(original_word)\n",
        "print(f\"Original word: {original_word}\")\n",
        "print(f\"Corrupted word: {corrupted}\")"
      ],
      "metadata": {
        "colab": {
          "base_uri": "https://localhost:8080/"
        },
        "id": "XXjSM7dzB7on",
        "outputId": "6e7267f5-3e4e-47e6-d496-98798b53a098"
      },
      "execution_count": null,
      "outputs": [
        {
          "output_type": "stream",
          "name": "stdout",
          "text": [
            "Original word: a\n",
            "Corrupted word: a\n"
          ]
        }
      ]
    },
    {
      "cell_type": "markdown",
      "source": [
        "### Substitution\n",
        "Substitute a random character. Parameters:\n",
        "1. word: The word to be corrupted\n",
        "2. mean: On average, how much characters should be substituted? Defaults to len(word)/AVG_ENGLISH_WORD_LEN.\n",
        "3. std : Hyperparameter for normal distribution, defaults to 2.\n",
        "\n",
        "At least 1 substitution will happen.\n",
        "\n",
        "This function **MAY** generate a word that already exist in ENGLISH_DICTIONARY or SYNTHETHIC_DICTIONARY. This happens when the word is too short."
      ],
      "metadata": {
        "id": "u-NclwFgMFuo"
      }
    },
    {
      "cell_type": "code",
      "source": [
        "import random\n",
        "import string\n",
        "\n",
        "def substitute_noise(word, mean_substitute = -1, std_deviation = 1.5, max_depth = 3):\n",
        "    if max_depth == 0:\n",
        "      return word\n",
        "\n",
        "    if mean_substitute == -1:\n",
        "      mean_substitute = len(word)/AVG_ENGLISH_WORD_LEN\n",
        "\n",
        "    x = len(word) + 1\n",
        "    while x >= len(word):\n",
        "      x = int(round(random.normalvariate(mean_substitute, std_deviation)))\n",
        "    num_substitute = max(1, x)\n",
        "\n",
        "    if num_substitute > len(word):\n",
        "      num_substitute = len(word)\n",
        "    corrupted_word = list(word)\n",
        "\n",
        "    # print(f\"len of corrupted word and sample size = {corrupted_word, num_substitute}\")\n",
        "\n",
        "    if len(corrupted_word) - 1 > 0 and len(corrupted_word) - 1 > num_substitute:\n",
        "      corrupted_sample = random.sample(range(0, len(corrupted_word) - 1), num_substitute)\n",
        "    else:\n",
        "      corrupted_sample = [0]\n",
        "      num_substitute = 1\n",
        "\n",
        "    for i in range(num_substitute):\n",
        "        position = corrupted_sample[i]\n",
        "        random_char = random.choice(string.ascii_lowercase)\n",
        "        corrupted_word[position] = random_char\n",
        "\n",
        "    corrupted_word = ''.join(corrupted_word)\n",
        "\n",
        "    if corrupted_word in ENGLISH_DICTIONARY or corrupted_word in SYNTHETIC_DICTIONARY:\n",
        "      # print(f\"substitute_noise generated the word {corrupted_word}, which is in the english or synthetic dictionary\")\n",
        "      substitute_noise(word, mean_substitute, std_deviation, max_depth - 1)\n",
        "    return ''.join(corrupted_word)\n",
        "\n",
        "# Example usage\n",
        "original_word = \"Ab\"\n",
        "corrupted = substitute_noise(original_word)\n",
        "print(f\"Original word: {original_word}\")\n",
        "print(f\"Corrupted word: {corrupted}\")"
      ],
      "metadata": {
        "colab": {
          "base_uri": "https://localhost:8080/"
        },
        "id": "XZC9sfW6Mpkl",
        "outputId": "d6226d50-4110-402c-d259-b26adb5fe6e5"
      },
      "execution_count": null,
      "outputs": [
        {
          "output_type": "stream",
          "name": "stdout",
          "text": [
            "Original word: Ab\n",
            "Corrupted word: pb\n"
          ]
        }
      ]
    },
    {
      "cell_type": "code",
      "source": [],
      "metadata": {
        "id": "FdHMaqlwNyRF"
      },
      "execution_count": null,
      "outputs": []
    },
    {
      "cell_type": "markdown",
      "source": [
        "### Cognates\n",
        "Translate a word from English to another, then corrupt it using one or more of the below:\n",
        "1. Insertion\n",
        "2. Deletion\n",
        "3. Substitution\n",
        "4. Rule-based system (NOT YET IMPLEMENTED)"
      ],
      "metadata": {
        "id": "Cs0vcG6KOl24"
      }
    },
    {
      "cell_type": "code",
      "source": [
        "import random\n",
        "\n",
        "def cognate_noise(words, source, targets, ratios, noise_pipelines = []):\n",
        "  ### def cognate_noise:\n",
        "  # Parameters:\n",
        "  #   1. words  : a list of string, ex: [\"I\", \"am\", \"hungry\"]\n",
        "  #   2. source : ISO 639-1 Language Code, for our case, should be en-US\n",
        "  #   3. targets: a list of ISO 639-1 Language Code,\n",
        "  #               determining to what languages the translation should be\n",
        "  #   4. ratios : a list of float, ideally sums to 1, with size = targets.\n",
        "  #               Denoting the ratio of each target language.\n",
        "  #               If the ratio cannot be followed, random distribution will solve\n",
        "  #               The problem of excess or lack of ratios.\n",
        "  #   5. noise_pipelines:\n",
        "  #               a list of functions that every translated word will go through.\n",
        "  #               ex: [insertion_noise, deletion_noise, substitute_noise]\n",
        "  #               defaults to [] (No noise, pure translation)\n",
        "  # Output:\n",
        "  #   A list of words with the same size as words from the input\n",
        "  ###\n",
        "\n",
        "  if len(ratios) != len(targets):\n",
        "    raise ValueError(\"cognate_noise Error 0: Length of targets and ratios must be equal.\")\n",
        "\n",
        "  goal_len = len(words)\n",
        "  ratio_quota = [int(len(words) * ratio) for ratio in ratios]\n",
        "\n",
        "  if sum(ratio_quota) < goal_len:\n",
        "    c = goal_len - sum(ratio_quota)\n",
        "    for i in range(c):\n",
        "      random_index = random.randint(0, len(ratio_quota) - 1)\n",
        "      ratio_quota[random_index] += 1\n",
        "  elif goal_len < sum(ratio_quota):\n",
        "    c = sum(ratio_quota) - goal_len\n",
        "    for i in range(c):\n",
        "      random_index = random.randint(0, len(ratio_quota) - 1)\n",
        "      ratio_quota[random_index] -= 1\n",
        "\n",
        "  assert goal_len == sum(ratio_quota), ValueError(\"cognate_noise Error 1: goal_len != sum(ratio_quota)\")\n",
        "\n",
        "  translation_mapping = []\n",
        "  for i in range(len(targets)):\n",
        "    translation_mapping += [targets[i]] * ratio_quota[i]\n",
        "  random.shuffle(translation_mapping)\n",
        "\n",
        "  corrupted_words = []\n",
        "  for word, target in zip(words, translation_mapping):\n",
        "    print(f\"word, target = {word}, {target}\")\n",
        "    corrupt = translate_text(target, source, word)\n",
        "    print(f\"corrupt = {corrupt}\")\n",
        "    corrupted_words.append(corrupt)\n",
        "\n",
        "  print(f\"original words = {words}\")\n",
        "  print(f\"translation_mapping = {translation_mapping}\")\n",
        "  print(f\"translated words = {corrupted_words}\")\n",
        "\n",
        "  for func in noise_pipelines:\n",
        "    for i in range(len(corrupted_words)):\n",
        "      original = corrupted_words[i]\n",
        "      corrupted_words[i] = func(corrupted_words[i])\n",
        "      print(f\"After corrupted by {func.__name__}, the word {original} became {corrupted_words[i]}\")\n",
        "  return corrupted_words\n",
        "\n",
        "# Example usage\n",
        "original_words = \"I am at the hospital\"\n",
        "parsed_words = original_words.split(' ')\n",
        "\n",
        "print(f\"Original word: {parsed_words}\")\n",
        "noise_pipeline = [insertion_noise, substitute_noise]\n",
        "corrupted = cognate_noise(parsed_words, 'en-US', ['id', 'jv'], [0.3, 0.7], noise_pipeline)\n",
        "print(f\"Corrupted word: {corrupted}\")"
      ],
      "metadata": {
        "colab": {
          "base_uri": "https://localhost:8080/"
        },
        "id": "UlfyxEJ2PX-M",
        "outputId": "5a7308a2-9c78-4b7c-af9f-081ba695eb3d"
      },
      "execution_count": null,
      "outputs": [
        {
          "output_type": "stream",
          "name": "stdout",
          "text": [
            "Original word: ['I', 'am', 'at', 'the', 'hospital']\n",
            "word, target = I, jv\n",
            "corrupt = aku\n",
            "word, target = am, id\n",
            "corrupt = saya\n",
            "word, target = at, jv\n",
            "corrupt = ing\n",
            "word, target = the, jv\n",
            "corrupt = ing\n",
            "word, target = hospital, jv\n",
            "corrupt = rumah sakit\n",
            "original words = ['I', 'am', 'at', 'the', 'hospital']\n",
            "translation_mapping = ['jv', 'id', 'jv', 'jv', 'jv']\n",
            "translated words = ['aku', 'saya', 'ing', 'ing', 'rumah sakit']\n",
            "After corrupted by insertion_noise, the word aku became paku\n",
            "After corrupted by insertion_noise, the word saya became sayac\n",
            "insertion_noise generated the word zing, which is in the english or synthetic dictionary\n",
            "insertion_noise generated the word ling, which is in the english or synthetic dictionary\n",
            "After corrupted by insertion_noise, the word ing became zing\n",
            "insertion_noise generated the word ming, which is in the english or synthetic dictionary\n",
            "After corrupted by insertion_noise, the word ing became ming\n",
            "After corrupted by insertion_noise, the word rumah sakit became rumah sazkit\n",
            "After corrupted by substitute_noise, the word paku became pmku\n",
            "After corrupted by substitute_noise, the word sayac became saykc\n",
            "After corrupted by substitute_noise, the word zing became zbng\n",
            "After corrupted by substitute_noise, the word ming became ming\n",
            "After corrupted by substitute_noise, the word rumah sazkit became rummb sazkit\n",
            "Corrupted word: ['pmku', 'saykc', 'zbng', 'ming', 'rummb sazkit']\n"
          ]
        }
      ]
    },
    {
      "cell_type": "markdown",
      "source": [
        "### Order Swapping\n",
        "\n",
        "Not Started"
      ],
      "metadata": {
        "id": "1-U0BmrcaaCh"
      }
    },
    {
      "cell_type": "markdown",
      "source": [
        "## Creating Synthetic Language\n",
        "Prerequisites:\n",
        "1. Get an English dictionary \\[DONE]\n",
        "2. Get an English corpus (multi-domain) \\[DONE]\n",
        "3. Implement Composition \\[DONE]\n",
        "4. Get word-level bigram \\[DONE] (For Compounding)\n",
        "5. Get character level bigram or trigram \\[DONE] (For Noising)\n",
        "\n",
        "Noising:\n",
        "1. Shuffle randomly the bigram and trigram.\n",
        "  --> DO NOT SHUFFLE to different length.\n",
        "2. Remember the mapping.\n",
        "3. Output: bigram-mappers_eng.xlsx, trigram-mappers_eng.xlsx\n",
        "\n",
        "Compounding:\n",
        "1. Compound word-level bigram. Remember the mapping.\n",
        "2. Output: eng_compounding.xlsx\n"
      ],
      "metadata": {
        "id": "ilmY4NEf1MIu"
      }
    },
    {
      "cell_type": "markdown",
      "source": [
        "### Prerequisites"
      ],
      "metadata": {
        "id": "J6zw-Hkuqkp9"
      }
    },
    {
      "cell_type": "markdown",
      "source": [
        "### Noising\n",
        "Algorithm:\n",
        "1. Read a character level bigram or trigram xlsx.\n",
        "2. For every element with similar length in character (excludes spaces), swap randomly."
      ],
      "metadata": {
        "id": "fR3CkQK7S91o"
      }
    },
    {
      "cell_type": "code",
      "source": [
        "import pandas as pd\n",
        "\n",
        "bigram_df = pd.read_excel('bigram.xlsx')\n",
        "bigram_df = bigram_df[bigram_df['bi-gram'].apply(lambda x: '-' not in x)]\n",
        "bigram_dict = bigram_df.set_index('bi-gram')['freq'].to_dict()\n",
        "\n",
        "tuple_bigram = [(bigram, freq) for bigram, freq in bigram_dict.items()]\n",
        "tuple_bigram = sorted(tuple_bigram, key=lambda x: x[1], reverse=True)\n",
        "tuple_bigram_reverse = sorted(tuple_bigram, key=lambda x: x[1], reverse=False)\n",
        "\n",
        "bigram_inverse = {}\n",
        "for i in range(len(tuple_bigram)):\n",
        "  bigram_inverse[tuple_bigram[i][0]] = tuple_bigram_reverse[i][0]\n",
        "\n",
        "print(bigram_inverse)\n",
        "df = pd.DataFrame(list(bigram_inverse.items()), columns=['Original', 'Translation'])\n",
        "with pd.ExcelWriter('inversed_bigram_mapping.xlsx') as writer:\n",
        "  df.to_excel(writer, sheet_name='Dictionary', index=False)"
      ],
      "metadata": {
        "colab": {
          "base_uri": "https://localhost:8080/"
        },
        "id": "7GACrbzYTTq8",
        "outputId": "4f6155d4-ab0b-4b05-eac9-c7e49cbf85bd"
      },
      "execution_count": null,
      "outputs": [
        {
          "output_type": "stream",
          "name": "stdout",
          "text": [
            "{'er': 'Zh', 'in': 'Ey', 'ti': 'Zm', 'on': 'Gm', 'te': 'xz', 'al': 'qq', 'an': 'Yv', 'at': 'Yq', 'ic': 'Ih', 'en': 'Oy', 'is': 'If', 're': 'Hw', 'ra': 'Ie', 'ri': 'Xm', 'le': 'Xo', 'ro': 'Fj', 'st': 'Iv', 'ne': 'Qo', 'ar': 'Sb', 'li': 'Lh', 'es': 'Dz', 'nt': 'wv', 'or': 'Ss', 'un': 'Lw', 'it': 'Ds', 'la': 'vd', 'co': 'Sg', 'io': 'Md', 'ia': 'jk', 'to': 'Ew', 'ni': 'qr', 'ed': 'Bj', 'us': 'jt', 'ca': 'jb', 'ss': 'Mw', 'ta': 'Sz', 'ly': 'Jh', 'tr': 'Jw', 'de': 'Cc', 'ng': 'Ue', 'ma': 'qo', 'ou': 'fv', 'lo': 'Ej', 'ph': 'Kj', 'ch': 'wj', 'el': 'Kp', 'na': 'Tm', 'ol': 'Td', 'ac': 'vg', 'om': 'tx', 'no': 'jj', 'he': 'mq', 'et': 'Ks', 'di': 'Uv', 'th': 'xv', 'me': 'Ez', 'si': 'Uk', 'll': 'Up', 'se': 'jm', 'op': 'Ij', 'mi': 'Pf', 'pe': 'Ik', 'os': 'pq', 'id': 'Jy', 've': 'Of', 'il': 'Gw', 'hi': 'Mp', 'ce': 'qe', 'ho': 'zf', 'ea': 'Hs', 'as': 'kz', 'ul': 'Nh', 'nd': 'Oh', 'pr': 'Mc', 'ha': 'Sj', 'ab': 'jl', 'ur': 'Dj', 'ot': 'gv', 'bl': 'Hr', 'nc': 'Ng', 'po': 'vk', 'mo': 'Oi', 'ec': 'Oj', 'pa': 'zv', 'em': 'xk', 'oc': 'wq', 'og': 'qa', 'ge': 'jp', 'am': 'Aj', 'sh': 'Kw', 'ci': 'Oa', 'ap': 'Ef', 'ct': 'gj', 'pi': 'yj', 'ns': 'Mb', 'su': 'Eh', 'hy': 'Wr', 'sc': 'fj', 'da': 'Ek', 'ry': 'fz', 'um': 'Ua', 'ad': 'vc', 'so': 'Vl', 'ep': 'lx', 'rt': 'Uz', 'sm': 'zp', 'sp': 'pv', 'od': 'Mr', 'ty': 'vz', 'bi': 'cf', 'ut': 'hj', 'do': 'Ry', 'sa': 'Zw', 'ag': 'bz', 'gi': 'Dh', 'cr': 'zn', 'be': 'Dw', 'iv': 'zm', 'im': 'Hl', 'ip': 'qi', 'cu': 'vl', 'ke': 'Tl', 'ba': 'Tw', 'pl': 'Yp', 'rm': 'jd', 'ga': 'Eq', 'ae': 'yy', 'oo': 'cg', 'gr': 'yq', 'tu': 'mz', 'iz': 'zk', 'ir': 'Oz', 'ig': 'jn', 'mp': 'Ip', 'if': 'hq', 'lu': 'Uc', 'eo': 'vn', 'vi': 'Oo', 'oi': 'jh', 'ie': 'Ug', 'ee': 'zh', 'gl': 'Tz', 'fi': 'bq', 'ai': 'Wu', 'bo': 'Ud', 'ru': 'jy', 'rc': 'hz', 'br': 'lj', 'ov': 'Ou', 'ck': 'dq', 'rd': 'zw', 'rs': 'Cz', 'fo': 'Mn', 'rr': 'mj', 'qu': 'Iz', 'ze': 'rx', 'au': 'Aa', 'dr': 'Pn', 'ub': 'lq', 'ex': 'xg', 'tt': 'Aw', 'ob': 'zs', 'pt': 'zg', 'fe': 'Bd', 'cl': 'xr', 'go': 'Sv', 'va': 'Ll', 'hr': 'Tc', 'up': 'Cn', 'ib': 'vs', 'yl': 'zr', 'wa': 'Ei', 'eu': 'fk', 'uc': 'gz', 'rn': 'kv', 'ua': 'Sr', 'bu': 'Sn', 'yp': 'jr', 'ei': 'Ui', 'cy': 'Yi', 'mb': 'Ok', 'ow': 'zc', 'ui': 'tq', 'fu': 'xn', 'eg': 'Ow', 'ki': 'Ob', 'pu': 'Ct', 'mu': 'Ix', 'oa': 'Ub', 'fl': 'cb', 'rp': 'Ax', 'nn': 'Ao', 'ud': 'Om', 'ys': 'xq', 'gu': 'xd', 'lt': 'fc', 'ef': 'sz', 'wi': 'cw', 'tl': 'Ts', 'my': 'Wy', 'sl': 'Zu', 'ps': 'zt', 'wo': 'fg', 'nf': 'Ky', 'nu': 'wz', 'dl': 'Ay', 'we': 'fp', 'fa': 'Og', 'av': 'zb', 'du': 'Ut', 'sy': 'vv', 'pp': 'pj', 'mm': 'Ia', 'rg': 'Aq', 'ue': 'Eb', 'ak': 'Ea', 'ev': 'Gh', 'eb': 'cp', 'rb': 'Yo', 'ik': 'Eo', 'rl': 'Um', 'gn': 'bk', 'ym': 'zd', 'iu': 'Ov', 'hu': 'Ye', 'ff': 'Vu', 'oe': 'yv', 'gh': 'Us', 'yn': 'Ah', 'yc': 'Kn', 'ht': 'Ig', 'yt': 'Bh', 'gy': 'Im', 'za': 'Gn', 'yr': 'kj', 'fr': 'fd', 'sn': 'uw', 'cc': 'Az', 'ay': 'Eg', 'vo': 'Oe', 'of': 'mk', 'np': 'gc', 'ew': 'Kl', 'rh': 'hv', 'ug': 'Xa', 'xi': 'gk', 'ld': 'dz', 'py': 'Xy', 'ya': 'Io', 'ox': 'Ji', 'zo': 'Xi', 'nk': 'Ev', 'af': 'mg', 'hl': 'Sk', 'dy': 'kg', 'ny': 'uq', 'nr': 'Ox', 'ka': 'By', 'yo': 'fm', 'nl': 'Wo', 'rk': 'Dy', 'gg': 'Sm', 'yd': 'Ib', 'aw': 'fb', 'rv': 'fn', 'lp': 'xw', 'ok': 'Sq', 'tc': 'cd', 'dn': 'cz', 'dd': 'On', 'nv': 'lz', 'sk': 'dk', 'nm': 'xm', 'lm': 'Ul', 'rf': 'Id', 'nb': 'uu', 'ye': 'Et', 'eh': 'Ny', 'bb': 'fh', 'nh': 'Zy', 'ey': 'wg', 'wh': 'Af', 'ax': 'Ai', 'az': 'Ex', 'ah': 'Zi', 'lc': 'xb', 'ft': 'Ak', 'bs': 'fw', 'sw': 'xf', 'ju': 'Kr', 'xt': 'hk', 'ts': 'Nu', 'hn': 'Un', 'oh': 'pd', 'lv': 'wc', 'mn': 'Yu', 'kl': 'tj', 'xa': 'vr', 'yg': 'Xe', 'ln': 'Av', 'tw': 'Vo', 'Ca': 'Sw', 'ls': 'Wh', 'nw': 'Il', 'sq': 'cm', 'zi': 'kc', 'Ma': 'Kh', 'uo': 'kd', 'rw': 'Ze', 'ja': 'pg', 'yi': 'tk', 'oy': 'Ic', 'hm': 'gp', 'eq': 'Sl', 'dg': 'xl', 'tm': 'sj', 'gm': 'Ot', 'xy': 'pk', 'lg': 'Ed', 'ds': 'bg', 'fy': 'Od', 'xo': 'uj', 'wn': 'hg', 'xp': 'mt', 'uf': 'mv', 'lf': 'Bl', 'Ch': 'Em', 'je': 'md', 'lk': 'Oc', 'jo': 'fs', 'ko': 'yk', 'xe': 'tv', 'Sa': 'bw', 'oz': 'Fu', 'ix': 'wp', 'lb': 'mh', 'Pa': 'Es', 'tn': 'Ir', 'cs': 'Fo', 'tf': 'Fl', 'Co': 'Ku', 'kn': 'Fe', 'An': 'Ty', 'ky': 'Zo', 'wr': 'It', 'ii': 'mc', 'Ba': 'iy', 'ks': 'Du', 'by': 'Wi', 'xc': 'xs', 'ek': 'ww', 'dm': 'Gy', 'nz': 'Ps', 'Me': 'Op', 'pn': 'Ec', 'wl': 'Gi', 'Ar': 'Ae', 'He': 'uh', 'Mo': 'mr', 'nj': 'Ur', 'Ta': 'wu', 'Ph': 'Dr', 'nq': 'Za', 'Al': 'Ri', 'Pe': 'Ke', 'bd': 'Ya', 'zy': 'Pt', 'bt': 'mw', 'hw': 'Ki', 'dw': 'kp', 'dh': 'gf', 'uk': 'We', 'gs': 'Ly', 'yb': 'rz', 'iq': 'Ol', 'Po': 'hc', 'tb': 'zu', 'ms': 'sv', 'sf': 'Pu', 'ih': 'Ab', 'Di': 'kk', 'vu': 'Gl', 'zz': 'bf', 'Tr': 'hh', 'La': 'nx', 'Le': 'Qu', 'ku': 'ij', 'sb': 'Os', 'ao': 'bn', 'Mi': 'iw', 'kh': 'pc', 'uv': 'Hu', 'Se': 'dt', 'ml': 'Ep', 'ez': 'wf', 'Sc': 'gd', 'St': 'vy', 'ux': 'uy', 'Si': 'Fi', 'Ha': 'Fa', 'Te': 'bv', 'dv': 'rq', 'Be': 'hd', 'ej': 'Sy', 'Pr': 'At', 'Ne': 'Is', 'tp': 'wt', 'Ga': 'Jo', 'Br': 'td', 'Th': 'Cu', 'oq': 'Re', 'df': 'Vi', 'Da': 'In', 'Ce': 'wm', 'ws': 'En', 'Bo': 'Ru', 'lw': 'Ci', 'Ac': 'Ko', 'bc': 'dp', 'Am': 'Ad', 'yw': 'Py', 'kw': 'Au', 'hf': 'Bi', 'Sp': 'oj', 'kr': 'Er', 'aq': 'cq', 'aj': 'wk', 'Li': 'pf', 'Pl': 'bh', 'db': 'Ag', 'Ge': 'dc', 'ji': 'wy', 'De': 'Je', 'hb': 'Ni', 'Eu': 'Gu', 'Tu': 'yu', 'Ro': 'Va', 'Sh': 'rj', 'hs': 'Fr', 'Pi': 'Mu', 'As': 'lr', 'yx': 'Ve', 'Hy': 'gb', 'lh': 'hp', 'bj': 'xh', 'Ra': 'Ju', 'xu': 'gt', 'Na': 'bp', 'km': 'Cl', 'Cy': 'My', 'Ho': 'Lu', 'yh': 'El', 'So': 'tg', 'Lo': 'aa', 'cn': 'kf', 'sr': 'Su', 'Ja': 'zl', 'sg': 'pb', 'Ka': 'Bu', 'Gr': 'Do', 'kb': 'gw', 'bm': 'To', 'dj': 'Cr', 'wd': 'Ti', 'Hi': 'wb', 'sd': 'Ap', 'mf': 'No', 'yf': 'pw', 'Or': 'yz', 'Wa': 'uz', 'kt': 'Go', 'pm': 'Rh', 'tz': 'pm', 'uz': 'tz', 'Go': 'kt', 'Rh': 'Wa', 'yz': 'yf', 'pw': 'Or', 'No': 'Hi', 'wb': 'sd', 'Ap': 'mf', 'Ti': 'wd', 'gw': 'dj', 'To': 'bm', 'Cr': 'kb', 'Bu': 'Gr', 'Do': 'sg', 'pb': 'Ka', 'Su': 'Ja', 'zl': 'sr', 'tg': 'cn', 'aa': 'So', 'kf': 'Lo', 'El': 'Cy', 'Lu': 'Ho', 'My': 'yh', 'Cl': 'km', 'gt': 'xu', 'bp': 'Na', 'Ju': 'Ra', 'gb': 'bj', 'hp': 'Hy', 'xh': 'lh', 'Ve': 'yx', 'lr': 'As', 'Mu': 'Sh', 'rj': 'hs', 'Fr': 'Pi', 'Va': 'Tu', 'yu': 'Ro', 'Ni': 'Eu', 'Gu': 'De', 'wy': 'hb', 'Je': 'ji', 'dc': 'Ge', 'bh': 'db', 'Ag': 'Pl', 'wk': 'Li', 'pf': 'aj', 'cq': 'aq', 'oj': 'kr', 'Er': 'Sp', 'Py': 'hf', 'Au': 'kw', 'Bi': 'yw', 'Ad': 'bc', 'Ci': 'Am', 'Ko': 'Ac', 'dp': 'lw', 'En': 'Bo', 'Ru': 'Da', 'Re': 'Ce', 'Vi': 'ws', 'In': 'oq', 'wm': 'df', 'wt': 'Br', 'Jo': 'Th', 'td': 'tp', 'Cu': 'Ga', 'Is': 'Ne', 'At': 'ej', 'hd': 'Pr', 'Sy': 'Be', 'uy': 'dv', 'Fi': 'Te', 'Fa': 'Ha', 'bv': 'ux', 'rq': 'Si', 'gd': 'St', 'vy': 'Sc', 'Ep': 'ez', 'wf': 'ml', 'bn': 'uv', 'iw': 'Se', 'pc': 'Mi', 'Hu': 'kh', 'dt': 'ao', 'Os': 'sb', 'Qu': 'ku', 'ij': 'La', 'hh': 'Le', 'nx': 'Tr', 'Gl': 'vu', 'bf': 'zz', 'kk': 'Di', 'sv': 'ih', 'Pu': 'sf', 'Ab': 'ms', 'hc': 'tb', 'zu': 'Po', 'Ol': 'iq', 'rz': 'gs', 'gf': 'yb', 'We': 'uk', 'Ly': 'dw', 'mw': 'dh', 'Ki': 'hw', 'kp': 'bt', 'Ke': 'zy', 'Ya': 'bd', 'Pt': 'Pe', 'Za': 'nq', 'Ri': 'Al', 'mr': 'Ta', 'Ur': 'Ph', 'wu': 'nj', 'Dr': 'Mo', 'Ae': 'He', 'uh': 'Ar', 'Ec': 'wl', 'Gi': 'pn', 'Gy': 'Me', 'Ps': 'nz', 'Op': 'dm', 'ww': 'ek', 'xs': 'xc', 'mc': 'by', 'iy': 'ks', 'Du': 'Ba', 'Wi': 'ii', 'It': 'wr', 'Ty': 'ky', 'Zo': 'An', 'Ku': 'kn', 'Fe': 'Co', 'Ir': 'tf', 'Fo': 'tn', 'Fl': 'cs', 'mh': 'Pa', 'Es': 'lb', 'Fu': 'ix', 'wp': 'oz', 'bw': 'Sa', 'yk': 'ko', 'tv': 'xe', 'md': 'jo', 'Oc': 'lk', 'fs': 'je', 'Em': 'Ch', 'mv': 'lf', 'Bl': 'xp', 'bg': 'uf', 'Od': 'wn', 'uj': 'xo', 'hg': 'fy', 'mt': 'ds', 'pk': 'lg', 'Ed': 'gm', 'xl': 'xy', 'sj': 'tm', 'Ot': 'dg', 'tk': 'eq', 'Ic': 'hm', 'gp': 'oy', 'Sl': 'yi', 'Ze': 'ja', 'pg': 'rw', 'kd': 'Ma', 'kc': 'uo', 'Kh': 'zi', 'cm': 'sq', 'Vo': 'nw', 'Sw': 'ls', 'Wh': 'Ca', 'Il': 'tw', 'vr': 'ln', 'Xe': 'yg', 'Av': 'xa', 'Un': 'kl', 'pd': 'mn', 'wc': 'lv', 'Yu': 'oh', 'tj': 'hn', 'Kr': 'ts', 'hk': 'xt', 'Nu': 'ju', 'Ak': 'sw', 'fw': 'bs', 'xf': 'ft', 'Ai': 'lc', 'Ex': 'ah', 'Zi': 'az', 'xb': 'ax', 'Zy': 'wh', 'wg': 'ey', 'Af': 'nh', 'uu': 'bb', 'Et': 'eh', 'Ny': 'ye', 'fh': 'rf', 'xm': 'nb', 'Ul': 'lm', 'Id': 'nm', 'On': 'sk', 'lz': 'nv', 'dk': 'dd', 'fn': 'dn', 'xw': 'tc', 'Sq': 'ok', 'cd': 'lp', 'cz': 'rv', 'Ib': 'aw', 'fb': 'yd', 'Ox': 'gg', 'By': 'rk', 'fm': 'nl', 'Wo': 'yo', 'Dy': 'ka', 'Sm': 'nr', 'mg': 'ny', 'Sk': 'dy', 'kg': 'hl', 'uq': 'af', 'Xi': 'zo', 'Ev': 'nk', 'Io': 'ox', 'Ji': 'ya', 'Az': 'py', 'Eg': 'ld', 'Oe': 'xi', 'mk': 'ug', 'gc': 'ew', 'Kl': 'rh', 'hv': 'np', 'Xa': 'of', 'gk': 'vo', 'dz': 'ay', 'Xy': 'cc', 'kj': 'sn', 'fd': 'fr', 'uw': 'yr', 'yv': 'za', 'Us': 'gy', 'Ah': 'yt', 'Kn': 'ht', 'Ig': 'yc', 'Bh': 'yn', 'Im': 'gh', 'Gn': 'oe', 'zd': 'ff', 'Ov': 'hu', 'Ye': 'iu', 'Vu': 'ym', 'bk': 'gn', 'Gh': 'rl', 'cp': 'ik', 'Yo': 'rb', 'Eo': 'eb', 'Um': 'ev', 'zb': 'ue', 'Ut': 'ak', 'vv': 'rg', 'pj': 'mm', 'Ia': 'pp', 'Aq': 'sy', 'Eb': 'du', 'Ea': 'av', 'Zu': 'fa', 'zt': 'we', 'fg': 'dl', 'Ky': 'nu', 'wz': 'nf', 'Ay': 'wo', 'fp': 'ps', 'Og': 'sl', 'Om': 'my', 'xq': 'tl', 'xd': 'wi', 'fc': 'ef', 'sz': 'lt', 'cw': 'gu', 'Ts': 'ud', 'Wy': 'ys', 'Ok': 'nn', 'zc': 'rp', 'tq': 'fl', 'xn': 'oa', 'Ow': 'mu', 'Ob': 'pu', 'Ct': 'ki', 'Ix': 'eg', 'Ub': 'fu', 'cb': 'ui', 'Ax': 'ow', 'Ao': 'mb', 'vs': 'cy', 'zr': 'ei', 'Ei': 'yp', 'fk': 'bu', 'gz': 'ua', 'kv': 'rn', 'Sr': 'uc', 'Sn': 'eu', 'jr': 'wa', 'Ui': 'yl', 'Yi': 'ib', 'rx': 'up', 'Aa': 'hr', 'Pn': 'va', 'lq': 'go', 'xg': 'cl', 'Aw': 'fe', 'zs': 'pt', 'zg': 'ob', 'Bd': 'tt', 'xr': 'ex', 'Sv': 'ub', 'Ll': 'dr', 'Tc': 'au', 'Cn': 'ze', 'zh': 'qu', 'Tz': 'rr', 'bq': 'fo', 'Wu': 'rs', 'Ud': 'rd', 'jy': 'ck', 'hz': 'ov', 'lj': 'br', 'Ou': 'rc', 'dq': 'ru', 'zw': 'bo', 'Cz': 'ai', 'Mn': 'fi', 'mj': 'gl', 'Iz': 'ee', 'Ip': 'ie', 'hq': 'oi', 'Uc': 'vi', 'vn': 'eo', 'Oo': 'lu', 'jh': 'if', 'Ug': 'mp', 'cf': 'ig', 'hj': 'ir', 'Ry': 'iz', 'Zw': 'tu', 'bz': 'gr', 'Dh': 'oo', 'zn': 'ae', 'Dw': 'ga', 'zm': 'rm', 'Hl': 'pl', 'qi': 'ba', 'vl': 'ke', 'Tl': 'cu', 'Tw': 'ip', 'Yp': 'im', 'jd': 'iv', 'Eq': 'be', 'yy': 'cr', 'cg': 'gi', 'yq': 'ag', 'mz': 'sa', 'zk': 'do', 'Oz': 'ut', 'jn': 'bi', 'Aj': 'ty', 'Kw': 'od', 'Oa': 'sp', 'Ef': 'sm', 'gj': 'rt', 'yj': 'ep', 'Mb': 'so', 'Eh': 'ad', 'Wr': 'um', 'fj': 'ry', 'Ek': 'da', 'fz': 'sc', 'Ua': 'hy', 'vc': 'su', 'Vl': 'ns', 'lx': 'pi', 'Uz': 'ct', 'zp': 'ap', 'pv': 'ci', 'Mr': 'sh', 'vz': 'am', 'jj': 'ge', 'mq': 'og', 'Ks': 'oc', 'Uv': 'em', 'xv': 'pa', 'Ez': 'ec', 'Uk': 'mo', 'Up': 'po', 'jm': 'nc', 'Ij': 'bl', 'Pf': 'ot', 'Ik': 'ur', 'pq': 'ab', 'Jy': 'ha', 'Of': 'pr', 'Gw': 'nd', 'Mp': 'ul', 'qe': 'as', 'zf': 'ea', 'Hs': 'ho', 'kz': 'ce', 'Nh': 'hi', 'Oh': 'il', 'Mc': 've', 'Sj': 'id', 'jl': 'os', 'Dj': 'pe', 'gv': 'mi', 'Hr': 'op', 'Ng': 'se', 'vk': 'll', 'Oi': 'si', 'Oj': 'me', 'zv': 'th', 'xk': 'di', 'wq': 'he', 'qa': 'et', 'jp': 'no', 'Zh': 'om', 'Ey': 'ac', 'Zm': 'ol', 'Gm': 'na', 'xz': 'el', 'qq': 'ch', 'Yv': 'ph', 'Yq': 'lo', 'Ih': 'ou', 'Oy': 'ma', 'If': 'ng', 'Hw': 'de', 'Ie': 'tr', 'Xm': 'ly', 'Xo': 'ta', 'Fj': 'ss', 'Iv': 'ca', 'Qo': 'us', 'Sb': 'ed', 'Lh': 'ni', 'Dz': 'to', 'wv': 'ia', 'Ss': 'io', 'Lw': 'co', 'Ds': 'la', 'vd': 'it', 'Sg': 'un', 'Md': 'or', 'jk': 'nt', 'Ew': 'es', 'qr': 'li', 'Bj': 'ar', 'jt': 'ne', 'jb': 'st', 'Mw': 'ro', 'Sz': 'le', 'Jh': 'ri', 'Jw': 'ra', 'Cc': 're', 'Ue': 'is', 'qo': 'en', 'fv': 'ic', 'Ej': 'at', 'Kj': 'an', 'wj': 'al', 'Kp': 'te', 'Tm': 'on', 'Td': 'ti', 'vg': 'in', 'tx': 'er'}\n"
          ]
        }
      ]
    },
    {
      "cell_type": "code",
      "source": [
        "import pandas as pd\n",
        "\n",
        "trigram_df = pd.read_excel('trigram.xlsx')\n",
        "trigram_df = trigram_df.dropna()\n",
        "trigram_df = trigram_df[trigram_df['tri-gram'].apply(lambda x: '-' not in x and x is not None)]\n",
        "trigram_dict = trigram_df.set_index('tri-gram')['freq'].to_dict()\n",
        "\n",
        "tuple_trigram = [(trigram, freq) for trigram, freq in trigram_dict.items()]\n",
        "tuple_trigram = sorted(tuple_trigram, key=lambda x: x[1], reverse=True)\n",
        "tuple_trigram_reverse = sorted(tuple_trigram, key=lambda x: x[1], reverse=False)\n",
        "\n",
        "print(len(tuple_trigram), len(tuple_trigram_reverse))\n",
        "\n",
        "trigram_inverse = {}\n",
        "for i in range(len(tuple_trigram)):\n",
        "  trigram_inverse[tuple_trigram[i][0]] = tuple_trigram_reverse[i][0]\n",
        "\n",
        "df = pd.DataFrame(list(trigram_inverse.items()), columns=['Original', 'Translation'])\n",
        "with pd.ExcelWriter('inversed_trigram_mapping.xlsx') as writer:\n",
        "  df.to_excel(writer, sheet_name='Dictionary', index=False)\n",
        "\n",
        "print(trigram_inverse)"
      ],
      "metadata": {
        "colab": {
          "base_uri": "https://localhost:8080/"
        },
        "id": "Lntwj6g4WEaw",
        "outputId": "f50e05e1-6f68-4b7f-dc00-b79c21d7e54c"
      },
      "execution_count": null,
      "outputs": [
        {
          "output_type": "stream",
          "name": "stdout",
          "text": [
            "10782 10782\n",
            "{'ess': 'Zub', 'ion': 'sml', 'ter': 'agv', 'ati': 'xlo', 'ing': 'xfa', 'ous': 'zud', 'tio': 'yrb', 'nes': 'uur', 'ent': 'zui', 'ate': 'vss', 'tic': 'zyp', 'ica': 'Zut', 'ist': 'Zyt', 'ble': 'Wew', 'cal': 'Wet', 'ine': 'bzi', 'ant': 'Zmu', 'abl': 'jex', 'per': 'ezn', 'eri': 'ebk', 'all': 'smp', 'tra': 'hrl', 'ver': 'tyu', 'pre': 'zup', 'ali': 'pka', 'ite': 'abz', 'con': 'rlg', 'sti': 'ijk', 'ene': 'lzo', 'tri': 'buj', 'pro': 'Sef', 'ism': 'Seg', 'oni': 'Seh', 'nte': 'fci', 'ian': 'lfc', 'nti': 'mcy', 'rat': 'wej', 'ive': 'Ryu', 'tor': 'qib', 'lit': 'cbr', 'the': 'rbd', 'oph': 'zti', 'ero': 'Zoy', 'ste': 'Sae', 'lin': 'rgk', 'lat': 'zow', 'ric': 'rsb', 'tin': 'rfp', 'ari': 'Rym', 'man': 'zwa', 'era': 'Ryn', 'ato': 'Ryt', 'ast': 'wlp', 'res': 'Sba', 'der': 'cyi', 'ran': 'Zou', 'men': 'lzf', 'non': 'ahh', 'iti': 'uud', 'nde': 'zlo', 'ria': 'eee', 'str': 'Sao', 'ity': 'zuu', 'gra': 'Saq', 'int': 'Say', 'tro': 'wbw', 'ina': 'Weg', 'her': 'iil', 'les': 'mup', 'olo': 'mtu', 'mat': 'Wra', 'lly': 'waj', 'ome': 'Tue', 'rin': 'gtu', 'ted': 'Yau', 'pho': 'Tsh', 'ect': 'Tsc', 'ize': 'Tsa', 'ani': 'hje', 'und': 'dhj', 'ili': 'oez', 'ove': 'tyq', 'rop': 'yav', 'log': 'efg', 'ona': 'Yav', 'ere': 'eey', 'ula': 'lll', 'ial': 'wln', 'dis': 'tvy', 'ish': 'tuw', 'tiv': 'nzs', 'met': 'tuy', 'ost': 'Uau', 'chi': 'tuh', 'nic': 'Tzu', 'ace': 'Tzo', 'nat': 'Yao', 'sta': 'aoo', 'oma': 'ynw', 'ori': 'Yap', 'phi': 'Tym', 'cti': 'ykh', 'emi': 'Tyi', 'rap': 'fdi', 'one': 'Wre', 'lar': 'wyb', 'nis': 'Twi', 'ida': 'Twe', 'ele': 'Tuz', 'nal': 'Tuy', 'aph': 'wlb', 'est': 'nsj', 'for': 'trs', 'rac': 'mbt', 'sis': 'ujy', 'ide': 'jop', 'min': 'yms', 'ell': 'ghk', 'par': 'Yin', 'len': 'gch', 'nce': 'gyc', 'tal': 'efp', 'tis': 'Woy', 'gen': 'fcr', 'sto': 'efc', 'pha': 'gnd', 'rou': 'oow', 'cat': 'rfc', 'and': 'zke', 'erm': 'ezk', 'oli': 'zcu', 'nta': 'xtm', 'ill': 'xgu', 'oid': 'Tew', 'mon': 'Yil', 'ers': 'Yik', 'ris': 'mpd', 'eli': 'Tid', 'ngl': 'ggm', 'lic': 'azf', 'phy': 'Too', 'cul': 'Yel', 'lis': 'lsl', 'ini': 'mjo', 'tom': 'omj', 'red': 'luq', 'unc': 'Toh', 'ete': 'Toe', 'ral': 'Toa', 'lan': 'Tme', 'mic': 'Tli', 'rea': 'yex', 'tat': 'Tiw', 'anc': 'Tiv', 'ros': 'ezd', 'ten': 'rrl', 'lli': 'Tik', 'rom': 'Tie', 'com': 'Wro', 'rec': 'Wad', 'car': 'jno', 'rit': 'Vog', 'ard': 'wug', 'eni': 'wyp', 'art': 'Vea', 'che': 'Vaz', 'ara': 'Vay', 'lla': 'vaw', 'cha': 'zsa', 'enc': 'azs', 'osi': 'Vos', 'cho': 'Vad', 'pla': 'Vaa', 'eti': 'Xav', 'tho': 'xeb', 'oto': 'vrb', 'ort': 'Xem', 'ont': 'Wuc', 'mis': 'uvv', 'ath': 'wyo', 'ore': 'Voe', 'etr': 'Veg', 'nia': 'vax', 'ici': 'uok', 'act': 'viq', 'sub': 'Wun', 'gly': 'Vim', 'nit': 'Vij', 'hal': 'gyo', 'ron': 'ibg', 'ono': 'wyd', 'hor': 'iaj', 'ora': 'Wye', 'uns': 'Vet', 'ang': 'Wul', 'end': 'esz', 'ino': 'voa', 'rot': 'wym', 'ach': 'Voc', 'dia': 'Vod', 'eno': 'Wyo', 'shi': 'joz', 'tan': 'Vei', 'ogr': 'Veh', 'orm': 'Uvu', 'den': 'Uve', 'tur': 'Ute', 'ita': 'Usu', 'roc': 'Uno', 'ton': 'Unj', 'ndi': 'Une', 'hro': 'Und', 'unt': 'mpq', 'ret': 'Ump', 'ssi': 'Ulu', 'ala': 'Ult', 'ful': 'Ule', 'cro': 'Yad', 'ure': 'Uit', 'nco': 'Uir', 'ogi': 'hll', 'ntr': 'jei', 'ner': 'Ueu', 'las': 'Uds', 'sco': 'Udo', 'dae': 'nrr', 'age': 'pva', 'esi': 'Usp', 'idi': 'Usi', 'ary': 'Xim', 'ler': 'Xir', 'nth': 'Urd', 'mer': 'Urc', 'nch': 'pvo', 'hea': 'upq', 'bil': 'pge', 'thi': 'Xma', 'nin': 'pdi', 'ike': 'pci', 'cen': 'Unu', 'ale': 'Xos', 'por': 'euf', 'pol': 'suq', 'uri': 'Zeg', 'erc': 'Sox', 'iou': 'wlt', 'lia': 'ouh', 'ana': 'Zei', 'ren': 'gwr', 'hin': 'lsn', 'ema': 'vsb', 'hic': 'lvs', 'cor': 'Zek', 'sup': 'mnn', 'pos': 'mnc', 'eta': 'Zeo', 'qui': 'Soj', 'lik': 'Soi', 'tab': 'fok', 'arc': 'zeq', 'ium': 'Zer', 'ven': 'wbl', 'ose': 'ahb', 'lle': 'ovn', 'har': 'Sne', 'din': 'vvl', 'iat': 'xhl', 'col': 'Zee', 'ass': 'Zec', 'ami': 'oyg', 'omo': 'gyb', 'ind': 'dld', 'tar': 'lkj', 'bra': 'lfg', 'ely': 'emh', 'omi': 'woi', 'ert': 'abp', 'oth': 'tsr', 'ons': 'Ssi', 'ber': 'Zav', 'hip': 'Wog', 'tte': 'uax', 'llo': 'Wod', 'ole': 'pyp', 'sem': 'Woc', 'out': 'euw', 'nge': 'zko', 'ple': 'itd', 'fer': 'nxl', 'ura': 'Soy', 'kin': 'eyy', 'ger': 'Smo', 'han': 'Yoj', 'mor': 'lkt', 'ker': 'Sih', 'dro': 'gnp', 'spe': 'Wic', 'sio': 'gnb', 'rti': 'Sif', 'inc': 'egf', 'oun': 'Zil', 'ise': 'nnw', 'uni': 'wec', 'rch': 'Sht', 'cop': 'hku', 'rio': 'Shk', 'ear': 'ivz', 'tel': 'ldd', 'rid': 'ryv', 'oge': 'ffd', 'ico': 'ikd', 'dic': 'dgw', 'ain': 'ekw', 'abi': 'ahz', 'pat': 'Sga', 'ith': 'wii', 'thr': 'iik', 'pin': 'kej', 'cer': 'gph', 'oly': 'Zhm', 'edi': 'wgo', 'ram': 'ryr', 'cto': 'Sle', 'ane': 'vdo', 'tia': 'avd', 'can': 'Sky', 'eme': 'kyc', 'ser': 'kyb', 'rma': 'Sku', 'lac': 'vvi', 'oro': 'kii', 'ens': 'zix', 'pen': 'Sjo', 'ata': 'aak', 'eph': 'jaa', 'ope': 'Sja', 'upe': 'xhy', 'rep': 'zih', 'iza': 'siw', 'och': 'zik', 'eou': 'Zaq', 'ifi': 'yfz', 'ond': 'fzi', 'hem': 'aoy', 'ery': 'djy', 'hyp': 'Taj', 'eat': 'kgi', 'oti': 'hlt', 'tre': 'hkh', 'let': 'fyw', 'cra': 'Taf', 'err': 'Ypu', 'wor': 'Wau', 'ano': 'szo', 'sin': 'szl', 'phe': 'Sze', 'gic': 'sza', 'eco': 'odj', 'hon': 'Syu', 'ame': 'ynr', 'sit': 'Yqu', 'hil': 'lck', 'alo': 'asv', 'ola': 'qum', 'liz': 'hgl', 'opi': 'ruy', 'top': 'Teo', 'hol': 'vox', 'lec': 'Tej', 'isc': 'Yok', 'qua': 'uex', 'rab': 'Tee', 'imp': 'Yol', 'ern': 'tck', 'pic': 'woy', 'opo': 'Yom', 'ile': 'Tca', 'tit': 'Yon', 'una': 'Wov', 'ult': 'Taw', 'ead': 'vgh', 'nar': 'avg', 'ade': 'wlr', 'onc': 'ldq', 'led': 'rlt', 'ack': 'cmy', 'vel': 'ymt', 'are': 'Wax', 'los': 'Sye', 'odi': 'Sug', 'cou': 'ixm', 'mal': 'Won', 'unp': 'bzy', 'rad': 'yzg', 'ans': 'btw', 'adi': 'bsn', 'pal': 'Zad', 'emo': 'Zag', 'asi': 'zgo', 'spo': 'Zai', 'pti': 'Zak', 'hen': 'uvo', 'omy': 'bmy', 'fic': 'ctd', 'sne': 'bgw', 'nsi': 'bgu', 'pan': 'bgi', 'nto': 'Waz', 'cea': 'zaq', 'spi': 'aqq', 'ote': 'qqu', 'ood': 'suj', 'ust': 'sux', 'ory': 'usd', 'lor': 'gde', 'epi': 'msu', 'aci': 'Yue', 'oca': 'yuf', 'ibl': 'zbo', 'dly': 'Yui', 'ena': 'Sve', 'bly': 'Suy', 'sia': 'Suw', 'sen': 'Suu', 'ght': 'phb', 'rol': 'Yus', 'rth': 'zlu', 'roo': 'rbn', 'dne': 'fiu', 'rog': 'Sup', 'ong': 'Yvo', 'cin': 'phm', 'nom': 'phh', 'lou': 'jyl', 'sal': 'Run', 'ela': 'rlk', 'til': 'Err', 'nos': 'Ert', 'cia': 'Eru', 'mit': 'yht', 'tle': 'Esd', 'niz': 'Ese', 'cre': 'Esq', 'sly': 'Eta', 'des': 'Etn', 'nou': 'Eto', 'his': 'ucn', 'mar': 'Eue', 'igh': 'Eux', 'net': 'veq', 'icu': 'Ewe', 'eal': 'xde', 'ogy': 'Erp', 'odo': 'rgm', 'oce': 'fja', 'ean': 'Erg', 'chr': 'Ene', 'tha': 'Ens', 'rem': 'gnc', 'ich': 'gnr', 'atr': 'Enu', 'une': 'Eoa', 'som': 'Eod', 'iso': 'Eoh', 'osp': 'Eom', 'ifo': 'Eos', 'que': 'Eoz', 'ime': 'php', 'ode': 'Epo', 'zat': 'Epr', 'ras': 'Eps', 'rel': 'voq', 'ick': 'uul', 'erl': 'xeu', 'war': 'Exm', 'cep': 'xmo', 'oll': 'xru', 'omp': 'Feg', 'ins': 'Feh', 'rre': 'Fei', 'pri': 'eij', 'eth': 'Fem', 'ept': 'Feu', 'lea': 'ziw', 'rte': 'Fia', 'ned': 'ibd', 'cle': 'Fif', 'bro': 'Fig', 'ice': 'lmd', 'ock': 'Fim', 'dec': 'fiq', 'tol': 'zcl', 'app': 'Fiu', 'uti': 'Fec', 'iss': 'Fap', 'oco': 'Ezr', 'cri': 'Ext', 'mel': 'exz', 'unr': 'xzo', 'osc': 'Eye', 'tch': 'Eze', 'gin': 'fao', 'rmi': 'Fac', 'don': 'Fae', 'rdi': 'Fah', 'nst': 'Fak', 'att': 'cyw', 'edl': 'oao', 'sse': 'emg', 'amp': 'Ema', 'orp': 'khn', 'ave': 'Dup', 'aut': 'duy', 'hel': 'uyk', 'yst': 'ndv', 'lum': 'rfn', 'aco': 'Dwi', 'scr': 'Dwy', 'ama': 'Dyl', 'rag': 'ysf', 'hyd': 'sgn', 'erp': 'smn', 'ake': 'ysr', 'loc': 'Dys', 'sha': 'Dzu', 'rus': 'Duk', 'toc': 'duj', 'uli': 'Dui', 'sce': 'hky', 'ito': 'bts', 'sca': 'Dov', 'nda': 'wsa', 'thy': 'Dox', 'opa': 'Doy', 'ndr': 'wge', 'cel': 'Dri', 'son': 'Duh', 'lio': 'Dsc', 'she': 'ltj', 'uto': 'bhg', 'agi': 'ucd', 'gis': 'Dud', 'edn': 'Due', 'dom': 'Dug', 'esc': 'Eat', 'iac': 'Egl', 'bar': 'Ego', 'eve': 'Egr', 'rai': 'Eha', 'nre': 'Eic', 'elo': 'Eik', 'neu': 'Eil', 'tos': 'Ein', 'ydr': 'Eja', 'ien': 'Eko', 'lus': 'kph', 'uro': 'Eld', 'dra': 'lkd', 'eae': 'Elm', 'isi': 'Elr', 'erv': 'Elw', 'rer': 'ggp', 'rse': 'ggb', 'tru': 'Ege', 'ife': 'Eci', 'usl': 'bbm', 'ily': 'Ebo', 'tes': 'Ebu', 'orr': 'Ecb', 'lop': 'cbl', 'hot': 'ecg', 'cla': 'cgo', 'arr': 'Eck', 'nne': 'Efi', 'sol': 'Ecl', 'ngi': 'ecm', 'aro': 'cmn', 'nse': 'Eco', 'dal': 'Edg', 'hyl': 'Edn', 'ncy': 'ixu', 'ila': 'Doo', 'gal': 'Haf', 'sur': 'fny', 'ett': 'ikw', 'ung': 'lsf', 'acc': 'mza', 'orn': 'sry', 'dit': 'npf', 'ull': 'ikv', 'ree': 'wkl', 'lab': 'zna', 'ilo': 'dph', 'sul': 'rtq', 'cit': 'emr', 'rif': 'Heh', 'ded': 'lmh', 'oss': 'Hac', 'eur': 'Fjo', 'nop': 'ssq', 'lam': 'mgr', 'rig': 'ivn', 'ype': 'szy', 'het': 'grr', 'dle': 'yaq', 'ann': 'Gub', 'dio': 'guc', 'tac': 'ujr', 'lig': 'Gum', 'hia': 'uyd', 'mia': 'Gya', 'ota': 'ymk', 'mul': 'mkh', 'ndo': 'yrf', 'ref': 'ytl', 'sma': 'ihd', 'ima': 'zeg', 'cke': 'Heu', 'cur': 'opv', 'gon': 'pvi', 'tly': 'rsf', 'nab': 'wff', 'unf': 'Hoy', 'ceo': 'Hri', 'acr': 'Hro', 'rip': 'Hsi', 'nac': 'Hsu', 'eto': 'Huc', 'otr': 'Hue', 'bri': 'Hui', 'eas': 'mhu', 'icr': 'Hup', 'opl': 'Hux', 'ire': 'uxl', 'eca': 'ofp', 'mou': 'ysw', 'ivi': 'lmb', 'lot': 'ndq', 'pit': 'Hev', 'iol': 'xaf', 'rie': 'xav', 'ase': 'xok', 'tif': 'xoy', 'cid': 'Hia', 'gan': 'Hid', 'ord': 'Hiv', 'pte': 'Hok', 'low': 'Hle', 'try': 'dhs', 'eci': 'Hlo', 'ier': 'xee', 'lid': 'obg', 'cos': 'Hod', 'sor': 'pev', 'gat': 'yim', 'sic': 'Gok', 'eed': 'Fom', 'hom': 'Fot', 'imi': 'xgl', 'ede': 'mdl', 'hed': 'mdn', 'ntl': 'eyj', 'erb': 'hsd', 'rmo': 'iul', 'ril': 'Fue', 'ext': 'Fui', 'pse': 'fuj', 'nsu': 'ulz', 'dri': 'fuy', 'med': 'zzb', 'ail': 'fyk', 'pis': 'fyr', 'sel': 'iic', 'rim': 'Fok', 'hou': 'uxr', 'rri': 'vob', 'erg': 'axd', 'rph': 'xdr', 'san': 'Fli', 'ngu': 'ixw', 'lne': 'kyh', 'squ': 'uxm', 'sci': 'xro', 'mpe': 'nng', 'tog': 'uxw', 'eud': 'Fly', 'mph': 'csl', 'ese': 'Fod', 'erf': 'hnl', 'riz': 'Foe', 'pon': 'Goh', 'eso': 'ntk', 'sch': 'bbs', 'mas': 'Gie', 'lon': 'Gif', 'ped': 'ltt', 'use': 'Gim', 'tem': 'Gip', 'pul': 'tks', 'win': 'Giu', 'oot': 'Gme', 'bac': 'oaj', 'usi': 'Goc', 'ual': 'Gog', 'unb': 'Ghu', 'cta': 'gez', 'dem': 'vao', 'usn': 'vyu', 'bul': 'abg', 'ysi': 'Gaf', 'tid': 'fky', 'ute': 'Gah', 'val': 'wsn', 'pod': 'Gap', 'pec': 'rhw', 'rni': 'wby', 'bla': 'eoo', 'ega': 'wkh', 'amb': 'ayy', 'not': 'ktw', 'inf': 'eej', 'ulo': 'Geg', 'sil': 'vev', 'pli': 'aox', 'siv': 'eyk', 'hoo': 'Rul', 'mac': 'Awe', 'vis': 'Aws', 'mid': 'Axe', 'apo': 'xel', 'del': 'Axm', 'glo': 'xmi', 'opt': 'Axu', 'our': 'Aya', 'rod': 'Ayd', 'mil': 'Ayl', 'gle': 'Ayr', 'tim': 'Ayt', 'cap': 'Ayu', 'noc': 'Ayy', 'ein': 'yyu', 'sid': 'Azh', 'atu': 'Awo', 'obi': 'puh', 'nol': 'Biv', 'bit': 'vsh', 'bal': 'rzr', 'lti': 'zru', 'sed': 'hko', 'seu': 'yxy', 'itu': 'Asu', 'bat': 'Asy', 'mes': 'Atf', 'hos': 'Atk', 'vin': 'Atn', 'gne': 'Atu', 'dea': 'Aue', 'coc': 'Auk', 'reg': 'Aun', 'mme': 'xoh', 'udo': 'Avs', 'ppe': 'byd', 'nci': 'byf', 'ago': 'zbi', 'emp': 'nzp', 'amo': 'zpi', 'mot': 'ztr', 'rco': 'Bep', 'nid': 'Beu', 'tyl': 'Bev', 'chy': 'ziq', 'aca': 'ezp', 'sph': 'zpo', 'rev': 'ojp', 'ctr': 'Bic', 'tai': 'gsg', 'pra': 'llj', 'cis': 'lji', 'spa': 'nzu', 'lem': 'Bio', 'isp': 'nzb', 'ssa': 'duq', 'rob': 'Bej', 'bel': 'nuy', 'arb': 'tzn', 'tou': 'Baf', 'ypo': 'fyo', 'itt': 'jre', 'isa': 'jri', 'ash': 'nff', 'lif': 'nxr', 'hag': 'Bei', 'pto': 'xri', 'umb': 'rkc', 'wis': 'rmk', 'rei': 'wds', 'nor': 'Baw', 'pet': 'Baz', 'aur': 'edq', 'erd': 'zaw', 'gia': 'zav', 'hys': 'ajh', 'ign': 'Afi', 'ech': 'kaa', 'mpl': 'Aft', 'cte': 'Afz', 'rna': 'Agd', 'flo': 'Agk', 'equ': 'aoz', 'nif': 'Agy', 'hop': 'aai', 'ban': 'Aha', 'ict': 'Ahi', 'nni': 'luw', 'ylo': 'Ahn', 'osa': 'hnf', 'amm': 'iaw', 'unm': 'Ain', 'omm': 'Afg', 'rme': 'Afe', 'syn': 'Afa', 'cli': 'smh', 'bli': 'Aan', 'rcu': 'abf', 'itr': 'Abh', 'ben': 'Abl', 'iri': 'bmh', 'fla': 'bsf', 'roi': 'bsv', 'arm': 'Ael', 'clo': 'abv', 'sho': 'Aby', 'ors': 'Acl', 'avi': 'Acn', 'uin': 'wlu', 'duc': 'Aed', 'scu': 'Aix', 'gar': 'Aju', 'sop': 'rmg', 'ape': 'zga', 'llu': 'Aoi', 'mpa': 'Aon', 'mak': 'bhr', 'oso': 'Apn', 'bin': 'poj', 'reo': 'npt', 'sat': 'hci', 'olu': 'hhu', 'iva': 'chj', 'cio': 'hjo', 'nel': 'hsn', 'rli': 'hsw', 'leg': 'hsy', 'yll': 'rfv', 'dat': 'fve', 'ule': 'ufy', 'alt': 'Arh', 'ocy': 'usv', 'exp': 'iej', 'rsh': 'Ake', 'tti': 'Akw', 'gre': 'fnu', 'sso': 'efz', 'yli': 'phz', 'bor': 'faj', 'reb': 'ljo', 'lim': 'diq', 'fra': 'yhm', 'epa': 'xou', 'enn': 'mhr', 'dan': 'Amr', 'onf': 'mtm', 'oga': 'amv', 'ige': 'Anj', 'pot': 'rdg', 'lut': 'xby', 'owe': 'ogv', 'ork': 'lng', 'ido': 'byy', 'rsi': 'yye', 'uct': 'Cud', 'hth': 'Cue', 'wee': 'Cui', 'tea': 'Cuj', 'tas': 'cuk', 'sar': 'Cuo', 'old': 'ewu', 'bre': 'Cuv', 'ych': 'Cuz', 'ony': 'uzc', 'epr': 'zce', 'lph': 'cwm', 'rum': 'Cyb', 'typ': 'cyk', 'ece': 'Cua', 'umi': 'wdw', 'mos': 'ssj', 'mus': 'gwh', 'roa': 'Coh', 'asc': 'cwe', 'rge': 'bwr', 'phr': 'rmm', 'arp': 'pym', 'fin': 'psb', 'ibi': 'wpu', 'ipe': 'owq', 'lag': 'xsw', 'hit': 'Coy', 'npr': 'zey', 'rib': 'zyc', 'woo': 'zyw', 'chl': 'mcu', 'vit': 'ekf', 'row': 'yml', 'hyt': 'Cyz', 'ank': 'evn', 'ars': 'evv', 'rne': 'Dew', 'ied': 'Dex', 'pel': 'Dez', 'aki': 'Dha', 'rra': 'Dhe', 'hes': 'Dhr', 'nog': 'Dhu', 'mol': 'Dii', 'nio': 'ylq', 'plo': 'ptm', 'stu': 'svu', 'nam': 'Diu', 'lep': 'Div', 'esp': 'Dja', 'tiz': 'Dju', 'wer': 'Dob', 'cum': 'Det', 'bas': 'Dek', 'nap': 'ehw', 'fis': 'Day', 'ush': 'fyd', 'emb': 'Daf', 'oof': 'mkj', 'aff': 'rbh', 'nea': 'ktz', 'gas': 'Daz', 'rta': 'ehk', 'eac': 'dce', 'uth': 'Dea', 'cet': 'emj', 'ios': 'mju', 'pas': 'Dee', 'cot': 'Deg', 'sec': 'ehg', 'nas': 'Cog', 'udi': 'ksf', 'evi': 'yzu', 'oin': 'dza', 'hio': 'Buf', 'iph': 'ugp', 'gro': 'rgg', 'lip': 'rrg', 'ecu': 'rrk', 'tag': 'ttg', 'ocr': 'Buy', 'ham': 'zzg', 'cus': 'zgl', 'ira': 'zzw', 'vol': 'Byn', 'ott': 'Bys', 'bur': 'byb', 'pyr': 'omv', 'rde': 'nyv', 'irr': 'Bjo', 'uma': 'uwb', 'nex': 'zkr', 'rav': 'wgu', 'rro': 'bwh', 'bol': 'gij', 'iot': 'byx', 'arg': 'otj', 'mpo': 'mss', 'yro': 'ylk', 'nso': 'wlm', 'hab': 'oxk', 'aga': 'xke', 'flu': 'dyu', 'oba': 'kkl', 'hri': 'afh', 'fle': 'jep', 'pir': 'gyw', 'alc': 'lmn', 'pil': 'ldk', 'nem': 'suy', 'tot': 'nhw', 'api': 'hiw', 'ulp': 'Chn', 'eab': 'oyr', 'efu': 'ukc', 'uta': 'Chw', 'ipp': 'Cip', 'lom': 'umz', 'bio': 'mze', 'rrh': 'Civ', 'sib': 'cix', 'arl': 'kdi', 'gna': 'uxs', 'alm': 'spt', 'iga': 'yoq', 'ebr': 'ihf', 'tet': 'Cez', 'ipa': 'eyx', 'mag': 'lxy', 'eol': 'mny', 'ctu': 'byu', 'smo': 'mpg', 'noi': 'ivl', 'urn': 'vly', 'van': 'Caq', 'ify': 'olx', 'ink': 'szi', 'utt': 'ltd', 'nen': 'viy', 'fac': 'awq', 'abo': 'Cco', 'ffe': 'Cea', 'loi': 'Cei', 'iop': 'llv', 'erw': 'Huy', 'ume': 'uyg', 'soc': 'Huz', 'ics': 'ddn', 'cas': 'Oec', 'nsp': 'Ofe', 'tec': 'fgr', 'air': 'fsp', 'oxi': 'Ofo', 'inn': 'Oga', 'nsa': 'Ogb', 'ndu': 'Ogh', 'yph': 'Ogl', 'gam': 'Ogo', 'nsh': 'Ogp', 'leu': 'Oid', 'sty': 'Oir', 'ugh': 'Oka', 'inu': 'ofd', 'riu': 'Ods', 'rbi': 'xph', 'uit': 'Ocr', 'nna': 'Nut', 'mma': 'Nyd', 'rgi': 'Nyo', 'tib': 'Nyr', 'iro': 'Oan', 'agg': 'Oba', 'eop': 'Obb', 'dge': 'Obe', 'kle': 'Obi', 'tam': 'Obr', 'smi': 'Oci', 'vat': 'Ocn', 'mbr': 'Oco', 'oct': 'ocq', 'aft': 'Oku', 'uat': 'Olg', 'iar': 'Oll', 'lys': 'Oln', 'pur': 'Osk', 'iab': 'Osp', 'yto': 'Ote', 'eis': 'Oty', 'oda': 'Oui', 'pid': 'Out', 'nve': 'tby', 'ias': 'tgn', 'rle': 'Ove', 'toi': 'vof', 'psi': 'Ovo', 'tip': 'Ovu', 'ffi': 'wlg', 'nca': 'wlh', 'rbo': 'wtc', 'tap': 'xey', 'gul': 'vud', 'rov': 'scn', 'sac': 'Osa', 'nim': 'Oos', 'imo': 'Ols', 'tee': 'yko', 'oci': 'Omn', 'nga': 'One', 'mbe': 'Onm', 'oon': 'Ony', 'sab': 'Oom', 'apa': 'Oot', 'leo': 'ziv', 'psy': 'Opo', 'uff': 'Opp', 'hlo': 'rfg', 'zer': 'Ors', 'gui': 'Oru', 'dor': 'nuq', 'nct': 'Nun', 'tne': 'Nul', 'neo': 'Nad', 'lie': 'tsj', 'omb': 'mux', 'tig': 'Muy', 'sth': 'uys', 'dac': 'uzh', 'own': 'zhi', 'ces': 'Muz', 'vic': 'Mwa', 'whi': 'Mye', 'ibr': 'Myi', 'ado': 'yif', 'nec': 'mym', 'ymp': 'Myn', 'rce': 'ahf', 'cil': 'Mup', 'rga': 'Muo', 'gel': 'mua', 'bon': 'Mox', 'cut': 'Mpa', 'een': 'Mpo', 'ada': 'Mrs', 'hra': 'Mru', 'epe': 'mub', 'uck': 'jta', 'bea': 'Mud', 'axi': 'Mue', 'uch': 'uez', 'unh': 'muh', 'occ': 'Mui', 'asm': 'muj', 'oat': 'ujt', 'sig': 'agk', 'bia': 'Nuk', 'def': 'Naj', 'yan': 'Niq', 'tta': 'iua', 'onv': 'Niz', 'ook': 'Nod', 'pop': 'Nog', 'dep': 'Noh', 'yri': 'Noo', 'geo': 'Nop', 'uis': 'fye', 'obl': 'Nou', 'eer': 'ovc', 'gge': 'Now', 'cru': 'Noz', 'igi': 'Nug', 'acu': 'Nih', 'ois': 'htg', 'aly': 'vli', 'coa': 'mgi', 'git': 'Nal', 'doc': 'zii', 'ngo': 'kyo', 'oty': 'Nee', 'lde': 'jdi', 'adr': 'evl', 'aln': 'Nek', 'yle': 'Nen', 'hum': 'xtn', 'ipl': 'Ngo', 'tua': 'Ngu', 'hee': 'Nha', 'fie': 'Nhe', 'ark': 'xla', 'ump': 'oxr', 'opy': 'uzv', 'hat': 'qas', 'arn': 'qin', 'sep': 'Qoh', 'mbo': 'qop', 'lad': 'lmp', 'alu': 'sij', 'ckl': 'qub', 'pea': 'Qun', 'uar': 'Quo', 'ecr': 'Qur', 'riv': 'xre', 'aba': 'yvu', 'hid': 'Psh', 'ool': 'pss', 'spl': 'syk', 'gue': 'ykt', 'urr': 'Pta', 'cip': 'goq', 'oxy': 'Pud', 'ced': 'Puf', 'eum': 'Puj', 'loo': 'Puk', 'bus': 'lpb', 'esh': 'ulq', 'nli': 'Pum', 'yth': 'Put', 'bed': 'pux', 'dar': 'Pyl', 'cyt': 'pyv', 'ruc': 'Raa', 'unl': 'ajb', 'pac': 'jba', 'ovi': 'ajp', 'lai': 'hmp', 'exa': 'nnc', 'ipo': 'Rio', 'syc': 'skp', 'unw': 'ouy', 'gri': 'Roh', 'rso': 'Roi', 'ngn': 'Rok', 'rhe': 'ftr', 'agr': 'ugy', 'bic': 'wty', 'mpr': 'Rua', 'rpo': 'Rue', 'lob': 'Ruf', 'ged': 'Ruk', 'ude': 'hml', 'oar': 'Rhu', 'way': 'zau', 'xtr': 'hsg', 'heo': 'Rak', 'urg': 'Rao', 'dul': 'Raz', 'cry': 'eaa', 'imm': 'Rea', 'tul': 'bln', 'rry': 'Ref', 'pht': 'Rej', 'rba': 'Rex', 'ncr': 'Rek', 'nfe': 'ezv', 'exc': 'zvo', 'rvi': 'ndz', 'dol': 'dzi', 'oke': 'Req', 'nfo': 'vui', 'asp': 'doj', 'mod': 'ptb', 'nae': 'gml', 'ski': 'cij', 'apt': 'wkr', 'bes': 'Pax', 'sla': 'iub', 'lve': 'Paz', 'edo': 'egw', 'org': 'Pei', 'gla': 'Pem', 'dab': 'ntt', 'irc': 'Peq', 'lyp': 'rcn', 'epo': 'ovs', 'atc': 'Pey', 'plu': 'Pfa', 'ket': 'Pfe', 'rst': 'nxe', 'mmo': 'aoh', 'gli': 'Paq', 'ubi': 'Pao', 'ncu': 'npn', 'eep': 'xyi', 'lae': 'xyw', 'gio': 'Oya', 'teo': 'Ozi', 'cir': 'Ozo', 'orc': 'nmn', 'sim': 'aau', 'fol': 'hyv', 'coe': 'Paj', 'ops': 'khp', 'has': 'ihn', 'hir': 'lmc', 'tli': 'lmf', 'rar': 'gox', 'eck': 'idj', 'ava': 'ixn', 'ngr': 'Pig', 'ody': 'yvo', 'hob': 'ntv', 'dip': 'gye', 'ken': 'opj', 'egi': 'tpn', 'rly': 'stx', 'eda': 'txy', 'but': 'otd', 'tum': 'Pov', 'hae': 'Pow', 'mbi': 'puu', 'nle': 'aez', 'ibe': 'mnt', 'blo': 'ssg', 'run': 'cek', 'hle': 'ocz', 'sea': 'ctt', 'ves': 'cyh', 'yla': 'Pob', 'ror': 'uow', 'agn': 'gsn', 'rve': 'ncp', 'uci': 'cpi', 'eam': 'njr', 'cam': 'qur', 'ocu': 'rrm', 'opp': 'shq', 'oug': 'nxt', 'inv': 'ttd', 'ehe': 'yku', 'nad': 'owj', 'ubs': 'wjo', 'nsc': 'wwr', 'div': 'gdr', 'rsa': 'ynl', 'add': 'wyr', 'cab': 'hwy', 'ova': 'joj', 'opr': 'Joo', 'ube': 'Jop', 'hur': 'Jot', 'nag': 'Jou', 'mop': 'wpy', 'nfi': 'Joy', 'yna': 'Joz', 'iom': 'Juc', 'unn': 'Jue', 'exi': 'juf', 'rci': 'Juh', 'eva': 'Jup', 'ogl': 'Juy', 'spr': 'Juz', 'uno': 'Jwa', 'efi': 'Jol', 'hne': 'Jod', 'raf': 'Mop', 'nqu': 'dhp', 'mba': 'zre', 'diu': 'jhe', 'gua': 'Jhu', 'edu': 'Jia', 'hre': 'ibm', 'eng': 'jih', 'mmi': 'Jil', 'hod': 'imj', 'ntu': 'jiq', 'mog': 'Jir', 'eut': 'Jis', 'lte': 'Jit', 'nod': 'jix', 'gma': 'Job', 'dos': 'aok', 'alg': 'Kia', 'iff': 'Kic', 'rof': 'Kih', 'ncl': 'kuy', 'rha': 'lnh', 'var': 'lnm', 'hus': 'lnr', 'ndl': 'hax', 'ipt': 'axk', 'ked': 'xki', 'mbl': 'iyi', 'ppo': 'Kje', 'boa': 'Klu', 'zoo': 'obk', 'yti': 'zmi', 'via': 'azm', 'aer': 'Khw', 'hec': 'Kep', 'iet': 'Kau', 'pia': 'Kav', 'thu': 'ayv', 'cys': 'zuh', 'ipi': 'Kea', 'egr': 'Kek', 'lod': 'ekc', 'dre': 'ryk', 'yte': 'khv', 'uen': 'Ket', 'zed': 'Keu', 'cac': 'vut', 'lau': 'Kew', 'ebo': 'vzu', 'chu': 'Khl', 'abe': 'Khm', 'gea': 'jeq', 'hap': 'Jel', 'nme': 'dcy', 'uss': 'gdy', 'chn': 'Igl', 'hoc': 'Igo', 'obe': 'Ihl', 'coi': 'iiw', 'reh': 'ijm', 'bou': 'Ike', 'tub': 'Ikh', 'gno': 'Ila', 'aus': 'Ilp', 'stl': 'guk', 'nob': 'Inj', 'gni': 'nnk', 'set': 'Inq', 'bis': 'erx', 'ogn': 'Igd', 'sym': 'Igb', 'imb': 'Iga', 'aul': 'Iam', 'dop': 'zva', 'ege': 'Hwa', 'dif': 'hyk', 'hog': 'mnb', 'fec': 'Ibo', 'urs': 'Ifu', 'vil': 'Idd', 'cog': 'Ide', 'igo': 'Idu', 'anu': 'Ier', 'dig': 'rxy', 'zin': 'Iod', 'nke': 'Iva', 'ebe': 'vyf', 'fil': 'Iza', 'eel': 'Izd', 'wit': 'zdu', 'shl': 'Izu', 'sli': 'Izz', 'yma': 'Jaa', 'rys': 'ajm', 'aso': 'Jal', 'die': 'jaq', 'eet': 'Jaz', 'igr': 'Itz', 'pou': 'Itu', 'eak': 'Iti', 'sau': 'Irf', 'rda': 'Ios', 'lyc': 'Ipa', 'yco': 'Ipi', 'ttl': 'Ipo', 'lap': 'qia', 'ogo': 'Irm', 'cif': 'tcz', 'ddl': 'Irp', 'tie': 'Irw', 'evo': 'Isf', 'nep': 'smd', 'asa': 'Isn', 'fri': 'vni', 'hym': 'Isw', 'ewa': 'Koa', 'ssn': 'Kob', 'dow': 'rkk', 'orb': 'Maa', 'hly': 'cbe', 'ycl': 'acd', 'fro': 'cdu', 'pie': 'acf', 'rca': 'dhv', 'usc': 'icd', 'bir': 'idk', 'poi': 'ajl', 'ior': 'jli', 'edr': 'khz', 'ioc': 'ozh', 'boo': 'zho', 'bst': 'nxm', 'ges': 'nxw', 'oan': 'zas', 'abb': 'Maq', 'onn': 'Luw', 'rva': 'owv', 'lav': 'wvi', 'uad': 'ucb', 'ske': 'Lue', 'det': 'Luf', 'fre': 'Luo', 'ppr': 'Luz', 'mni': 'Lwo', 'rew': 'Lya', 'off': 'Lye', 'nma': 'ymh', 'pun': 'mhp', 'tfu': 'Lyp', 'onp': 'kge', 'rpe': 'asj', 'mun': 'iqa', 'lee': 'sji', 'lib': 'lkb', 'erh': 'lzb', 'tun': 'zbr', 'tox': 'nxs', 'shn': 'iqr', 'lei': 'qra', 'nul': 'irz', 'ald': 'hwu', 'tus': 'isz', 'uil': 'izm', 'iqu': 'izp', 'oom': 'zpa', 'hiz': 'izr', 'num': 'Moj', 'nfl': 'ijl', 'eru': 'Mev', 'ltr': 'Meu', 'dou': 'ttb', 'urb': 'Mav', 'enu': 'xix', 'cco': 'azh', 'iog': 'Mba', 'cau': 'Mci', 'uln': 'Mck', 'luc': 'Mde', 'pta': 'yln', 'yce': 'Mea', 'ewo': 'Meb', 'azo': 'gmh', 'umo': 'hrd', 'ssu': 'Meo', 'ird': 'srs', 'aeo': 'esv', 'ocl': 'gcl', 'nfr': 'Kog', 'rho': 'cmu', 'upr': 'dzu', 'rhi': 'Kue', 'esu': 'Kuf', 'oil': 'Kuh', 'gor': 'uhn', 'ryp': 'Kui', 'tto': 'Kuo', 'ssl': 'pff', 'rtu': 'kuv', 'nvi': 'Kuv', 'alv': 'Kyb', 'mpi': 'Kyp', 'efe': 'Kyr', 'lex': 'kyt', 'ait': 'Kud', 'leb': 'Kuc', 'nno': 'zto', 'ozo': 'Kow', 'cki': 'hlr', 'moc': 'koj', 'eba': 'Koj', 'lyt': 'daj', 'lym': 'lkk', 'fus': 'zky', 'oel': 'Kou', 'onr': 'koy', 'oad': 'szt', 'ais': 'koz', 'mea': 'Kpu', 'twi': 'hnk', 'dde': 'mmh', 'pne': 'Krz', 'poc': 'ysz', 'uco': 'acw', 'lur': 'Loe', 'alk': 'Laf', 'cci': 'zgh', 'nus': 'Lho', 'sum': 'ibk', 'enz': 'Lif', 'niu': 'Lih', 'fte': 'lnl', 'ypt': 'Liq', 'did': 'Lir', 'eon': 'itv', 'ryo': 'Liu', 'rdo': 'iuk', 'dil': 'Liy', 'aud': 'Llo', 'onl': 'Llu', 'lay': 'evs', 'mpt': 'ezg', 'tod': 'Lez', 'ses': 'Lex', 'alp': 'afb', 'whe': 'hnd', 'hei': 'bsd', 'ppi': 'gsy', 'uou': 'awz', 'elt': 'Lay', 'umm': 'zyh', 'sus': 'zyi', 'nfa': 'afc', 'dyn': 'Leh', 'wea': 'hrb', 'nbe': 'hrm', 'ccu': 'Lel', 'iod': 'esg', 'nil': 'sgh', 'oic': 'siy', 'ulu': 'yzz', 'dli': 'poq', 'cie': 'Etc', 'hyr': 'rlc', 'unk': 'Akr', 'yme': 'lkc', 'rpr': 'Ett', 'nha': 'Hah', 'yin': 'Vag', 'sle': 'Anz', 'eig': 'onx', 'eld': 'Ijo', 'nee': 'pjo', 'aun': 'jma', 'upp': 'jev', 'uda': 'fpa', 'hac': 'jeu', 'esm': 'Eua', 'hte': 'Idr', 'dev': 'Nol', 'aps': 'ziu', 'hie': 'sny', 'ubb': 'Any', 'hex': 'cuy', 'amy': 'Ned', 'vor': 'lgh', 'ubl': 'tzl', 'vid': 'Tyt', 'bet': 'yev', 'cty': 'Neh', 'see': 'Hio', 'nig': 'Wiy', 'efo': 'Nej', 'npa': 'ejd', 'cyc': 'Yat', 'clu': 'gsu', 'yra': 'wka', 'rup': 'Sey', 'nfu': 'hhi', 'oac': 'ggc', 'obr': 'ukp', 'ivo': 'uxy', 'fli': 'Erv', 'acy': 'kza', 'bbe': 'Bov', 'rbe': 'Erw', 'euc': 'xup', 'lel': 'imh', 'wel': 'Esm', 'itc': 'cbo', 'raw': 'Hli', 'uba': 'ggf', 'lun': 'Tut', 'nhe': 'xyf', 'ved': 'fpe', 'lma': 'htd', 'foo': 'Tow', 'ecl': 'htj', 'ppl': 'skj', 'fur': 'mka', 'rul': 'Aou', 'mut': 'Eca', 'utr': 'rbm', 'put': 'Sob', 'owl': 'xih', 'opu': 'Niu', 'ygo': 'wss', 'ety': 'oaw', 'tma': 'siq', 'obo': 'rrn', 'myo': 'ihr', 'tud': 'ihl', 'wal': 'etv', 'dam': 'Paw', 'cem': 'gok', 'wat': 'Pht', 'uru': 'aog', 'far': 'Ers', 'ndy': 'Air', 'jec': 'Oza', 'oen': 'Eff', 'kis': 'Pab', 'tir': 'ahp', 'ego': 'Tza', 'liv': 'ctp', 'vab': 'Spl', 'ohe': 'khy', 'uan': 'Big', 'gil': 'sbl', 'ryn': 'Pio', 'bot': 'Zea', 'usa': 'Cax', 'ibu': 'Zeb', 'fir': 'zfe', 'ewi': 'Bok', 'oop': 'Hic', 'lmo': 'uhy', 'eos': 'Myd', 'cad': 'Gyg', 'iid': 'Edi', 'agu': 'yuv', 'pap': 'Box', 'scl': 'Mym', 'rto': 'Edm', 'yne': 'lsg', 'swa': 'Inn', 'rae': 'hkn', 'mbu': 'tuz', 'osm': 'Twa', 'pus': 'xfu', 'get': 'gbl', 'urt': 'Spr', 'cht': 'Tok', 'eoc': 'xgo', 'xis': 'exg', 'swe': 'qud', 'nly': 'Muh', 'mir': 'wqu', 'ymo': 'zay', 'sou': 'Dab', 'hep': 'Muk', 'yel': 'khr', 'eho': 'noj', 'ggi': 'myh', 'rke': 'eeo', 'efl': 'zyt', 'idd': 'Aht', 'phl': 'Spy', 'moo': 'ruu', 'dog': 'Gwe', 'suc': 'icp', 'kel': 'cpr', 'myc': 'cax', 'eog': 'Spu', 'vir': 'daa', 'obs': 'xak', 'eit': 'lju', 'uce': 'Aig', 'cya': 'boq', 'roe': 'Hig', 'yno': 'hij', 'tax': 'ceq', 'tme': 'hwr', 'uca': 'tdy', 'vul': 'Imo', 'ies': 'Sos', 'too': 'uaj', 'cod': 'oii', 'cks': 'Imm', 'eom': 'Vou', 'exo': 'Yas', 'mai': 'wib', 'adv': 'Ako', 'izo': 'cdy', 'fel': 'hyz', 'iba': 'wtr', 'avo': 'lvy', 'bbl': 'Ima', 'yng': 'Tze', 'mmu': 'gbr', 'sip': 'Apu', 'oqu': 'Arb', 'cic': 'usr', 'odu': 'Ink', 'eny': 'otq', 'osu': 'Adh', 'igu': 'Aia', 'pom': 'gyt', 'onu': 'ghj', 'sif': 'Aid', 'nur': 'eeu', 'aea': 'imd', 'uer': 'hge', 'abu': 'vzo', 'dot': 'hfr', 'wom': 'Naa', 'got': 'Inf', 'fal': 'ovr', 'mom': 'hja', 'lva': 'evz', 'rub': 'vkh', 'ebu': 'Nae', 'sap': 'Nag', 'unv': 'ovk', 'ffl': 'Evo', 'lue': 'wem', 'rau': 'vej', 'rwo': 'akz', 'azi': 'saq', 'eot': 'xoz', 'ewe': 'Oxo', 'ugg': 'Hul', 'lgi': 'ukb', 'nym': 'Olc', 'ggl': 'Eir', 'eff': 'Huk', 'vas': 'Wyk', 'cce': 'Peo', 'npe': 'Hog', 'iel': 'Siw', 'hau': 'Wir', 'vag': 'Ruc', 'apl': 'lps', 'hun': 'Olp', 'gou': 'Rah', 'rut': 'cyz', 'syl': 'uih', 'esa': 'Tsi', 'pip': 'Pee', 'awa': 'Tso', 'hai': 'lpm', 'esq': 'Hub', 'pig': 'Yaq', 'yal': 'tdu', 'icl': 'xiu', 'nip': 'Hof', 'diz': 'ylr', 'lmi': 'ixf', 'aid': 'wkb', 'igg': 'Ogc', 'lta': 'dgk', 'wan': 'yig', 'epu': 'iuv', 'aug': 'ayz', 'efa': 'Ogy', 'tut': 'gyg', 'loa': 'phs', 'exe': 'uvy', 'fib': 'Ohi', 'nai': 'Haz', 'sot': 'Oji', 'dus': 'ioj', 'gyn': 'Six', 'fan': 'kci', 'nki': 'Bop', 'eor': 'Oki', 'ucc': 'zus', 'upt': 'Wik', 'sua': 'Rag', 'abs': 'mte', 'rgo': 'Vib', 'shr': 'msw', 'cca': 'Hov', 'omn': 'msg', 'abr': 'azg', 'pag': 'msf', 'ddi': 'Ork', 'rpa': 'Ecu', 'nut': 'Orm', 'adm': 'Osw', 'sex': 'gnw', 'irt': 'msd', 'kee': 'Hos', 'eus': 'How', 'lco': 'Elb', 'rla': 'Hej', 'lca': 'Osn', 'tau': 'Orv', 'yis': 'Wya', 'oos': 'liy', 'rpi': 'Cix', 'gur': 'Peh', 'glu': 'kyd', 'ild': 'alj', 'rtr': 'Tuk', 'dim': 'Els', 'zon': 'Zim', 'ius': 'ebw', 'rru': 'ebm', 'uts': 'Our', 'ray': 'kde', 'epl': 'Oud', 'nwa': 'Wur', 'zab': 'pyw', 'alb': 'Ont', 'gol': 'tuq', 'slo': 'Otu', 'fen': 'Ooc', 'idu': 'lsb', 'ngs': 'Elv', 'ney': 'tko', 'vio': 'ofm', 'oul': 'Coq', 'pai': 'Ope', 'moi': 'zev', 'egu': 'iuc', 'now': 'puj', 'ubc': 'Elz', 'ltu': 'Ekr', 'rsu': 'gik', 'uid': 'llk', 'xyl': 'Eim', 'ues': 'wiy', 'apr': 'Ska', 'sna': 'unx', 'bru': 'Sma', 'rfe': 'pmu', 'ync': 'Ehr', 'aya': 'Oxa', 'thm': 'wez', 'gem': 'obh', 'udd': 'yay', 'olt': 'Wez', 'osy': 'hrw', 'ift': 'Dik', 'rud': 'phw', 'ouc': 'Aja', 'ilt': 'Nus', 'nmo': 'Nys', 'kil': 'wyh', 'ldi': 'Shl', 'uga': 'ncm', 'cup': 'Oak', 'was': 'atj', 'nie': 'rzb', 'fas': 'dij', 'ubt': 'Epp', 'gos': 'Yaz', 'teg': 'dhr', 'aen': 'iaq', 'mur': 'ggh', 'pes': 'Bix', 'urc': 'Ait', 'miz': 'Ict', 'upl': 'uxh', 'lev': 'npy', 'dyl': 'ggn', 'ogu': 'Rur', 'hma': 'ikt', 'voc': 'ixb', 'eav': 'vle', 'hyo': 'Iby', 'uls': 'Nup', 'etu': 'fiy', 'aqu': 'izl', 'ptu': 'rnk', 'asu': 'Biz', 'auc': 'tzu', 'swi': 'wyv', 'fun': 'Aiz', 'nho': 'Dum', 'fes': 'wys', 'fea': 'Ept', 'thl': 'Sme', 'anl': 'Eop', 'iam': 'fsm', 'rno': 'Vio', 'mip': 'Dif', 'nuc': 'Ode', 'meg': 'gnh', 'lpi': 'tzb', 'hme': 'rrw', 'yer': 'Peb', 'hoi': 'wyl', 'sei': 'ifd', 'fat': 'Ams', 'ogg': 'okc', 'twa': 'auy', 'yar': 'smr', 'neg': 'Odd', 'aty': 'jha', 'yre': 'fca', 'bbi': 'uyn', 'mab': 'ouo', 'elu': 'lhu', 'edg': 'ffp', 'pog': 'hyw', 'xte': 'Enk', 'onm': 'rfd', 'igm': 'cda', 'orh': 'uoh', 'yop': 'Cof', 'emu': 'xyk', 'wed': 'daq', 'eid': 'ezl', 'hni': 'Web', 'rfu': 'Owl', 'yni': 'pnu', 'fia': 'bji', 'gus': 'wld', 'sam': 'osj', 'xic': 'Obo', 'xan': 'wgh', 'dys': 'Obs', 'enl': 'twy', 'nov': 'Eoc', 'rhy': 'cuv', 'ebi': 'ydu', 'elm': 'Oce', 'orl': 'uje', 'bab': 'kyf', 'kab': 'Zyz', 'ohy': 'wcl', 'tep': 'Bli', 'ryt': 'Ocu', 'fid': 'ynh', 'blu': 'Rar', 'mim': 'Hyg', 'hry': 'Oda', 'oet': 'zue', 'eye': 'pde', 'xpe': 'Lid', 'sai': 'jda', 'mec': 'ujd', 'tob': 'efw', 'ips': 'Aza', 'dur': 'Rey', 'kno': 'bke', 'lew': 'wno', 'bid': 'ekm', 'obb': 'gnn', 'hli': 'fep', 'bec': 'ooy', 'ifl': 'Lie', 'mem': 'meq', 'cov': 'Dwa', 'tyr': 'Yaj', 'phu': 'spf', 'Cha': 'pyd', 'aka': 'Foo', 'yon': 'Gay', 'urp': 'htk', 'wri': 'Puq', 'kit': 'Hez', 'gab': 'tmy', 'uel': 'bsq', 'kar': 'Pub', 'nau': 'suu', 'iag': 'zha', 'ibb': 'mnw', 'hoe': 'Yua', 'rwa': 'Rev', 'adu': 'fgi', 'sag': 'Leb', 'nwo': 'Azy', 'aye': 'gva', 'owi': 'Lee', 'apy': 'wci', 'cob': 'udp', 'nun': 'cwi', 'sme': 'Byb', 'wil': 'zth', 'mad': 'foz', 'beg': 'imt', 'oor': 'mty', 'dib': 'zov', 'mif': 'oyb', 'pee': 'xsk', 'eps': 'kny', 'rds': 'efh', 'nny': 'xvi', 'bos': 'ksg', 'sun': 'oxv', 'nei': 'stz', 'imu': 'Azi', 'bun': 'stj', 'asy': 'aah', 'sod': 'pje', 'rdl': 'Klo', 'kli': 'oyp', 'ciz': 'Jim', 'hno': 'bym', 'inh': 'eji', 'iev': 'Abn', 'Mar': 'pgo', 'icy': 'upj', 'tow': 'Loh', 'oru': 'mfy', 'inq': 'Loi', 'isu': 'Lok', 'als': 'gsl', 'elp': 'gfe', 'chm': 'quh', 'otu': 'Axi', 'rox': 'omg', 'deb': 'rdk', 'vac': 'aiq', 'ryl': 'xfe', 'rki': 'udn', 'owa': 'axf', 'aze': 'wsf', 'niv': 'Geu', 'obu': 'Low', 'Car': 'Cag', 'mig': 'Gaz', 'ury': 'Puy', 'ioi': 'fgh', 'him': 'uov', 'nyl': 'nux', 'mpu': 'Yum', 'apu': 'lkv', 'hib': 'efm', 'lud': 'Kna', 'cun': 'rlm', 'oal': 'tuu', 'gog': 'lkr', 'gom': 'mhy', 'cei': 'tsf', 'oec': 'rwu', 'ntn': 'ivr', 'ulf': 'Foi', 'olv': 'Uli', 'dru': 'yua', 'fou': 'mhi', 'rix': 'dmu', 'nva': 'pij', 'xin': 'yyo', 'zen': 'Lle', 'xia': 'jip', 'aem': 'idc', 'hig': 'Unr', 'oxa': 'hrs', 'mno': 'Dop', 'swo': 'Uly', 'lsi': 'Gid', 'lme': 'kuc', 'rbu': 'Gat', 'lub': 'rgw', 'spu': 'miy', 'ilu': 'kug', 'shm': 'pps', 'cib': 'wwh', 'gru': 'sks', 'ofi': 'kui', 'two': 'Dou', 'aic': 'Uma', 'udg': 'afk', 'ymi': 'Kaj', 'cch': 'umq', 'jac': 'mqu', 'sno': 'myk', 'ley': 'iwh', 'cyl': 'nyn', 'nsm': 'shv', 'tak': 'Rep', 'oki': 'Kut', 'lov': 'Waa', 'zar': 'Taa', 'ypi': 'fka', 'any': 'zax', 'bum': 'iaa', 'amu': 'yip', 'bse': 'Ksh', 'coo': 'kuh', 'ady': 'Kaz', 'nju': 'gsb', 'npo': 'Kop', 'muc': 'uks', 'smu': 'Teq', 'vet': 'Gia', 'fru': 'Afs', 'uir': 'Kaw', 'tae': 'fpi', 'eaf': 'yhu', 'isl': 'Bum', 'efr': 'uwo', 'ulc': 'btm', 'poo': 'Kre', 'pso': 'udt', 'irm': 'Dos', 'lci': 'Kro', 'hfu': 'gaj', 'iap': 'Kok', 'oya': 'ruh', 'coh': 'zys', 'ubr': 'pyn', 'buc': 'kvi', 'dee': 'yrd', 'odd': 'zzu', 'nav': 'Fru', 'lul': 'Lal', 'rui': 'Bue', 'gib': 'uxb', 'ask': 'bsk', 'raz': 'Gio', 'lol': 'mzi', 'upi': 'lmm', 'Tri': 'gsd', 'yso': 'azn', 'url': 'Jum', 'nvo': 'Wav', 'rtl': 'ecq', 'bow': 'wzl', 'sog': 'pqu', 'nbo': 'cfu', 'gyr': 'rll', 'eem': 'kbl', 'nkl': 'yut', 'cub': 'Ung', 'mio': 'zuo', 'rlo': 'axn', 'usp': 'Uga', 'fit': 'Jua', 'ipr': 'Zun', 'tei': 'Lai', 'deo': 'Dak', 'sos': 'fyl', 'sad': 'zne', 'rah': 'fze', 'nla': 'Kyk', 'aim': 'ykl', 'uvi': 'Kyl', 'ulg': 'duh', 'awn': 'uht', 'rsp': 'etj', 'fig': 'Kac', 'ipu': 'kve', 'mye': 'ckv', 'aet': 'Bax', 'nsl': 'Kei', 'new': 'iyn', 'cka': 'ttm', 'sie': 'yld', 'iad': 'awu', 'nnu': 'zaa', 'pio': 'yoj', 'nwi': 'ulh', 'mam': 'lja', 'xid': 'jyn', 'eha': 'Jyn', 'urv': 'Dyt', 'dei': 'yuz', 'idl': 'axg', 'myr': 'Coi', 'ofe': 'Ity', 'law': 'Pyx', 'dod': 'aow', 'ubo': 'rzu', 'jur': 'fsb', 'acl': 'idv', 'nef': 'Mie', 'nzo': 'yoy', 'utc': 'Yez', 'agl': 'Mig', 'ucl': 'yez', 'ynt': 'Ubb', 'rfi': 'jie', 'luo': 'lkg', 'kal': 'lkn', 'nba': 'Fam', 'nua': 'Isu', 'Mon': 'Arz', 'eap': 'Iss', 'Pro': 'asr', 'dua': 'Yag', 'upa': 'Guh', 'igl': 'Adl', 'oer': 'wyk', 'ryg': 'kku', 'wle': 'avn', 'rpu': 'zuz', 'rpl': 'Dix', 'irl': 'eht', 'lvi': 'ptw', 'pab': 'ksb', 'dai': 'zch', 'ymn': 'Izc', 'poe': 'joa', 'eag': 'Geh', 'adj': 'Xic', 'rax': 'Dus', 'had': 'rfw', 'slu': 'Meh', 'lge': 'aeh', 'gid': 'hyf', 'tad': 'Mek', 'roh': 'Zal', 'iki': 'lez', 'jun': 'fni', 'ppa': 'lss', 'xil': 'Usk', 'loq': 'diw', 'rak': 'itj', 'xer': 'Ask', 'oit': 'wnu', 'iec': 'Yal', 'cav': 'Usn', 'toa': 'swr', 'bee': 'Rip', 'neb': 'Kie', 'ubd': 'hgi', 'idg': 'eiy', 'dma': 'Moq', 'nbu': 'moq', 'zyg': 'gsw', 'ifu': 'asz', 'tty': 'zbe', 'jud': 'dts', 'nbr': 'Acc', 'dmi': 'Bia', 'ahe': 'uyt', 'hyg': 'Guz', 'oas': 'Iph', 'bod': 'sze', 'anh': 'yuh', 'npl': 'uho', 'kne': 'Yer', 'arv': 'qer', 'pep': 'uzm', 'kan': 'Iow', 'yps': 'gih', 'zoa': 'Zau', 'dir': 'Tof', 'bib': 'Aho', 'emm': 'usf', 'rwi': 'aey', 'viv': 'xso', 'nri': 'xsp', 'liu': 'Guy', 'wai': 'mwh', 'inl': 'xbl', 'dag': 'Boy', 'civ': 'Ise', 'stm': 'Uar', 'suf': 'aac', 'bag': 'ozu', 'eek': 'fax', 'amn': 'Yes', 'erk': 'jpu', 'agm': 'zra', 'gir': 'lfy', 'eir': 'mbc', 'oub': 'ezb', 'kma': 'csa', 'rmu': 'Irg', 'Ant': 'syg', 'lil': 'kcu', 'els': 'aof', 'nro': 'muq', 'uge': 'Cao', 'eau': 'huo', 'zoi': 'Doe', 'hwa': 'Zoq', 'urd': 'avc', 'exu': 'Abk', 'Cal': 'ydd', 'rex': 'yoo', 'day': 'Lyd', 'gop': 'fje', 'quo': 'myb', 'ubm': 'pyj', 'kat': 'Ree', 'mne': 'izg', 'uph': 'vun', 'odr': 'suh', 'key': 'Lyt', 'ghe': 'ahk', 'oup': 'fap', 'rfo': 'zug', 'wha': 'tzr', 'dun': 'jja', 'elf': 'ijj', 'ofl': 'Ukr', 'mna': 'pyu', 'uet': 'izt', 'sir': 'Kiz', 'lal': 'kex', 'deh': 'mej', 'rok': 'njy', 'utu': 'cfl', 'gum': 'Lub', 'nmi': 'xbr', 'fai': 'cna', 'moe': 'jho', 'lef': 'Agu', 'nds': 'ohp', 'pub': 'ufb', 'boy': 'eay', 'pad': 'Upu', 'ygi': 'Luk', 'adl': 'Goi', 'xen': 'eaq', 'hak': 'upv', 'ows': 'jue', 'edd': 'Lur', 'gga': 'wlw', 'liq': 'csh', 'haw': 'Jet', 'thw': 'Suo', 'bif': 'uwi', 'atl': 'Lux', 'rty': 'wiw', 'how': 'yil', 'dve': 'tzc', 'egl': 'nyu', 'omu': 'ekd', 'idy': 'afs', 'ymb': 'Fij', 'yed': 'rkg', 'onj': 'ftd', 'Pol': 'jae', 'lbu': 'Urg', 'lth': 'Uch', 'lch': 'Xin', 'pru': 'ssk', 'uor': 'kax', 'enf': 'dsn', 'eod': 'mpc', 'reu': 'Fez', 'toe': 'cpa', 'vig': 'wgl', 'vie': 'img', 'goo': 'zde', 'etl': 'hms', 'tuo': 'osz', 'itl': 'Ahe', 'goi': 'Mbu', 'rfl': 'ubk', 'usk': 'ztl', 'nwe': 'Adu', 'hoa': 'Aub', 'box': 'ktu', 'lka': 'xae', 'isf': 'Way', 'wag': 'ttf', 'bdo': 'bka', 'eec': 'vug', 'rym': 'wfe', 'hif': 'Goy', 'ees': 'Map', 'bje': 'ruj', 'rgr': 'Pty', 'aru': 'nzh', 'isk': 'Jaq', 'mob': 'zhy', 'lto': 'bzo', 'rgu': 'hza', 'nty': 'mgo', 'mle': 'bty', 'rbr': 'dux', 'ubp': 'nzt', 'sob': 'wce', 'aha': 'alx', 'fet': 'ioq', 'aes': 'doq', 'tsh': 'Lyr', 'xpl': 'Ulm', 'etc': 'afg', 'oud': 'Lul', 'nlo': 'bkh', 'egm': 'Buk', 'bef': 'ogc', 'rfa': 'ftg', 'Cor': 'Kod', 'vou': 'Koc', 'ups': 'gpo', 'isr': 'Knu', 'eim': 'Uls', 'ulm': 'Luv', 'ays': 'vci', 'tla': 'chz', 'utl': 'vij', 'sni': 'Suk', 'izz': 'haq', 'uic': 'Cak', 'rnu': 'egb', 'elv': 'lfk', 'hyc': 'Rie', 'gai': 'lmg', 'oes': 'psk', 'dox': 'Pog', 'odl': 'Kip', 'fed': 'brh', 'gun': 'rcg', 'pau': 'cgr', 'twe': 'gcr', 'emn': 'loj', 'nra': 'igp', 'yde': 'rfs', 'fee': 'rss', 'wei': 'Fie', 'fam': 'Fib', 'iur': 'Ati', 'gme': 'kue', 'dum': 'jeh', 'jus': 'Bug', 'chw': 'rbw', 'abd': 'ubz', 'bai': 'Kis', 'rcl': 'huy', 'enh': 'buh', 'doo': 'Kne', 'izi': 'cwo', 'stf': 'Urb', 'yse': 'gko', 'god': 'Kli', 'leh': 'Kle', 'xon': 'niw', 'axo': 'icf', 'rue': 'osb', 'rur': 'Gec', 'psa': 'fip', 'eic': 'Fio', 'ssy': 'ndj', 'tup': 'Ged', 'arf': 'Kiw', 'boi': 'Suc', 'hyn': 'oiv', 'ibo': 'Gee', 'Per': 'Caj', 'nev': 'Lak', 'yot': 'gca', 'lyg': 'Azt', 'sew': 'Dyn', 'Pha': 'lku', 'mud': 'Laz', 'Par': 'zyb', 'wab': 'uzy', 'cky': 'Led', 'wne': 'Leg', 'soi': 'azt', 'req': 'zla', 'ief': 'jna', 'egg': 'wnd', 'ovo': 'syh', 'hya': 'Bae', 'nsw': 'azl', 'bry': 'Kwa', 'lbo': 'oxp', 'ubu': 'Syd', 'dwa': 'oxg', 'shu': 'rzy', 'big': 'aag', 'bba': 'Ypo', 'ysa': 'Agi', 'dry': 'mbk', 'mae': 'Lah', 'dhe': 'fub', 'das': 'ysb', 'zzl': 'Agg', 'urf': 'fui', 'cow': 'weh', 'xal': 'ueu', 'rug': 'gfl', 'aum': 'yov', 'ckw': 'aiu', 'mys': 'Fum', 'yos': 'acb', 'lax': 'avr', 'deg': 'ttw', 'teb': 'wgi', 'npu': 'yja', 'zle': 'yrp', 'ngh': 'olz', 'nak': 'Tad', 'yge': 'Loy', 'jug': 'Psa', 'uam': 'Lla', 'irs': 'Suz', 'seq': 'Abo', 'isg': 'Dah', 'dst': 'Kot', 'soa': 'xst', 'roz': 'aoe', 'ika': 'kga', 'rbl': 'uoz', 'hav': 'foh', 'zol': 'Gao', 'unu': 'pgl', 'ldo': 'Koo', 'tst': 'aex', 'Chr': 'yef', 'urm': 'yka', 'ttr': 'nkc', 'joi': 'Flu', 'rii': 'mbw', 'ads': 'Liz', 'dex': 'Kum', 'nsf': 'gwy', 'thn': 'Kuk', 'lya': 'Lia', 'ffr': 'aat', 'awl': 'fym', 'cqu': 'ebf', 'ckb': 'jao', 'nbl': 'ciq', 'pno': 'lsc', 'lpa': 'ffk', 'lga': 'Aym', 'sui': 'iyu', 'noe': 'Kua', 'Chi': 'Yuk', 'ilv': 'afw', 'Pal': 'xwi', 'Bra': 'mtr', 'eil': 'Fol', 'fem': 'Baj', 'oft': 'iue', 'tym': 'vay', 'lbe': 'axs', 'eiv': 'mbp', 'max': 'Poa', 'erj': 'ngj', 'hiu': 'fgo', 'pst': 'afn', 'ifa': 'Cib', 'ucu': 'fsa', 'nib': 'fft', 'owd': 'Cid', 'rwe': 'ftt', 'lst': 'Eni', 'ecc': 'Enh', 'iny': 'gys', 'isd': 'gja', 'fug': 'rfh', 'hmo': 'Amn', 'loe': 'kij', 'nka': 'ixp', 'umu': 'pys', 'oam': 'Pep', 'bsc': 'Ola', 'gau': 'Siu', 'utb': 'zef', 'rej': 'mgy', 'hru': 'Ena', 'exh': 'ibh', 'eju': 'Aly', 'rgy': 'umj', 'bso': 'Oni', 'atm': 'Oes', 'xio': 'Odz', 'rcr': 'fey', 'loy': 'kyu', 'The': 'uij', 'isb': 'Nub', 'Pan': 'Nuc', 'eup': 'Nya', 'ecy': 'Vor', 'nyc': 'Ank', 'sys': 'myp', 'toz': 'ghc', 'afe': 'rgn', 'aed': 'Epe', 'wre': 'iio', 'iaz': 'Ody', 'sav': 'Vej', 'zan': 'Eog', 'xed': 'iia', 'ddy': 'Roy', 'lfi': 'gdu', 'mov': 'muy', 'Pla': 'fda', 'ypa': 'usg', 'dap': 'eix', 'oho': 'ddm', 'eob': 'gns', 'thf': 'Vep', 'osh': 'cyx', 'sef': 'mto', 'giz': 'fbi', 'ehy': 'paa', 'agy': 'udc', 'tef': 'xga', 'acq': 'aab', 'giu': 'xye', 'tav': 'xyq', 'fix': 'byn', 'sev': 'Viv', 'luv': 'aih', 'Gal': 'Egb', 'voi': 'Ziz', 'kie': 'Cne', 'roy': 'mva', 'unj': 'akp', 'ued': 'uwe', 'tmo': 'Pai', 'hwo': 'Eda', 'olp': 'Edu', 'lda': 'vna', 'idn': 'fii', 'onw': 'Vla', 'laz': 'lmw', 'sug': 'Aki', 'myt': 'tux', 'hmi': 'Wed', 'myl': 'htp', 'zym': 'efn', 'lse': 'akc', 'arw': 'ufu', 'lux': 'Opa', 'yes': 'Cyg', 'ckn': 'ydy', 'duo': 'irq', 'bog': 'Ord', 'Phy': 'Pek', 'xce': 'Sev', 'bby': 'kyn', 'bom': 'Sex', 'aza': 'kox', 'Col': 'ymr', 'giv': 'zgi', 'lui': 'iip', 'xim': 'gny', 'oka': 'myw', 'umn': 'vih', 'who': 'faq', 'fly': 'Shy', 'aux': 'tdw', 'gha': 'ddf', 'nhu': 'tkn', 'Bal': 'trh', 'gho': 'Roo', 'kia': 'ikn', 'yab': 'nij', 'seb': 'nkd', 'otc': 'Ahm', 'you': 'wpl', 'hla': 'fuf', 'uab': 'Mne', 'deu': 'Kid', 'ngt': 'zek', 'iob': 'Mob', 'rdr': 'Saa', 'pup': 'rmr', 'Ana': 'Uzb', 'bco': 'aov', 'vot': 'vyl', 'rya': 'jis', 'ohi': 'xra', 'lak': 'Zoh', 'ydo': 'Arl', 'ruf': 'hlh', 'hti': 'ctw', 'unq': 'Zyr', 'pyl': 'Ahr', 'doi': 'ukd', 'rik': 'cuj', 'cne': 'cwa', 'bem': 'tij', 'yca': 'Miz', 'rqu': 'ixh', 'rsc': 'thk', 'fau': 'Ars', 'tah': 'Uru', 'teu': 'mlu', 'kly': 'bgy', 'onb': 'edj', 'lty': 'Mee', 'oxo': 'apc', 'tiu': 'Ush', 'idr': 'Fed', 'beh': 'sja', 'onk': 'faz', 'ilm': 'syo', 'cly': 'Mez', 'Hel': 'ezu', 'ccl': 'pyb', 'bew': 'otz', 'mum': 'zun', 'alf': 'idb', 'mie': 'tnt', 'cae': 'Sua', 'ypr': 'Zoi', 'ffu': 'iim', 'pyo': 'Mio', 'kst': 'Arv', 'npi': 'Uta', 'iru': 'mru', 'gut': 'xeq', 'wir': 'efd', 'gad': 'rpm', 'lyz': 'eoy', 'Tur': 'Aim', 'ggr': 'Zel', 'ulv': 'Ete', 'ols': 'wsr', 'siz': 'Vot', 'wli': 'Sok', 'haf': 'amk', 'dmo': 'Zep', 'bip': 'Nid', 'nof': 'Eso', 'dew': 'Ecc', 'cof': 'ixs', 'iae': 'Sof', 'onh': 'Nik', 'xat': 'ioo', 'Con': 'imk', 'kon': 'Vam', 'ynd': 'Dev', 'wra': 'Ero', 'etw': 'Noe', 'inw': 'rbs', 'ilk': 'nej', 'ats': 'vre', 'eio': 'Anu', 'aig': 'cuu', 'awe': 'fwe', 'doa': 'fcu', 'rct': 'xir', 'yom': 'cug', 'eia': 'Mya', 'ayi': 'xau', 'eki': 'hph', 'adh': 'Exa', 'ypn': 'Myl', 'tui': 'ynp', 'gst': 'Ded', 'ymm': 'rtp', 'ply': 'hhy', 'kni': 'hgu', 'kha': 'hfe', 'noo': 'Ced', 'usu': 'iky', 'hut': 'Nak', 'ebl': 'oyu', 'dju': 'hoq', 'gmo': 'Cev', 'lfu': 'Cey', 'ael': 'upn', 'nsy': 'vaj', 'eez': 'avv', 'enr': 'Nay', 'ums': 'Mni', 'lsh': 'Ago', 'olf': 'khm', 'obt': 'dze', 'aec': 'hiy', 'nze': 'Thl', 'ofa': 'Jiv', 'utw': 'zbu', 'uie': 'tzk', 'Man': 'Gne', 'ryi': 'jod', 'bie': 'mbb', 'eya': 'Joe', 'ugi': 'Blo', 'boc': 'Hus', 'awk': 'mta', 'toh': 'ftu', 'pay': 'ruz', 'cim': 'fst', 'saf': 'ldg', 'ffo': 'jif', 'gig': 'dka', 'oha': 'ggs', 'isy': 'amz', 'oem': 'Rat', 'lug': 'spb', 'zot': 'vyn', 'Mel': 'Ian', 'odg': 'uii', 'sre': 'Dua', 'cyp': 'Tyn', 'bte': 'Bem', 'wig': 'ylf', 'uas': 'Udi', 'nts': 'exn', 'lfo': 'Jic', 'wes': 'mge', 'rvo': 'shd', 'ckm': 'jef', 'dha': 'wnp', 'owb': 'vyb', 'fab': 'wzi', 'cyn': 'Aec', 'vem': 'wzy', 'inb': 'Tex', 'gob': 'kwr', 'Mac': 'wev', 'mix': 'Pui', 'elc': 'wup', 'yol': 'Bay', 'stc': 'okp', 'yda': 'elj', 'miu': 'Tud', 'pud': 'Tyc', 'Sha': 'kju', 'lwo': 'zut', 'llm': 'wze', 'gie': 'Git', 'olk': 'oyw', 'eke': 'juc', 'saw': 'doy', 'ubj': 'adq', 'ytr': 'rtd', 'dwo': 'kty', 'pae': 'Acm', 'ugu': 'msl', 'pug': 'omd', 'irk': 'Tsu', 'eif': 'Ugr', 'wif': 'edk', 'zop': 'Tez', 'lsa': 'Aea', 'dym': 'dgo', 'utp': 'xtb', 'tok': 'wtu', 'meo': 'Hea', 'fon': 'lfd', 'aby': 'biw', 'uke': 'Tyb', 'map': 'Bez', 'ywo': 'Ini', 'xac': 'Tla', 'pow': 'soq', 'Sco': 'Waf', 'bad': 'Ina', 'gee': 'uaq', 'htl': 'uao', 'gag': 'xwa', 'rao': 'gyv', 'ygr': 'Tis', 'taf': 'nuu', 'Arc': 'ptf', 'dfu': 'beu', 'sas': 'Ime', 'kir': 'Bhi', 'ths': 'Guj', 'lyo': 'Saw', 'urk': 'Bie', 'Lep': 'Inv', 'lir': 'uzu', 'uzz': 'uog', 'Ste': 'guv', 'uty': 'aqi', 'yxo': 'tiy', 'yga': 'Iro', 'nox': 'nnh', 'stp': 'Bih', 'lcu': 'rff', 'vei': 'Ins', 'lfa': 'Gyn', 'vap': 'saa', 'ppy': 'Bik', 'nza': 'Ixo', 'xam': 'Ray', 'xci': 'mfa', 'mli': 'yaz', 'imn': 'Jak', 'oze': 'lfn', 'oed': 'Tia', 'orw': 'kje', 'dsh': 'goz', 'fum': 'rdd', 'lso': 'Tov', 'otl': 'sgl', 'soo': 'Jay', 'aym': 'luj', 'lbi': 'dte', 'nky': 'oxd', 'ndw': 'ipd', 'hbo': 'Gos', 'nhi': 'nyd', 'lyl': 'aaf', 'bsi': 'ahv', 'wak': 'Tio', 'Mal': 'wsy', 'goc': 'ocs', 'dob': 'wlf', 'Tar': 'khw', 'ptr': 'esr', 'ggy': 'Uca', 'Cer': 'lpn', 'mee': 'Hak', 'tew': 'Tic', 'ams': 'Bow', 'xpo': 'Jab', 'Bar': 'Beo', 'Ser': 'kpu', 'myx': 'saj', 'Mic': 'Jah', 'oag': 'waa', 'ysh': 'zma', 'shy': 'udz', 'maz': 'ttv', 'lba': 'Khi', 'oxe': 'fco', 'njo': 'Gha', 'xpr': 'nyf', 'nir': 'Khu', 'peu': 'bsl', 'sky': 'Uig', 'enw': 'Rel', 'ofo': 'ttn', 'yrr': 'Gep', 'vai': 'Tum', 'pex': 'Kak', 'lke': 'ofb', 'nry': 'Ted', 'irg': 'Kem', 'wro': 'Puc', 'lwa': 'Uin', 'nhy': 'Bav', 'ihy': 'Tek', 'uso': 'rtv', 'vib': 'nby', 'ucr': 'Kev', 'Ara': 'Tei', 'pim': 'oxn', 'cef': 'snt', 'dau': 'Khe', 'aho': 'thv', 'esy': 'suw', 'ofu': 'Key', 'vea': 'eao', 'tex': 'aeq', 'jou': 'Boc', 'pma': 'Teb', 'Her': 'boj', 'Cam': 'Bod', 'eft': 'Tea', 'yoc': 'ofs', 'nru': 'Boa', 'xit': 'Ked', 'eze': 'ezr', 'Can': 'zak', 'Ang': 'sih', 'seo': 'Kef', 'oeb': 'ofw', 'yta': 'ugf', 'ckh': 'Kee', 'fos': 'ooj', 'uve': 'fga', 'oko': 'kwh', 'ckf': 'Hoc', 'neq': 'rgs', 'chb': 'gsc', 'chp': 'bgo', 'rts': 'xai', 'jar': 'Boi', 'yac': 'Sib', 'heu': 'baq', 'obj': 'Akk', 'hul': 'axc', 'fei': 'Ota', 'dup': 'vue', 'lpe': 'ygu', 'kwo': 'zca', 'lyb': 'pao', 'egn': 'wey', 'tbo': 'gyd', 'nmu': 'wlo', 'oeo': 'Boh', 'uip': 'Akh', 'aor': 'wmi', 'syp': 'aop', 'rdu': 'gnt', 'uia': 'Akt', 'xti': 'Ilo', 'ihe': 'pcl', 'ndm': 'rpn', 'ngy': 'ikr', 'kho': 'Yen', 'ppu': 'aeb', 'Sar': 'Iac', 'hew': 'bue', 'rks': 'Yem', 'ska': 'Ily', 'kwa': 'Iap', 'eev': 'eby', 'tsi': 'Iba', 'Cas': 'Wam', 'yba': 'kmu', 'nbi': 'Bin', 'gae': 'Ibi', 'lup': 'Acu', 'kes': 'xbi', 'bde': 'Top', 'fti': 'bix', 'yog': 'Ico', 'tpr': 'Oxf', 'mih': 'Bit', 'bep': 'Bip', 'ciu': 'Tos', 'psu': 'Ign', 'uee': 'Hyo', 'ffa': 'ekb', 'mps': 'Dub', 'yct': 'yqu', 'oog': 'Bho', 'ntw': 'wdu', 'biu': 'rnd', 'llb': 'dkn', 'bdi': 'Irr', 'xcu': 'Bhu', 'snu': 'Blu', 'axa': 'Hou', 'gym': 'Ire', 'ctl': 'Pae', 'wid': 'wpr', 'seg': 'taj', 'vey': 'ibc', 'dwi': 'msb', 'Sph': 'hze', 'tof': 'eie', 'ils': 'tju', 'wic': 'luy', 'nub': 'Zir', 'ahi': 'lby', 'heb': 'Pay', 'icn': 'rnr', 'aml': 'uyl', 'utf': 'xyu', 'hiv': 'wek', 'env': 'hmy', 'eoi': 'Kni', 'oap': 'Cow', 'fut': 'yaf', 'rey': 'Nio', 'uac': 'Lug', 'bud': 'Lum', 'hay': 'Ais', 'lyi': 'wik', 'cai': 'Nig', 'yci': 'Awa', 'Ber': 'Lyg', 'mpy': 'Lym', 'rtm': 'okn', 'inm': 'ocm', 'won': 'Nis', 'uod': 'pna', 'tov': 'uhu', 'uai': 'Poi', 'ndf': 'auh', 'yoi': 'Aot', 'yod': 'wsc', 'pok': 'Mao', 'mau': 'wsb', 'ryc': 'iup', 'pav': 'Nev', 'oep': 'Sod', 'Cla': 'Axo', 'tyc': 'hez', 'ods': 'htt', 'stw': 'aij', 'wad': 'iai', 'say': 'Aze', 'ugl': 'zaf', 'dho': 'wos', 'btr': 'iey', 'Str': 'yub', 'orf': 'tpy', 'Phi': 'Wit', 'bob': 'feh', 'San': 'uik', 'kra': 'pyf', 'Sal': 'twh', 'bug': 'Lio', 'Sab': 'Yun', 'gap': 'izu', 'rmy': 'ogp', 'sba': 'gfo', 'tsm': 'axu', 'ghi': 'Nom', 'gov': 'Zac', 'Ger': 'Ape', 'khe': 'Ato', 'ixi': 'epd', 'pif': 'Moc', 'uld': 'yfe', 'ysp': 'ohr', 'Che': 'Moi', 'esb': 'jia', 'uiv': 'Nao', 'xor': 'Nam', 'bui': 'hiq', 'xpa': 'eyg', 'afi': 'eyt', 'uot': 'rmc', 'ulb': 'odz', 'lgo': 'Nac', 'ayl': 'Muc', 'rnm': 'Myt', 'sbe': 'dtr', 'stn': 'Mug', 'mib': 'sdu', 'Hyd': 'hve', 'lah': 'skm', 'tuc': 'yio', 'dsm': 'obp', 'pyg': 'oux', 'chs': 'sri', 'vip': 'Nau', 'awi': 'apj', 'ahu': 'Max', 'scy': 'gnf', 'mok': 'zuc', 'inj': 'bja', 'lki': 'iaf', 'enb': 'Nei', 'xos': 'hmm', 'oir': 'tgi', 'uxi': 'Soo', 'wni': 'kcl', 'lyn': 'See', 'ksh': 'bcy', 'pum': 'Dit', 'ssm': 'Ase', 'Mor': 'ezc', 'llw': 'svi', 'hev': 'ugt', 'upu': 'ieq', 'exy': 'wwi', 'rua': 'mke', 'kul': 'Syc', 'ntm': 'Azo', 'ews': 'zte', 'lpo': 'ntj', 'xtu': 'Jor', 'olc': 'Ona', 'noa': 'efs', 'rgl': 'veu', 'ets': 'Omm', 'sut': 'Bed', 'feu': 'Juv', 'htf': 'dto', 'jan': 'kae', 'Sch': 'amg', 'psh': 'skh', 'ioe': 'moj', 'enm': 'Old', 'dgi': 'Okl', 'tbr': 'Aep', 'rkl': 'jiv', 'hov': 'Aeq', 'tuf': 'ehs', 'oak': 'dnt', 'llf': 'mre', 'heg': 'iow', 'yho': 'wsu', 'upb': 'hnn', 'ylu': 'joe', 'veo': 'ksn', 'pty': 'kye', 'epp': 'Jar', 'iew': 'Opu', 'oum': 'khl', 'pei': 'zaz', 'kam': 'jed', 'ysm': 'Cyd', 'zia': 'Jem', 'cui': 'eku', 'goa': 'Jez', 'ezi': 'wcu', 'eof': 'Adv', 'uea': 'Sio', 'ubf': 'caq', 'wol': 'jez', 'mew': 'hix', 'xop': 'wsk', 'Gra': 'Dib', 'opn': 'Teg', 'lce': 'vya', 'Mer': 'gpu', 'bap': 'Agh', 'naw': 'afy', 'gaz': 'zeh', 'fav': 'Kyu', 'hua': 'gev', 'cag': 'Anh', 'ngb': 'Wor', 'isq': 'kjo', 'taw': 'ajn', 'nja': 'Lae', 'wma': 'nuv', 'xec': 'Kil', 'rka': 'Lao', 'kna': 'kco', 'Meg': 'eks', 'kyl': 'Dok', 'ots': 'Seq', 'nje': 'cba', 'yhe': 'teq', 'vad': 'rlp', 'its': 'Nud', 'foi': 'egp', 'tba': 'Kun', 'rfr': 'agf', 'olm': 'gpl', 'tay': 'kud', 'nwr': 'bao', 'chf': 'fha', 'mmy': 'Kio', 'Het': 'Amu', 'cym': 'Pes', 'lls': 'uzi', 'Cat': 'Sko', 'lho': 'kaj', 'mst': 'Kno', 'haz': 'Pso', 'peo': 'koh', 'sfu': 'kub', 'eun': 'Kom', 'sov': 'dyo', 'dme': 'bpy', 'cko': 'otk', 'sfo': 'Kru', 'ldl': 'Pez', 'eje': 'jaj', 'pew': 'Kub', 'peg': 'Yug', 'arh': 'dyr', 'lhe': 'zah', 'ttu': 'puy', 'sts': 'ecb', 'gac': 'aap', 'ndh': 'uzl', 'mei': 'Vai', 'kro': 'Fon', 'Mes': 'kog', 'aup': 'kva', 'Gre': 'Etr', 'kto': 'Hag', 'anz': 'tsn', 'ooi': 'eub', 'ugn': 'avs', 'vec': 'Gno', 'dvi': 'Vac', 'ozy': 'Euo', 'yss': 'epk', 'ywa': 'oee', 'itm': 'ksy', 'aja': 'xbe', 'ckt': 'Zwi', 'owt': 'wru', 'gyp': 'Rog', 'rdy': 'abc', 'oye': 'Abs', 'foc': 'Reh', 'ngw': 'tsb', 'nsv': 'Ceb', 'rek': 'Abd', 'Pel': 'vav', 'bim': 'rkt', 'Pho': 'Glu', 'dov': 'wia', 'pik': 'nnl', 'huc': 'mbn', 'xot': 'xba', 'Pen': 'yaj', 'cak': 'rlf', 'Dan': 'itg', 'paw': 'pih', 'icc': 'rtt', 'wen': 'rpw', 'yly': 'uyi', 'ubv': 'wya', 'Dic': 'aom', 'omf': 'gby', 'ioa': 'dwh', 'xag': 'Equ', 'anf': 'ndk', 'lyd': 'ghp', 'kew': 'Xyr', 'ieg': 'Erm', 'pam': 'ouw', 'agh': 'Ern', 'seh': 'cde', 'yor': 'ekp', 'uag': 'ouj', 'nui': 'Fos', 'joy': 'svo', 'yea': 'ypp', 'ixt': 'Deh', 'ilb': 'uoa', 'oyi': 'thq', 'ipy': 'guh', 'piu': 'xyd', 'nph': 'Xer', 'nii': 'fsk', 'sby': 'ltb', 'owm': 'abk', 'naf': 'Fat', 'Ple': 'akd', 'dda': 'uau', 'edy': 'jua', 'ewh': 'Fav', 'sud': 'Fay', 'ndb': 'fay', 'bbo': 'gpe', 'tik': 'pmi', 'tso': 'apk', 'Spa': 'gup', 'vow': 'Feb', 'xha': 'Rin', 'ako': 'xtl', 'dso': 'Ear', 'dwe': 'Rig', 'tco': 'oix', 'myd': 'Fes', 'bae': 'Rik', 'Sin': 'Urt', 'oea': 'ipg', 'rnl': 'naj', 'von': 'wdn', 'doe': 'Gou', 'xua': 'upk', 'nks': 'Uto', 'syr': 'yug', 'fyi': 'Wab', 'bau': 'uzo', 'tih': 'xcy', 'cua': 'Goe', 'dub': 'laj', 'wav': 'bhi', 'zel': 'Cav', 'cuo': 'atv', 'Cap': 'atg', 'owh': 'atd', 'Bel': 'Daw', 'azz': 'wud', 'eyi': 'Riv', 'hts': 'pwh', 'ixe': 'exr', 'jam': 'zro', 'ims': 'Gus', 'zzi': 'esf', 'nkn': 'hsl', 'eiz': 'Ris', 'gif': 'Fit', 'Epi': 'zba', 'etm': 'hsk', 'Pyr': 'Gul', 'atw': 'Fir', 'kol': 'Utr', 'sey': 'nvy', 'oyl': 'Rau', 'ssw': 'dnu', 'sfi': 'mce', 'tsc': 'emc', 'Sam': 'aad', 'axe': 'fsi', 'Rom': 'yvi', 'shw': 'lfm', 'elw': 'rsd', 'nsk': 'Ghi', 'cox': 'Hed', 'dla': 'Wyc', 'pye': 'gcu', 'bay': 'Bus', 'loh': 'oip', 'bak': 'fme', 'hna': 'Rug', 'Ach': 'okd', 'cec': 'ffg', 'wam': 'gfr', 'oei': 'Gea', 'Cel': 'wsw', 'fog': 'Abu', 'kfu': 'mml', 'mug': 'rku', 'dva': 'fof', 'bdu': 'lpw', 'xem': 'rkd', 'adw': 'mja', 'oie': 'tci', 'Men': 'Gai', 'beb': 'Emi', 'osk': 'Heg', 'nuf': 'vvy', 'Tra': 'Eno', 'ayo': 'ugd', 'yat': 'Edo', 'aub': 'Bux', 'Eur': 'okf', 'lox': 'wuz', 'alw': 'Chy', 'kim': 'ahg', 'mya': 'Gek', 'sve': 'Coa', 'bop': 'Hau', 'elb': 'oah', 'ooc': 'oai', 'xip': 'imc', 'Ale': 'Vie', 'gew': 'Ulv', 'pwo': 'geg', 'Sta': 'Cni', 'bam': 'Haw', 'caf': 'Gav', 'ulk': 'Edr', 'dbo': 'tji', 'nya': 'Cus', 'aia': 'hsc', 'sue': 'ldp', 'sfe': 'Dat', 'jer': 'lpy', 'zil': 'kih', 'sof': 'oek', 'eei': 'Gyp', 'kag': 'rlh', 'tys': 'Ova', 'Cho': 'Cou', 'eoa': 'Dai', 'sgu': 'kht', 'Pet': 'Koi', 'rir': 'Tas', 'tfo': 'pfr', 'gwo': 'Peu', 'ixa': 'Tav', 'ayw': 'gki', 'may': 'Dya', 'Amp': 'mbf', 'lua': 'Woo', 'jum': 'Unc', 'bma': 'Lad', 'aik': 'exm', 'oex': 'kgr', 'Pte': 'ggu', 'sfa': 'Fuc', 'And': 'xme', 'mah': 'kfr', 'tca': 'lyu', 'tsp': 'tej', 'kas': 'ehl', 'ffy': 'wkn', 'kor': 'pts', 'Har': 'Res', 'Hal': 'Lav', 'aei': 'euz', 'yen': 'Ror', 'ajo': 'afd', 'sku': 'Tou', 'Ari': 'zwi', 'uos': 'Elk', 'veg': 'kpl', 'hok': 'noq', 'ycn': 'wch', 'xoc': 'nyr', 'Rhi': 'wda', 'Ast': 'Ino', 'sgr': 'huv', 'asq': 'yve', 'dik': 'Bup', 'dfi': 'Row', 'nud': 'oyn', 'cud': 'Int', 'vau': 'bga', 'adn': 'Ane', 'rml': 'Una', 'ydi': 'yei', 'kai': 'Bim', 'tsu': 'Epa', 'wou': 'Kus', 'gth': 'pkn', 'tfi': 'zok', 'jin': 'Bad', 'lro': 'dsy', 'atf': 'gek', 'xco': 'Tah', 'lof': 'bwi', 'nue': 'dds', 'chc': 'Emy', 'due': 'jik', 'xcl': 'Ite', 'dyi': 'jir', 'exs': 'Jin', 'Lam': 'Goa', 'nzi': 'Pus', 'roj': 'Emm', 'nuo': 'Reb', 'zal': 'Ist', 'yit': 'Onc', 'lky': 'fwo', 'hwe': 'lsw', 'bve': 'Bha', 'kla': 'Gli', 'puc': 'Gle', 'ybe': 'yoz', 'eug': 'Ish', 'udl': 'adk', 'zem': 'Isc', 'ejo': 'amd', 'mfu': 'dfr', 'ybr': 'lft', 'alr': 'Vid', 'geb': 'nzd', 'itz': 'Dut', 'uak': 'Orl', 'tfa': 'Yid', 'Fra': 'srh', 'aws': 'hbl', 'lii': 'zoq', 'odw': 'oew', 'sow': 'Cyl', 'ssf': 'ecz', 'oww': 'uaz', 'msh': 'alq', 'rdm': 'Goo', 'rsl': 'llg', 'wns': 'Wac', 'Pri': 'Jeh', 'uml': 'csi', 'awb': 'Jen', 'yze': 'Alh', 'lyr': 'ltn', 'iry': 'ftp', 'ehi': 'juj', 'zom': 'Bec', 'wax': 'niy', 'nax': 'Cil', 'Dip': 'joo', 'tyo': 'rji', 'jor': 'fba', 'rih': 'Tob', 'upo': 'ewg', 'ogm': 'Get', 'iin': 'mcl', 'xod': 'Toc', 'goe': 'eyc', 'byt': 'Kel', 'gef': 'fek', 'ozi': 'Kik', 'joc': 'oxs', 'upc': 'aob', 'pme': 'Edd', 'Aca': 'Kim', 'rns': 'fsc', 'Coc': 'ecn', 'kid': 'uhl', 'nzy': 'ptc', 'Spi': 'Dow', 'daw': 'Ghe', 'gim': 'Oma', 'vif': 'rfy', 'yzo': 'eiu', 'rtn': 'Oth', 'ohu': 'ujo', 'siu': 'kgo', 'xto': 'wnr', 'Hyp': 'mdr', 'dfa': 'mde', 'jol': 'oxw', 'ghb': 'wng', 'ihi': 'Pue', 'ybo': 'udm', 'llh': 'lyk', 'daz': 'Kai', 'Nor': 'wco', 'cno': 'Olo', 'myi': 'xty', 'yrm': 'xth', 'zie': 'Bau', 'ygm': 'Kay', 'mly': 'yva', 'tse': 'mha', 'Tet': 'urj', 'kem': 'byg', 'anq': 'owu', 'ymy': 'dbl', 'afa': 'bpi', 'ayb': 'Hen', 'Apo': 'rxi', 'ubg': 'Rif', 'adf': 'Uri', 'oau': 'Eva', 'rgh': 'zoh', 'Arg': 'mry', 'bju': 'Hud', 'wde': 'Tua', 'aku': 'fex', 'Mus': 'aiy', 'Fre': 'wut', 'mfo': 'zda', 'xyg': 'axp', 'rld': 'auj', 'uki': 'oyt', 'bub': 'aoi', 'nsn': 'kiw', 'chd': 'yao', 'Hom': 'msy', 'inp': 'bya', 'dii': 'omk', 'axy': 'ooa', 'itn': 'lfb', 'aky': 'Sog', 'xpi': 'Aro', 'buf': 'Hav', 'ceb': 'oox', 'Tro': 'tjo', 'yrt': 'Mab', 'Bas': 'Tru', 'fad': 'fki', 'ugo': 'Duc', 'tdo': 'kiz', 'utg': 'xet', 'gmi': 'tzs', 'Jac': 'Rit', 'noh': 'Zab', 'onq': 'epc', 'bme': 'Ure', 'yfu': 'cmi', 'esl': 'vsk', 'bei': 'wcr', 'rsw': 'Abb', 'irp': 'ysn', 'dad': 'ftf', 'gei': 'lwr', 'shb': 'biy', 'lha': 'Ary', 'Min': 'Moe', 'ayf': 'Nav', 'vom': 'wnm', 'bah': 'umk', 'zea': 'fpr', 'lpr': 'Eub', 'jes': 'uwa', 'yet': 'Cru', 'Sol': 'hqu', 'ubh': 'Hoh', 'lyh': 'Wea', 'ahy': 'diy', 'kad': 'akn', 'soe': 'eyp', 'oio': 'Cod', 'irn': 'ghd', 'Tha': 'Pak', 'Myr': 'Eul', 'zoc': 'xyo', 'bov': 'vyh', 'sbo': 'vyw', 'uif': 'mgu', 'Rus': 'rls', 'ahm': 'Mei', 'rju': 'Tuc', 'anj': 'fse', 'afo': 'Wak', 'pfu': 'iyo', 'xur': 'Pah', 'bmi': 'Cum', 'nup': 'Mex', 'dba': 'Apr', 'Ech': 'asd', 'anw': 'ukt', 'rdn': 'Fau', 'ssh': 'Ply', 'cah': 'fhy', 'afl': 'psn', 'xog': 'sss', 'loz': 'Loa', 'kip': 'lkf', 'zog': 'igd', 'ccy': 'vek', 'Lin': 'ahw', 'wse': 'Dil', 'ueb': 'aht', 'kea': 'oib', 'Hol': 'opd', 'Hip': 'Ebi', 'enj': 'bsm', 'lwi': 'Coo', 'esw': 'pcu', 'tpa': 'hsp', 'zit': 'suz', 'tiq': 'Non', 'xom': 'xun', 'ngm': 'Pos', 'cew': 'tye', 'byr': 'Byz', 'sde': 'icq', 'ypy': 'gak', 'onz': 'Yuc', 'imy': 'quu', 'rhu': 'jid', 'opm': 'ouq', 'Cyc': 'bfr', 'cee': 'xfl', 'eef': 'Sek', 'uiz': 'tmu', 'otw': 'ixl', 'piz': 'Ibs', 'Lat': 'Pir', 'kbo': 'dwr', 'eaw': 'cts', 'tpo': 'Zos', 'adb': 'bgr', 'Ter': 'kmi', 'ids': 'xoe', 'rpt': 'rfb', 'uxo': 'voo', 'Por': 'byp', 'pyc': 'rkr', 'emy': 'Moz', 'apn': 'wop', 'moa': 'luh', 'shf': 'sao', 'xas': 'hdu', 'Bab': 'heq', 'Acr': 'uiu', 'oje': 'zio', 'tue': 'wok', 'uef': 'htb', 'arq': 'htc', 'Tam': 'Dog', 'bca': 'Dul', 'rsm': 'tzy', 'mef': 'Seb', 'iox': 'auw', 'oys': 'Ral', 'ldr': 'Smy', 'eul': 'gfa', 'Not': 'nyp', 'eja': 'Ebe', 'cyo': 'Log', 'Aga': 'arj', 'esk': 'nyt', 'geu': 'abm', 'ngf': 'faf', 'iko': 'Ark', 'iho': 'Sut', 'eeb': 'aew', 'sdo': 'Cub', 'Ben': 'rfm', 'ctn': 'sje', 'Den': 'ipj', 'gbo': 'syd', 'Bri': 'gsk', 'Luc': 'Sva', 'tge': 'gpa', 'Dia': 'Sur', 'usy': 'Swe', 'ylv': 'vaa', 'lds': 'gsa', 'cuc': 'bdr', 'ysc': 'Lod', 'yok': 'spn', 'awf': 'Liv', 'hox': 'urq', 'otm': 'foy', 'wet': 'axh', 'iem': 'xum', 'ddo': 'pgu', 'Val': 'fob', 'ygl': 'iwo', 'edf': 'ibw', 'aio': 'Lew', 'Ver': 'Tao', 'lfl': 'jra', 'wnl': 'wus', 'ekn': 'ajr', 'azy': 'vri', 'Dar': 'uvr', 'ewr': 'bup', 'hta': 'Gab', 'tzi': 'ukr', 'Bro': 'bsy', 'ofr': 'yeu', 'pem': 'kiu', 'rlu': 'fuz', 'fag': 'Fus', 'pwa': 'Age', 'rtw': 'dyf', 'Bor': 'wef', 'wst': 'pbl', 'wwo': 'kdr', 'ehu': 'cso', 'Ama': 'Fro', 'uny': 'skf', 'ckp': 'Law', 'Tor': 'Lui', 'owy': 'Ret', 'Ind': 'Reu', 'inx': 'ynk', 'hty': 'etd', 'web': 'uew', 'iov': 'Sui', 'pob': 'Zor', 'rwh': 'Zam', 'uav': 'pua', 'ilp': 'Mia', 'kwi': 'Fas', 'ebb': 'Ust', 'sak': 'bjo', 'owp': 'yep', 'isj': 'arx', 'xpu': 'fah', 'isn': 'Fag', 'vok': 'Sei', 'luk': 'Mix', 'tlo': 'Mog', 'rtf': 'xuv', 'Ban': 'olr', 'xcr': 'Mom', 'etf': 'Moo', 'inr': 'xsc', 'lix': 'Zar', 'zza': 'rmb', 'yxi': 'Mou', 'hwi': 'yoa', 'eew': 'toq', 'raj': 'auq', 'vex': 'wky', 'Whi': 'toj', 'pbo': 'exd', 'Gym': 'bce', 'kum': 'asn', 'Aus': 'Lup', 'utm': 'feg', 'She': 'gyi', 'gdo': 'jup', 'oml': 'lyv', 'Mas': 'Lys', 'lfe': 'keo', 'lmu': 'uyu', 'sae': 'Pok', 'ccr': 'ukl', 'Neo': 'huh', 'Asc': 'Aud', 'eyl': 'Auc', 'hho': 'Poe', 'Alb': 'bqu', 'eds': 'ubq', 'Mag': 'wix', 'ilh': 'coj', 'okl': 'syz', 'wbe': 'eui', 'sbu': 'eue', 'biv': 'Zol', 'Tan': 'pyk', 'dca': 'Fen', 'yfo': 'lzi', 'Ame': 'ilz', 'Cro': 'nns', 'Ela': 'ykn', 'edb': 'baa', 'tsa': 'lhi', 'iof': 'lij', 'wim': 'bih', 'yru': 'fbe', 'maj': 'Dru', 'ieu': 'paz', 'fty': 'dgl', 'Mil': 'jem', 'yza': 'wll', 'oky': 'Rav', 'dof': 'xbo', 'Jap': 'Ine', 'eka': 'xbu', 'Geo': 'nkg', 'toy': 'oxf', 'iwi': 'Yam', 'ftl': 'Cov', 'hug': 'igb', 'Gua': 'Bid', 'akh': 'Tod', 'Sil': 'muk', 'Rho': 'oxm', 'cni': 'Irv', 'kep': 'hoj', 'keb': 'oyh', 'bta': 'yax', 'miv': 'dao', 'oms': 'ysk', 'ymu': 'Gry', 'dlo': 'lfp', 'rja': 'Idi', 'ilf': 'Ida', 'cyg': 'Ica', 'xhi': 'Yar', 'thb': 'syu', 'viz': 'iji', 'Ram': 'Bog', 'wly': 'Hob', 'Tel': 'Raf', 'oab': 'xeo', 'owf': 'okk', 'tsw': 'ffn', 'Pod': 'uej', 'Ano': 'pya', 'Hem': 'ueg', 'kfi': 'Rac', 'hii': 'Hua', 'ntf': 'aif', 'iah': 'omh', 'hye': 'cme', 'nkt': 'ylh', 'ewl': 'Hur', 'kso': 'gmu', 'xta': 'rlb', 'hst': 'skw', 'wbo': 'dgu', 'stb': 'Hyb', 'Com': 'kgu', 'atb': 'oln', 'tga': 'Tir', 'zim': 'Ixi', 'Act': 'icm', 'hub': 'gse', 'ipm': 'Gib', 'eys': 'Tep', 'cay': 'taa', 'tbe': 'waz', 'adg': 'bki', 'nyi': 'ewp', 'umv': 'ffc', 'ooz': 'Teh', 'oim': 'Aer', 'Mos': 'gpr', 'kri': 'Gei', 'cig': 'gco', 'bha': 'yai', 'Alc': 'Tch', 'Qua': 'Sce', 'nlu': 'juk', 'iya': 'ebs', 'yag': 'uhr', 'rnf': 'Tax', 'hik': 'hpu', 'wsh': 'fik', 'azu': 'Koe', 'utd': 'Koh', 'Eri': 'cmo', 'xar': 'mbh', 'wth': 'Kad', 'hso': 'Gin', 'Sep': 'Jut', 'gwa': 'mpp', 'juv': 'woc', 'iha': 'Jag', 'fox': 'Jai', 'wie': 'akb', 'zor': 'zoy', 'yas': 'Jas', 'pry': 'Jat', 'btu': 'Jav', 'yur': 'awg', 'dth': 'Jeb', 'Sla': 'ije', 'aeu': 'kki', 'job': 'skn', 'fta': 'adz', 'Ala': 'epn', 'aal': 'Joa', 'anb': 'Joc', 'Dio': 'Pup', 'gda': 'Rei', 'myg': 'wnn', 'mso': 'ibn', 'obv': 'dqu', 'htn': 'Bub', 'jas': 'Jur', 'oov': 'Exc', 'zze': 'zdi', 'rkm': 'poy', 'sdi': 'lza', 'enk': 'kek', 'ezo': 'vyi', 'Mol': 'heh', 'Dor': 'Cze', 'Mit': 'nyb', 'rnb': 'Zin', 'hpr': 'Vil', 'nah': 'alz', 'umf': 'Wis', 'dyt': 'Dig', 'dih': 'eww', 'elh': 'Alv', 'tev': 'Rol', 'ckr': 'xsh', 'oax': 'vve', 'Lim': 'caz', 'rdw': 'Cut', 'yam': 'yrc', 'bpr': 'Aar', 'pef': 'Neb', 'Cry': 'paj', 'oby': 'mga', 'hef': 'Nip', 'etn': 'Pav', 'iwa': 'naq', 'fow': 'Vel', 'dbe': 'Sia', 'kah': 'Shr', 'ilw': 'Vip', 'nik': 'pgi', 'esn': 'Nim', 'lok': 'Vas', 'vam': 'Eun', 'bbr': 'uaf', 'Sat': 'eai', 'Bat': 'rdv', 'kur': 'Som', 'Oph': 'epg', 'iif': 'kyw', 'Lan': 'yxe', 'itf': 'mue', 'kou': 'Ske', 'ryb': 'kiy', 'xyc': 'Clo', 'May': 'kaz', 'etb': 'Rup', 'bey': 'Sik', 'Tit': 'Zip', 'Mad': 'hki', 'bys': 'Aln', 'ndn': 'yii', 'Pic': 'orq', 'Sca': 'gwu', 'Sel': 'swu', 'byl': 'zsc', 'erq': 'rlw', 'lvu': 'Odi', 'asl': 'lwh', 'Qui': 'Nia', 'tcr': 'Nie', 'xca': 'orj', 'rsy': 'idf', 'yem': 'wna', 'uxe': 'ffh', 'kbi': 'Dir', 'ivu': 'cze', 'xol': 'ntd', 'guo': 'Nai', 'std': 'Oen', 'kic': 'lru', 'nwh': 'egh', 'nvu': 'utq', 'rnt': 'kec', 'wba': 'mdi', 'ntg': 'odt', 'sht': 'dni', 'jaw': 'oey', 'ugm': 'rng', 'coy': 'Hut', 'yie': 'ltc', 'ilc': 'Far', 'zos': 'uob', 'huf': 'Hot', 'awo': 'Fou', 'tfl': 'byw', 'cyr': 'Cah', 'ags': 'pbi', 'lyw': 'aod', 'anr': 'Tul', 'lry': 'Hin', 'awd': 'Fan', 'voy': 'atk', 'ltl': 'dsk', 'yak': 'ehm', 'xys': 'Hoo', 'raq': 'pdr', 'tbu': 'enq', 'aiv': 'kpa', 'bsu': 'Inc', 'moh': 'Imp', 'dav': 'kau', 'ksi': 'psw', 'Pin': 'Igu', 'upw': 'bfe', 'lcy': 'Tot', 'gyl': 'Bir', 'ywi': 'cyb', 'eml': 'shs', 'egy': 'Ice', 'ogh': 'Urs', 'Cyn': 'Ibe', 'lye': 'kfe', 'ksm': 'ivv', 'pez': 'hgr', 'epy': 'Cit', 'Shi': 'mnl', 'Pas': 'Ely', 'ygd': 'Eme', 'xab': 'apd', 'Din': 'Boo', 'lgu': 'ikl', 'kun': 'auz', 'upf': 'oeu', 'elk': 'kuk', 'avy': 'ndd', 'Teu': 'hwh', 'zam': 'tfr', 'uku': 'hcl', 'dsi': 'hha', 'Del': 'wog', 'ryd': 'xud', 'oyo': 'dsa', 'pbr': 'obm', 'Xen': 'oav', 'klo': 'vae', 'hud': 'ebd', 'Bac': 'mvo', 'tya': 'weg', 'doh': 'hpe', 'Pat': 'eii', 'bho': 'xsa', 'Art': 'Gig', 'Nem': 'ulr', 'Pau': 'xsu', 'Sci': 'ffb', 'Ost': 'voe', 'Ita': 'ngg', 'uva': 'oaq', 'kom': 'Ubi', 'gfu': 'Eum', 'boh': 'haj', 'hyb': 'dpe', 'aje': 'Vau', 'tmi': 'Vat', 'ieb': 'rdp', 'ysy': 'Esc', 'ufa': 'pfe', 'Cen': 'Esk', 'yaw': 'Hap', 'sax': 'uye', 'All': 'Hab', 'anm': 'Esp', 'ifr': 'wls', 'xib': 'sye', 'bti': 'xfi', 'lgr': 'duu', 'biq': 'Fic', 'otb': 'Gut', 'odh': 'rmw', 'six': 'utz', 'veh': 'uus', 'bok': 'riy', 'Chl': 'tde', 'Nic': 'Deb', 'kwe': 'bik', 'ixo': 'zae', 'hui': 'lre', 'poa': 'lqu', 'uka': 'gsi', 'eea': 'Alk', 'uly': 'Oti', 'sox': 'syf', 'kop': 'Alf', 'neh': 'Zio', 'lpt': 'Ovi', 'mby': 'Owe', 'noz': 'lcl', 'ipn': 'pfo', 'ssb': 'akm', 'Sac': 'bph', 'ohn': 'nek', 'jel': 'aas', 'Kar': 'Sit', 'Jud': 'mex', 'gow': 'tyx', 'dfo': 'Sno', 'Ven': 'iwe', 'luf': 'emw', 'Eup': 'Nym', 'feb': 'ovy', 'Met': 'fae', 'ubn': 'bva', 'gey': 'myn', 'kok': 'uyo', 'gsh': 'Och', 'kot': 'Ocy', 'jag': 'Ski', 'sro': 'mri', 'dsp': 'etk', 'jut': 'Phl', 'hhe': 'igt', 'Syn': 'imw', 'lln': 'Rad', 'afr': 'Rai', 'ilg': 'ylt', 'gec': 'etp', 'cuf': 'Red', 'zir': 'bwa', 'spy': 'abw', 'Pse': 'boz', 'nih': 'Rib', 'soh': 'Abi', 'gto': 'Roc', 'mro': 'tnu', 'oks': 'bua', 'umc': 'Rum', 'yha': 'Add', 'Cep': 'dji', 'oui': 'Adr', 'ctf': 'eax', 'ndp': 'syt', 'kef': 'lff', 'naz': 'hlu', 'oia': 'Pne', 'suo': 'yuk', 'Sem': 'Zoo', 'Ran': 'wwa', 'htw': 'fto', 'ybd': 'Zul', 'ddu': 'soj', 'olg': 'Pun', 'eoe': 'yrg', 'rcy': 'dsb', 'rny': 'Noa', 'Tim': 'Nel', 'rdf': 'Nea', 'Tal': 'zad', 'ovu': 'koe', 'eza': 'ohl', 'osl': 'Kos', 'Glo': 'Kra', 'Gla': 'gsp', 'llp': 'baj', 'zeb': 'Ede', 'ebt': 'Kul', 'teh': 'kys', 'ooe': 'ktr', 'Euc': 'kja', 'opw': 'kca', 'wac': 'Las', 'edm': 'kac', 'deq': 'Bap', 'fev': 'kev', 'uem': 'Kho', 'vos': 'mca', 'efy': 'koc', 'Gen': 'iks', 'cue': 'Tip', 'baz': 'rvy', 'odm': 'wul', 'doz': 'zei', 'akl': 'Beg', 'Tho': 'umh', 'umd': 'fez', 'olb': 'elz', 'Bol': 'jot', 'evu': 'edp', 'oua': 'Bde', 'dse': 'Ler', 'pki': 'yuc', 'Rha': 'yeg', 'keh': 'Mul', 'Pyt': 'Mik', 'riq': 'Aru', 'yad': 'waw', 'bno': 'Moa', 'ybu': 'Mod', 'pue': 'Mot', 'bev': 'icw', 'gay': 'bci', 'gwi': 'hvi', 'Ade': 'Mut', 'nug': 'hva', 'ioh': 'hih', 'dhi': 'ipk', 'dpa': 'hcu', 'aeg': 'idt', 'nkw': 'asf', 'ghl': 'xwe', 'iun': 'Lox', 'kos': 'Lun', 'iml': 'wkw', 'Arm': 'Ava', 'wfu': 'Mep', 'gba': 'Suf', 'hah': 'xof', 'shp': 'ahn', 'rky': 'Mak', 'mvi': 'yzy', 'lfr': 'ryu', 'ybi': 'fry', 'awy': 'omc', 'Asp': 'Wai', 'hdr': 'dez', 'itw': 'Wol', 'gaw': 'ieh', 'Neg': 'dhy', 'oku': 'wpa', 'awm': 'miw', 'Cyp': 'usw', 'Ath': 'thg', 'hbe': 'Eas', 'iep': 'Cob', 'Mat': 'nuz', 'hsh': 'rmt', 'igy': 'dsl', 'mho': 'Wap', 'xap': 'Dad', 'osq': 'Cup', 'iax': 'wta', 'Ham': 'wca', 'mnu': 'okt', 'hue': 'Dag', 'fts': 'ewc', 'hco': 'ftb', 'Sip': 'Wer', 'aiz': 'pyh', 'Squ': 'Dau', 'dbi': 'Nos', 'dej': 'Rub', 'uio': 'Saf', 'Rhy': 'Slo', 'bek': 'Occ', 'mwo': 'Pim', 'hba': 'Oed', 'xyp': 'Orc', 'ezz': 'tyb', 'sko': 'Sed', 'eym': 'Sea', 'uft': 'Scu', 'ffs': 'Osi', 'koo': 'Pto', 'ipw': 'bof', 'foa': 'Oro', 'mow': 'paq', 'Tre': 'Ren', 'Bla': 'Sas', 'msi': 'Wei', 'kap': 'Ono', 'gbe': 'Deu', 'eoz': 'Rab', 'Tub': 'Reg', 'ssp': 'Rem', 'bvi': 'cph', 'sda': 'suv', 'Aph': 'nps', 'Cae': 'Hit', 'Lon': 'igf', 'buk': 'Gro', 'uds': 'Gun', 'Cra': 'Gur', 'Lyc': 'leq', 'tbi': 'Hei', 'rtb': 'Him', 'lld': 'Hop', 'jub': 'Noc', 'ceu': 'Hys', 'puf': 'Wat', 'Sau': 'ouz', 'tug': 'Ili', 'ryw': 'Isi', 'orv': 'Ism', 'thd': 'Isr', 'fuc': 'Ith', 'Ele': 'zis', 'peb': 'Gem', 'eip': 'khu', 'ckc': 'fue', 'ytt': 'cth', 'Ann': 'Vit', 'muf': 'jic', 'erz': 'Ell', 'oou': 'Emp', 'kya': 'Est', 'cye': 'ucy', 'kti': 'xhu', 'atn': 'Fid', 'puk': 'mdo', 'uxu': 'pja', 'ywe': 'Fle', 'edw': 'kyi', 'ypl': 'tsl', 'dye': 'Wah', 'wau': 'Ito', 'irw': 'Tib', 'eeh': 'Jef', 'nkh': 'Lot', 'aju': 'Lus', 'bez': 'Sue', 'uib': 'zip', 'lwe': 'bpl', 'abj': 'azd', 'coz': 'bhy', 'udy': 'Mem', 'hbr': 'Sri', 'Fal': 'Die', 'noy': 'lct', 'uay': 'yxa', 'dah': 'Myz', 'skl': 'eua', 'iau': 'keu', 'dno': 'Neu', 'kba': 'Nil', 'sra': 'uiq', 'For': 'Lom', 'obd': 'ghg', 'pmo': 'Lig', 'ahl': 'Dom', 'ybl': 'Kam', 'rvu': 'Tes', 'ilr': 'gbu', 'rsk': 'kik', 'hpo': 'wae', 'wki': 'Doc', 'roq': 'yir', 'yid': 'Tay', 'bne': 'Kol', 'Lap': 'kyp', 'xyt': 'uix', 'Buc': 'bni', 'ayn': 'ekh', 'kke': 'Syb', 'oev': 'wot', 'xif': 'Lic', 'abn': 'btf', 'tth': 'Rut', 'Jun': 'hsm', 'Bru': 'nck', 'hey': 'ugr', 'avu': 'ukh', 'tyi': 'uju', 'Leu': 'klu', 'Odo': 'Ard', 'ewd': 'guf', 'Ped': 'ksu', 'Bet': 'rms', 'jet': 'Arn', 'llt': 'Arr', 'Med': 'wwe', 'Mah': 'Yak', 'dja': 'zew', 'viu': 'shc', 'tni': 'hca', 'vog': 'vum', 'nkr': 'yum', 'nkf': 'Ate', 'ldn': 'dyd', 'ogs': 'chv', 'quy': 'woa', 'Gas': 'hfo', 'ihu': 'ixy', 'yox': 'lyx', 'Bur': 'lfs', 'rze': 'shg', 'pov': 'fho', 'puz': 'pyx', 'coq': 'gza', 'ufi': 'igz', 'amf': 'pix', 'Scy': 'wsi', 'hof': 'lbl', 'rje': 'bux', 'auk': 'yic', 'dgy': 'But', 'ldf': 'tlu', 'Ten': 'syi', 'tpi': 'why', 'Sor': 'oif', 'bii': 'App', 'dpr': 'dyc', 'dbr': 'Aul', 'bwo': 'yhi', 'irb': 'dke', 'Wal': 'yul', 'pco': 'odn', 'Jan': 'rdt', 'owr': 'yec', 'nyw': 'tje', 'Ery': 'awc', 'Amb': 'dyh', 'bch': 'dey', 'htm': 'psm', 'Bos': 'Bam', 'abh': 'tez', 'Tap': 'ehn', 'pib': 'wsl', 'Len': 'mbm', 'jab': 'xdi', 'Ros': 'bhu', 'kse': 'bij', 'Joh': 'Yor', 'Lit': 'llr', 'Nep': 'oji', 'mse': 'zum', 'chh': 'oyc', 'niq': 'oxl', 'dfl': 'uhi', 'ouk': 'axb', 'rko': 'xhe', 'Anc': 'osw', 'ndc': 'rzo', 'zet': 'orz', 'kaw': 'byh', 'dyp': 'kfl', 'amw': 'ksc', 'rwr': 'wep', 'Zyg': 'okh', 'waf': 'wyn', 'iju': 'Bai', 'anx': 'Bob', 'Hes': 'nkp', 'btl': 'Cun', 'Sty': 'Als', 'Mai': 'kov', 'hyi': 'Aet', 'zur': 'itp', 'Vol': 'ntc', 'kta': 'uky', 'jew': 'Zoa', 'adt': 'ahr', 'yfi': 'vix', 'kup': 'Ail', 'gnm': 'lsy', 'Cur': 'Cec', 'msc': 'aou', 'Myx': 'itk', 'poh': 'tza', 'Cri': 'koa', 'kre': 'dzo', 'Kan': 'Dap', 'Amo': 'dfe', 'Alg': 'mdu', 'Heb': 'asg', 'Jes': 'bax', 'ddr': 'xii', 'bpe': 'umg', 'yap': 'Cim', 'uqu': 'taq', 'adp': 'tph', 'Pit': 'ylb', 'uae': 'yfy', 'gnu': 'huj', 'eoh': 'usm', 'elr': 'rux', 'dgr': 'Cys', 'zid': 'yzi', 'wiz': 'tyt', 'jap': 'ofn', 'Don': 'Ald', 'eyb': 'caa', 'isw': 'wti', 'Dis': 'ntb', 'adc': 'kpe', 'apm': 'mpb', 'eyn': 'wnc', 'xiv': 'duv', 'ldb': 'Cul', 'aol': 'ftn', 'dna': 'ufr', 'lks': 'zly', 'gav': 'yob', 'biz': 'xne', 'nys': 'ryz', 'ptl': 'Dim', 'jad': 'meu', 'tcl': 'ltp', 'ecd': 'osg', 'nyo': 'Dae', 'sst': 'Dre', 'uaw': 'Cte', 'iit': 'ysg', 'dui': 'emd', 'anp': 'Dav', 'rnw': 'Cym', 'jig': 'Wes', 'gry': 'awp', 'Ich': 'Dot', 'Pra': 'rkf', 'lpu': 'wga', 'uze': 'ysl', 'bcl': 'ghr', 'lvo': 'jah', 'Sax': 'kkn', 'jai': 'acs', 'Der': 'wpe', 'Gor': 'Dod', 'rye': 'tqu', 'gfi': 'mui', 'nxi': 'keg', 'Thu': 'Cos', 'Gon': 'pii', 'ems': 'Bes', 'anv': 'aiw', 'xie': 'mki', 'Dra': 'eyh', 'pwi': 'fio', 'ygn': 'rkp', 'auf': 'Osm', 'sok': 'Sie', 'Plu': 'Kin', 'oyd': 'Kir', 'iak': 'Sig', 'mik': 'oxu', 'knu': 'Kla', 'owk': 'ipf', 'vim': 'ldc', 'asb': 'kry', 'olh': 'laa', 'Pap': 'lsp', 'Bot': 'zib', 'usb': 'Ect', 'ddh': 'Tak', 'Thy': 'Bag', 'Bou': 'kym', 'ogw': 'msm', 'Han': 'ksw', 'ruk': 'kcr', 'lpl': 'cao', 'akt': 'msk', 'fne': 'tht', 'sii': 'Shu', 'pbe': 'kch', 'ldw': 'Set', 'kbe': 'pej', 'Lut': 'tsy', 'dcr': 'izy', 'eik': 'kow', 'Orn': 'Tig', 'dak': 'beo', 'oig': 'Peg', 'ngd': 'Jam', 'sru': 'oxt', 'xig': 'bex', 'dut': 'yun', 'pax': 'kua', 'gep': 'lze', 'rdh': 'fhe', 'yrh': 'Bee', 'Spo': 'Jug', 'Mur': 'pga', 'Afr': 'dsw', 'rtz': 'ayh', 'Lab': 'Kaf', 'wip': 'kaf', 'Lei': 'Baa', 'koi': 'nsr', 'zod': 'Orb', 'Leo': 'hmu', 'Eli': 'hke', 'epw': 'iei', 'enp': 'Asa', 'msp': 'Mid', 'etz': 'rmp', 'Eng': 'tyk', 'dgm': 'rck', 'Ric': 'htu', 'Ort': 'wum', 'jon': 'wun', 'rps': 'mch', 'oiz': 'Mys', 'euk': 'eko', 'aam': 'hch', 'xch': 'yeh', 'tze': 'uoc', 'hoz': 'soy', 'Was': 'Ans', 'ewt': 'xes', 'pah': 'gug', 'dti': 'Nin', 'oaf': 'amc', 'wso': 'ofy', 'eyw': 'Lyn', 'ldh': 'Ora', 'aan': 'zeo', 'Fri': 'lnu', 'acm': 'Swi', 'aef': 'lri', 'kio': 'Lob', 'sju': 'Yur', 'maw': 'Alu', 'Ali': 'wmo', 'gta': 'Sum', 'dud': 'Lyo', 'aev': 'tka', 'ltm': 'iav', 'Mis': 'xoa', 'Got': 'vah', 'Ves': 'Sud', 'kka': 'Maj', 'Kat': 'vra', 'Swa': 'bpu', 'Agr': 'Atr', 'iek': 'maa', 'ytu': 'Atl', 'udu': 'Aka', 'kbr': 'tix', 'Lar': 'ryf', 'hoy': 'Sav', 'kdo': 'eib', 'tbl': 'Cab', 'nyx': 'nsb', 'fod': 'abt', 'tpu': 'yey', 'cok': 'psl', 'Wil': 'otn', 'Jer': 'yrn', 'Ami': 'Rox', 'wdy': 'yrl', 'ekk': 'Fun', 'rby': 'Pyc', 'uoi': 'ahs', 'Win': 'syw', 'agw': 'umw', 'xad': 'ehr', 'zeu': 'umt', 'Des': 'lkh', 'apb': 'aww', 'wap': 'vii', 'Rap': 'Ulo', 'Nat': 'Pyg', 'wnw': 'otg', 'wye': 'fom', 'Das': 'mve', 'Van': 'idp', 'elg': 'eky', 'Coe': 'ukk', 'pca': 'Eud', 'ghh': 'ffm', 'miq': 'xea', 'ldy': 'Sah', 'Jul': 'ghn', 'pyt': 'tvi', 'Hae': 'xsi', 'Lop': 'xub', 'Ent': 'bvo', 'Sim': 'Fab', 'rkn': 'apf', 'oob': 'naa', 'eyf': 'mci', 'dbu': 'yus', 'Ada': 'Rec', 'jee': 'fbo', 'xma': 'cyd', 'Fla': 'kav', 'upy': 'Ras', 'jau': 'sbr', 'yke': 'ffw', 'akr': 'Has', 'idw': 'Hon', 'Alp': 'tdr', 'Flo': 'Agn', 'Kor': 'lpf', 'upg': 'okb', 'uec': 'Hie', 'Phe': 'goh', 'irh': 'opg', 'pwe': 'odk', 'vew': 'bfl', 'Pie': 'obf', 'Pis': 'Edw', 'hao': 'osn', 'odc': 'wpi', 'ueo': 'smy', 'Moh': 'dsu', 'zee': 'Hyl', 'ogb': 'Rud', 'tyn': 'iao', 'Mir': 'Pli', 'Exo': 'Ido', 'few': 'xuo', 'ftw': 'Tox', 'Sun': 'huz', 'ynu': 'pfa', 'Ori': 'udf', 'lmy': 'yki', 'cza': 'Gir', 'nkb': 'Gly', 'kbu': 'Gna', 'uim': 'mcr', 'ftm': 'ldt', 'hto': 'kof', 'dvo': 'ssd', 'oym': 'eok', 'arz': 'udh', 'xyb': 'udb', 'Fil': 'Aeo', 'fim': 'Pti', 'Ken': 'gdi', 'feo': 'guz', 'Cop': 'wgr', 'buz': 'tts', 'gub': 'ksk', 'fma': 'Siv', 'tgr': 'vak', 'tyf': 'xly', 'Dec': 'bfi', 'ouv': 'bav', 'Syr': 'Tae', 'oja': 'Rot', 'nay': 'wnh', 'zox': 'oeq', 'Lem': 'ksl', 'Cli': 'yau', 'zoe': 'eaz', 'ija': 'Let', 'lkl': 'Lip', 'tii': 'uhe', 'End': 'Dyo', 'bda': 'sdr', 'Chu': 'tyw', 'fov': 'jeo', 'jej': 'cst', 'Eph': 'hka', 'xle': 'agd', 'eov': 'oaz', 'iez': 'yow', 'apw': 'Aes', 'Kha': 'Rou', 'gwe': 'Psy', 'wke': 'ecp', 'ldu': 'Lec', 'stt': 'Clu', 'Pom': 'gmy', 'ipb': 'nao', 'agb': 'peh', 'Pon': 'dyk', 'eux': 'epb', 'dje': 'ylm', 'lsm': 'yls', 'bpa': 'xli', 'xah': 'zac', 'kei': 'pek', 'gud': 'Pag', 'Tyr': 'pof', 'uep': 'Hec', 'mep': 'shk', 'Bre': 'jaz', 'pfl': 'Tyl', 'Gar': 'aii', 'Gan': 'Thr', 'Ner': 'joh', 'yfl': 'Apl', 'ycu': 'mda', 'oue': 'opc', 'Pac': 'dpl', 'oxb': 'tvo', 'utn': 'wte', 'ndg': 'fot', 'Cic': 'Ges', 'Cin': 'akf', 'oxc': 'axm', 'whu': 'guy', 'hpi': 'Sho', 'sgi': 'uvu', 'Hib': 'tyd', 'ayt': 'omw', 'Soc': 'mco', 'ouf': 'mof', 'baf': 'Wan', 'meb': 'dcl', 'Oly': 'Gom', 'pbu': 'ylc', 'Myc': 'sfl', 'lih': 'Adi', 'Oli': 'tda', 'Bon': 'ugs', 'His': 'hfl', 'yfa': 'Sot', 'ozz': 'Hyr', 'duk': 'ikk', 'Ace': 'dyg', 'Hor': 'kda', 'kus': 'dax', 'utv': 'mij', 'Fer': 'jav', 'urw': 'jak', 'Uro': 'opf', 'Opi': 'jat', 'owo': 'ziz', 'uol': 'bbu', 'wla': 'Myo', 'Hun': 'Que', 'Naz': 'tke', 'owg': 'xym', 'Dal': 'evy', 'Xan': 'Hya', 'dix': 'Pia', 'Sap': 'uji', 'rnp': 'dki', 'tey': 'ueh', 'hbu': 'Tup', 'pox': 'wbu', 'auv': 'sej', 'owc': 'owz', 'bhe': 'Sop', 'ycr': 'oae', 'ipc': 'wof', 'ylp': 'jay', 'ywh': 'Hug', 'stg': 'Hum', 'hsi': 'utk', 'tek': 'Try', 'awt': 'aua', 'beq': 'Gel', 'wny': 'zag', 'lyf': 'vop', 'wry': 'Kit', 'mfi': 'gka', 'vee': 'exq', 'Scl': 'xqu', 'gso': 'Orp', 'rtg': 'uby', 'ghf': 'mao', 'uxa': 'tyg', 'kak': 'dhu', 'myz': 'Fel', 'Maz': 'Mae', 'Sto': 'Rhe', 'Iri': 'mpf', 'dya': 'lej', 'Lac': 'tno', 'laf': 'tao', 'baw': 'Cay', 'Cre': 'gao', 'Mun': 'pda', 'kru': 'lno', 'Lis': 'sya', 'sah': 'bmu', 'zyl': 'uah', 'Lor': 'hns', 'djo': 'Era', 'xya': 'Ere', 'Tag': 'Dac', 'Les': 'xyr', 'wdo': 'bnu', 'vef': 'tgo', 'Are': 'maq', 'aip': 'lml', 'aos': 'cey', 'odf': 'mwe', 'asw': 'ozl', 'sva': 'nez', 'psp': 'Aut', 'ysu': 'rnh', 'caj': 'Sai', 'Nar': 'akk', 'xul': 'wod', 'Sen': 'Kab', 'Cot': 'Aug', 'Oct': 'rsq', 'lms': 'Umb', 'aie': 'Oto', 'exf': 'bth', 'wme': 'Cyt', 'ohm': 'Fur', 'Cir': 'euv', 'buo': 'Gam', 'xho': 'Dun', 'iln': 'emv', 'pba': 'tce', 'aon': 'lkm', 'hfa': 'mbd', 'Amm': 'Oss', 'Sti': 'amt', 'idh': 'Cad', 'mlo': 'gaf', 'stv': 'dch', 'Kal': 'tiw', 'ckd': 'ulw', 'vur': 'Ata', 'yah': 'ooh', 'kpr': 'Tai', 'jos': 'mhe', 'Zap': 'mfr', 'dsc': 'Ira', 'ghm': 'ltw', 'Ass': 'dta', 'uum': 'agt', 'iku': 'aot', 'pey': 'Lud', 'bcr': 'War', 'nsq': 'isv', 'zic': 'Zeu', 'Zan': 'Agl', 'Pot': 'pni', 'jib': 'nsd', 'jok': 'Eut', 'Lev': 'Ces', 'Lau': 'Ses', 'Tac': 'ahd', 'Aco': 'cev', 'rij': 'Raj', 'Gri': 'ufl', 'shh': 'xwo', 'geh': 'hda', 'fif': 'nuk', 'eox': 'afu', 'rkh': 'Ble', 'obn': 'Amy', 'upm': 'wdl', 'gti': 'tja', 'Hil': 'Mim', 'Gru': 'pke', 'mra': 'Isl', 'tuk': 'fiz', 'zzy': 'lni', 'uko': 'Aba', 'oju': 'Scr', 'rkw': 'uxt', 'Asi': 'Rob', 'Ill': 'kko', 'igw': 'Ton', 'kme': 'rnc', 'bpo': 'tzo', 'wah': 'sga', 'Spe': 'yeo', 'ekl': 'ryh', 'bsp': 'mox', 'ewy': 'sfr', 'llc': 'xse', 'aji': 'ugb', 'rdb': 'hny', 'vik': 'euh', 'axw': 'Ing', 'hpa': 'fwa', 'tdi': 'udw', 'Gil': 'xyn', 'zob': 'Net', 'Bud': 'gah', 'yry': 'Lou', 'lbr': 'jux', 'awr': 'Nap', 'lts': 'hoh', 'bfu': 'zif', 'uev': 'obw', 'Ved': 'ckj', 'lra': 'kod', 'ijo': 'akw', 'zzo': 'irv', 'igs': 'eln', 'Alo': 'Zen', 'boe': 'rjo', 'vus': 'fdo', 'Bib': 'aoc', 'lna': 'tgl', 'Dol': 'iye', 'ryx': 'ioz', 'sek': 'bge', 'sik': 'inz', 'Tab': 'hyx', 'eah': 'Apt', 'tve': 'ceh', 'jea': 'zec', 'hsa': 'Nec', 'mwa': 'Ory', 'zof': 'Zon', 'yew': 'eeg', 'ruo': 'cku', 'epf': 'Lil', 'zig': 'pph', 'alh': 'edt', 'mfl': 'opk', 'gnl': 'rkb', 'ojo': 'psc', 'cma': 'mpn', 'Jew': 'yof', 'okm': 'yns', 'uza': 'ssc', 'tsk': 'hyu', 'vov': 'rdc', 'moy': 'oeg', 'Cyr': 'Pec', 'Kri': 'Pad', 'Cle': 'Cly', 'gbi': 'Avi', 'Wag': 'lgl', 'dga': 'xyh', 'tcy': 'ocn', 'ubw': 'riw', 'otp': 'mpw', 'yia': 'ngc', 'zai': 'kfo', 'olw': 'dug', 'nix': 'mii', 'thh': 'iok', 'bej': 'mpm', 'phn': 'idm', 'thc': 'xob', 'lfh': 'ghy', 'Ker': 'Cis', 'oik': 'tcu', 'oza': 'pfi', 'edh': 'mey', 'Nes': 'Ott', 'jen': 'msa', 'Gui': 'jui', 'ghs': 'nji', 'Enc': 'fwi', 'Bak': 'rnn', 'ayu': 'zap', 'piv': 'Lea', 'Lib': 'Egy', 'jit': 'gtr', 'daf': 'zul', 'hde': 'wfl', 'goy': 'veb', 'lsu': 'ckg', 'ypu': 'nyh', 'uop': 'Jea', 'Hym': 'Sag', 'bcu': 'uap', 'Cau': 'kao', 'Wel': 'Sym', 'Iso': 'Nit', 'epm': 'lfw', 'Lag': 'Vir', 'tki': 'Nov', 'Gad': 'dlu', 'Tin': 'Rod', 'gii': 'lhy', 'Sir': 'Dur', 'tpl': 'zou', 'Bul': 'dek', 'Dam': 'pgr', 'rmf': 'nss', 'tna': 'rtc', 'gip': 'oeh', 'eyd': 'Wen', 'uoy': 'ogf', 'xus': 'tva', 'nkm': 'mav', 'jow': 'Hat', 'eyo': 'jil', 'caw': 'pwr', 'Alm': 'iby', 'moz': 'Sid', 'sgo': 'wbr', 'yny': 'oyf', 'udr': 'Nyc', 'aib': 'umr', 'bsa': 'Yah', 'itb': 'nku', 'Nan': 'Fin', 'Pur': 'ltf', 'wsm': 'mbs', 'Pop': 'bsh', 'gsm': 'tgu', 'hek': 'Tus', 'kib': 'suk', 'iut': 'ghu', 'usq': 'obc', 'Sus': 'saz', 'odb': 'fef', 'ycy': 'Alt', 'hbi': 'ayr', 'Sis': 'lao', 'Tau': 'Dei', 'wiv': 'pdo', 'cdo': 'meh', 'ksp': 'nye', 'Son': 'irf', 'Vic': 'Cya', 'wov': 'zep', 'sge': 'uei', 'wnf': 'Abe', 'bmo': 'yiz', 'skr': 'uig', 'edc': 'ugw', 'dok': 'Bah', 'eyr': 'ecs', 'oxh': 'bfa', 'Bea': 'jim', 'ltz': 'wob', 'Gol': 'rzi', 'zli': 'liw', 'Kas': 'Tom', 'Mam': 'atz', 'bye': 'axt', 'buy': 'jog', 'aue': 'kob', 'imr': 'Sou', 'amr': 'hyh', 'Ful': 'Abr', 'Mau': 'hup', 'wnt': 'vep', 'Oxy': 'kiv', 'Ado': 'vod', 'pth': 'Sul', 'ceg': 'wpo', 'jul': 'bto', 'gya': 'Til', 'Xyl': 'Aqu', 'xaz': 'Pil', 'ayc': 'Num', 'Bry': 'mti', 'Dro': 'omr', 'Elo': 'Aeg', 'odp': 'dcu', 'kay': 'mla', 'bfo': 'esd', 'tpe': 'bna', 'byc': 'gpi', 'wow': 'ynn', 'nko': 'ydn', 'ewm': 'ywr', 'wsp': 'aar', 'wto': 'ekt', 'chg': 'ewn', 'sfy': 'Plo', 'Ion': 'uya', 'pui': 'dco', 'sbi': 'Gae', 'twr': 'ogd', 'Pul': 'urh', 'Pip': 'nmy', 'yrs': 'tfe', 'Ani': 'wdr', 'Bis': 'wdi', 'Ave': 'ylg', 'Var': 'haa', 'Tol': 'yty', 'ptn': 'ghw', 'evr': 'kif', 'vro': 'agp', 'wfi': 'yhy', 'Tat': 'kte', 'umy': 'Jov', 'awh': 'huk', 'Eug': 'yee', 'hdo': 'bgl', 'Phr': 'Jos', 'Eus': 'uha', 'lkw': 'ntp', 'ldm': 'ckk', 'nrh': 'gof', 'Pru': 'iex', 'ivy': 'ayp', 'omt': 'kmo', 'hgo': 'ufo', 'Did': 'Vin', 'Nas': 'kpi', 'ruv': 'Jus', 'Nab': 'wnb', 'hfi': 'ksa', 'byi': 'Gau', 'dyb': 'xoi', 'oef': 'ayg', 'ssr': 'wfa', 'ewb': 'bwe', 'hse': 'mth', 'htr': 'Gob', 'Hir': 'Att', 'otf': 'lek', 'iea': 'Sak', 'lcr': 'Syl', 'fiv': 'mpk', 'Ash': 'Gue', 'kfa': 'Dry', 'Aur': 'aee', 'nsg': 'Tem', 'egs': 'emf', 'Sic': 'Pam', 'New': 'uon', 'mwi': 'Had', 'Emb': 'Thi', 'Cuc': 'Smi', 'fop': 'upd', 'Cac': 'pak', 'Apa': 'Typ', 'Ura': 'uja', 'Ole': 'pch', 'Xip': 'Ore', 'okr': 'Eth', 'Psi': 'lsk', 'unz': 'woe', 'khi': 'opb', 'Vul': 'taz', 'piq': 'maf', 'Pre': 'Kon', 'pcr': 'Loc', 'ngp': 'hnu', 'Hex': 'axl', 'jov': 'Ess', 'hga': 'aks', 'Hep': 'Lol', 'uja': 'kut', 'pch': 'xfo', 'Ore': 'rez', 'Eth': 'urz', 'lsk': 'kyr', 'woe': 'faw', 'opb': 'Kur', 'taz': 'Osc', 'maf': 'Tec', 'Kon': 'lko', 'Loc': 'Uni', 'hnu': 'ynx', 'axl': 'fth', 'Ess': 'Sad', 'aks': 'rmn', 'Lol': 'Fis', 'kut': 'Byr', 'xfo': 'ayd', 'rez': 'raa', 'urz': 'ctm', 'kyr': 'exl', 'faw': 'Cai', 'Kur': 'poz', 'Osc': 'cii', 'Tec': 'utj', 'lko': 'muz', 'Uni': 'euo', 'ynx': 'mek', 'fth': 'Cet', 'Sad': 'duf', 'rmn': 'Ron', 'Fis': 'Bun', 'Byr': 'Eve', 'ayd': 'ewf', 'raa': 'yeb', 'ctm': 'laq', 'exl': 'fsh', 'Cai': 'atp', 'poz': 'ngk', 'cii': 'syb', 'utj': 'yoh', 'muz': 'xeg', 'euo': 'iis', 'mek': 'hcr', 'Cet': 'imf', 'duf': 'rsn', 'Ron': 'Yan', 'Bun': 'ntz', 'Eve': 'wbi', 'ewf': 'ezy', 'yeb': 'yoe', 'laq': 'Gyr', 'fsh': 'ogt', 'atp': 'hdi', 'ngk': 'Isa', 'syb': 'kth', 'yoh': 'kpo', 'xeg': 'dpi', 'iis': 'Nah', 'hcr': 'uey', 'imf': 'aep', 'rsn': 'Hai', 'Yan': 'uom', 'ntz': 'eow', 'wbi': 'Tun', 'ezy': 'zes', 'yoe': 'lgy', 'Gyr': 'Vis', 'ogt': 'dyw', 'hdi': 'Mec', 'Isa': 'mev', 'kth': 'Boe', 'kpo': 'mfe', 'dpi': 'byo', 'Nah': 'dpo', 'uey': 'Jon', 'aep': 'rmh', 'Hai': 'Sec', 'uom': 'wfo', 'eow': 'wur', 'Tun': 'tyh', 'zes': 'amh', 'lgy': 'jal', 'Vis': 'yae', 'dyw': 'fak', 'Mec': 'Aci', 'mev': 'ibs', 'Boe': 'rpy', 'mfe': 'aui', 'byo': 'okw', 'dpo': 'hpl', 'Jon': 'ggo', 'rmh': 'Dem', 'Sec': 'chk', 'wfo': 'ufe', 'wur': 'soz', 'tyh': 'ikh', 'amh': 'Api', 'jal': 'pyi', 'yae': 'sjo', 'fak': 'ndt', 'Aci': 'Bil', 'ibs': 'Sub', 'rpy': 'ygy', 'aui': 'acn', 'okw': 'mez', 'hpl': 'God', 'ggo': 'foe', 'Dem': 'nok', 'chk': 'Bom', 'ufe': 'Stu', 'soz': 'rza', 'ikh': 'thp', 'Api': 'fud', 'pyi': 'bmo', 'sjo': 'skr', 'ndt': 'edc', 'Bil': 'dok', 'Sub': 'eyr', 'ygy': 'oxh', 'acn': 'Bea', 'mez': 'ltz', 'God': 'Gol', 'foe': 'zli', 'nok': 'Kas', 'Bom': 'Mam', 'Stu': 'bye', 'rza': 'buy', 'thp': 'aue', 'fud': 'imr', 'Dur': 'amr', 'zou': 'Ful', 'dek': 'Mau', 'pgr': 'wnt', 'nss': 'Oxy', 'rtc': 'Ado', 'oeh': 'pth', 'Wen': 'ceg', 'ogf': 'jul', 'tva': 'gya', 'mav': 'Xyl', 'Hat': 'xaz', 'jil': 'ayc', 'pwr': 'Bry', 'iby': 'Dro', 'Sid': 'Elo', 'wbr': 'odp', 'oyf': 'kay', 'Nyc': 'bfo', 'umr': 'tpe', 'Yah': 'byc', 'nku': 'wow', 'Fin': 'nko', 'ltf': 'ewm', 'mbs': 'wsp', 'bsh': 'wto', 'tgu': 'chg', 'Tus': 'sfy', 'suk': 'Ion', 'ghu': 'pui', 'obc': 'sbi', 'saz': 'twr', 'fef': 'Pul', 'Alt': 'Pip', 'ayr': 'yrs', 'lao': 'Ani', 'Dei': 'Bis', 'pdo': 'Ave', 'meh': 'Var', 'nye': 'Tol', 'irf': 'ptn', 'Cya': 'evr', 'zep': 'vro', 'uei': 'wfi', 'Abe': 'Tat', 'yiz': 'umy', 'uig': 'awh', 'ugw': 'Eug', 'Bah': 'hdo', 'ecs': 'Phr', 'bfa': 'Eus', 'jim': 'lkw', 'wob': 'ldm', 'rzi': 'nrh', 'liw': 'Pru', 'Tom': 'ivy', 'atz': 'omt', 'axt': 'hgo', 'jog': 'Did', 'kob': 'Nas', 'Sou': 'ruv', 'hyh': 'Nab', 'Abr': 'hfi', 'hup': 'byi', 'vep': 'dyb', 'kiv': 'oef', 'vod': 'ssr', 'Sul': 'ewb', 'wpo': 'hse', 'bto': 'htr', 'Til': 'Hir', 'Aqu': 'otf', 'Pil': 'iea', 'Num': 'lcr', 'mti': 'fiv', 'omr': 'Ash', 'Aeg': 'kfa', 'dcu': 'Aur', 'mla': 'nsg', 'esd': 'egs', 'bna': 'Sic', 'gpi': 'New', 'ynn': 'mwi', 'ydn': 'Emb', 'ywr': 'Cuc', 'aar': 'fop', 'ekt': 'Cac', 'ewn': 'Apa', 'Plo': 'Ura', 'uya': 'Ole', 'dco': 'Xip', 'Gae': 'okr', 'ogd': 'Psi', 'urh': 'unz', 'nmy': 'khi', 'tfe': 'Vul', 'wdr': 'piq', 'wdi': 'Pre', 'ylg': 'pcr', 'haa': 'ngp', 'yty': 'Hex', 'ghw': 'jov', 'kif': 'hga', 'agp': 'Hep', 'yhy': 'ryx', 'kte': 'sek', 'Jov': 'sik', 'huk': 'Tab', 'yee': 'eah', 'bgl': 'tve', 'Jos': 'jea', 'uha': 'hsa', 'ntp': 'mwa', 'ckk': 'zof', 'gof': 'yew', 'iex': 'ruo', 'ayp': 'epf', 'kmo': 'zig', 'ufo': 'alh', 'Vin': 'mfl', 'kpi': 'gnl', 'Jus': 'ojo', 'wnb': 'cma', 'ksa': 'Jew', 'Gau': 'okm', 'xoi': 'uza', 'ayg': 'tsk', 'wfa': 'vov', 'bwe': 'moy', 'mth': 'Cyr', 'Gob': 'Kri', 'Att': 'Cle', 'lek': 'gbi', 'Sak': 'Wag', 'Syl': 'dga', 'mpk': 'tcy', 'Gue': 'ubw', 'Dry': 'otp', 'aee': 'yia', 'Tem': 'zai', 'emf': 'olw', 'Pam': 'nix', 'uon': 'thh', 'Had': 'bej', 'Thi': 'phn', 'Smi': 'thc', 'upd': 'lfh', 'pak': 'Ker', 'Typ': 'oik', 'dch': 'oza', 'tiw': 'edh', 'ulw': 'Nes', 'Ata': 'jen', 'ooh': 'Gui', 'Tai': 'ghs', 'mhe': 'Enc', 'mfr': 'Bak', 'Ira': 'ayu', 'ltw': 'piv', 'dta': 'Lib', 'agt': 'jit', 'aot': 'daf', 'Lud': 'hde', 'War': 'goy', 'isv': 'lsu', 'Zeu': 'ypu', 'Agl': 'uop', 'pni': 'Hym', 'nsd': 'bcu', 'Eut': 'Cau', 'Ces': 'Wel', 'Ses': 'Iso', 'ahd': 'epm', 'cev': 'Lag', 'Raj': 'tki', 'ufl': 'Gad', 'xwo': 'Tin', 'hda': 'gii', 'nuk': 'Sir', 'afu': 'tpl', 'Ble': 'Bul', 'Amy': 'Dam', 'wdl': 'rmf', 'tja': 'tna', 'Mim': 'gip', 'pke': 'eyd', 'Isl': 'uoy', 'fiz': 'xus', 'lni': 'nkm', 'Aba': 'jow', 'Scr': 'eyo', 'uxt': 'caw', 'Rob': 'Alm', 'kko': 'moz', 'Ton': 'sgo', 'rnc': 'yny', 'tzo': 'udr', 'sga': 'aib', 'yeo': 'bsa', 'ryh': 'itb', 'mox': 'Nan', 'sfr': 'Pur', 'xse': 'wsm', 'ugb': 'Pop', 'hny': 'gsm', 'euh': 'hek', 'Ing': 'kib', 'fwa': 'iut', 'udw': 'usq', 'xyn': 'Sus', 'Net': 'odb', 'gah': 'ycy', 'Lou': 'hbi', 'jux': 'Sis', 'Nap': 'Tau', 'hoh': 'wiv', 'zif': 'cdo', 'obw': 'ksp', 'ckj': 'Son', 'kod': 'Vic', 'akw': 'wov', 'irv': 'sge', 'eln': 'wnf', 'Zen': 'odf', 'rjo': 'asw', 'fdo': 'sva', 'aoc': 'psp', 'tgl': 'ysu', 'iye': 'caj', 'ioz': 'Nar', 'bge': 'xul', 'inz': 'Sen', 'hyx': 'Cot', 'Apt': 'Oct', 'ceh': 'lms', 'zec': 'aie', 'Nec': 'exf', 'Ory': 'wme', 'Zon': 'ohm', 'eeg': 'Cir', 'cku': 'buo', 'Lil': 'xho', 'pph': 'iln', 'edt': 'pba', 'opk': 'aon', 'rkb': 'hfa', 'psc': 'Amm', 'mpn': 'Sti', 'yof': 'idh', 'yns': 'mlo', 'ssc': 'stv', 'hyu': 'Kal', 'rdc': 'ckd', 'oeg': 'vur', 'Pec': 'yah', 'Pad': 'kpr', 'Cly': 'jos', 'Avi': 'Zap', 'lgl': 'dsc', 'xyh': 'ghm', 'ocn': 'Ass', 'riw': 'uum', 'mpw': 'iku', 'ngc': 'pey', 'kfo': 'bcr', 'dug': 'nsq', 'mii': 'zic', 'iok': 'Zan', 'mpm': 'Pot', 'idm': 'jib', 'xob': 'jok', 'ghy': 'Lev', 'Cis': 'Lau', 'tcu': 'Tac', 'pfi': 'Aco', 'mey': 'rij', 'Ott': 'Gri', 'msa': 'shh', 'jui': 'geh', 'nji': 'fif', 'fwi': 'eox', 'rnn': 'rkh', 'zap': 'obn', 'Lea': 'upm', 'Egy': 'gti', 'gtr': 'Hil', 'zul': 'Gru', 'wfl': 'mra', 'veb': 'tuk', 'ckg': 'zzy', 'nyh': 'uko', 'Jea': 'oju', 'Sag': 'rkw', 'uap': 'Asi', 'kao': 'Ill', 'Sym': 'igw', 'Nit': 'kme', 'lfw': 'bpo', 'Vir': 'wah', 'Nov': 'Spe', 'dlu': 'ekl', 'Rod': 'bsp', 'lhy': 'ewy', 'Siv': 'llc', 'vak': 'aji', 'xly': 'rdb', 'bfi': 'vik', 'bav': 'axw', 'Tae': 'hpa', 'Rot': 'tdi', 'wnh': 'Gil', 'oeq': 'zob', 'ksl': 'Bud', 'yau': 'yry', 'eaz': 'lbr', 'Let': 'awr', 'Lip': 'lts', 'uhe': 'bfu', 'Dyo': 'uev', 'sdr': 'Ved', 'tyw': 'lra', 'jeo': 'ijo', 'cst': 'zzo', 'hka': 'igs', 'agd': 'Alo', 'oaz': 'boe', 'yow': 'vus', 'Aes': 'Bib', 'Rou': 'lna', 'Psy': 'Dol', 'ecp': 'oxb', 'Lec': 'utn', 'Clu': 'ndg', 'gmy': 'Cic', 'nao': 'Cin', 'peh': 'oxc', 'dyk': 'whu', 'epb': 'hpi', 'ylm': 'sgi', 'yls': 'Hib', 'xli': 'ayt', 'zac': 'Soc', 'pek': 'ouf', 'Pag': 'baf', 'pof': 'meb', 'Hec': 'Oly', 'shk': 'pbu', 'jaz': 'Myc', 'Tyl': 'lih', 'aii': 'Oli', 'Thr': 'Bon', 'joh': 'His', 'Apl': 'yfa', 'mda': 'ozz', 'opc': 'duk', 'dpl': 'Ace', 'tvo': 'Hor', 'wte': 'kus', 'fot': 'utv', 'Ges': 'Fer', 'akf': 'urw', 'axm': 'Uro', 'guy': 'Opi', 'Sho': 'owo', 'uvu': 'uol', 'tyd': 'wla', 'omw': 'Hun', 'mco': 'Naz', 'mof': 'owg', 'Wan': 'Dal', 'dcl': 'Xan', 'Gom': 'dix', 'ylc': 'Sap', 'sfl': 'rnp', 'Adi': 'tey', 'tda': 'hbu', 'ugs': 'pox', 'hfl': 'auv', 'Sot': 'owc', 'Hyr': 'bhe', 'ikk': 'ycr', 'dyg': 'ipc', 'kda': 'ylp', 'dax': 'ywh', 'mij': 'stg', 'jav': 'hsi', 'jak': 'tek', 'opf': 'awt', 'jat': 'beq', 'ziz': 'wny', 'bbu': 'lyf', 'Myo': 'wry', 'Que': 'mfi', 'tke': 'vee', 'xym': 'Scl', 'evy': 'gso', 'Hya': 'rtg', 'Pia': 'ghf', 'uji': 'uxa', 'dki': 'kak', 'ueh': 'myz', 'Tup': 'Maz', 'wbu': 'Sto', 'sej': 'Iri', 'owz': 'dya', 'Sop': 'Lac', 'oae': 'laf', 'wof': 'baw', 'jay': 'Cre', 'Hug': 'Mun', 'Hum': 'kru', 'utk': 'Lis', 'Try': 'sah', 'aua': 'zyl', 'Gel': 'Lor', 'zag': 'djo', 'vop': 'xya', 'Kit': 'Tag', 'gka': 'Les', 'exq': 'wdo', 'xqu': 'vef', 'Orp': 'Are', 'uby': 'aip', 'mao': 'aos', 'tyg': 'uec', 'dhu': 'Phe', 'Fel': 'irh', 'Mae': 'pwe', 'Rhe': 'vew', 'mpf': 'Pie', 'lej': 'Pis', 'tno': 'hao', 'tao': 'odc', 'Cay': 'ueo', 'gao': 'Moh', 'pda': 'zee', 'lno': 'ogb', 'sya': 'tyn', 'bmu': 'Mir', 'uah': 'Exo', 'hns': 'few', 'Era': 'ftw', 'Ere': 'Sun', 'Dac': 'ynu', 'xyr': 'Ori', 'bnu': 'lmy', 'tgo': 'cza', 'maq': 'nkb', 'lml': 'kbu', 'cey': 'uim', 'mwe': 'ftm', 'ozl': 'hto', 'nez': 'dvo', 'Aut': 'oym', 'rnh': 'arz', 'Sai': 'xyb', 'akk': 'Fil', 'wod': 'fim', 'Kab': 'Ken', 'Aug': 'feo', 'rsq': 'Cop', 'Umb': 'buz', 'Oto': 'gub', 'bth': 'fma', 'Cyt': 'tgr', 'Fur': 'tyf', 'euv': 'Dec', 'Gam': 'ouv', 'Dun': 'Syr', 'emv': 'oja', 'tce': 'nay', 'lkm': 'zox', 'mbd': 'Lem', 'Oss': 'Cli', 'amt': 'zoe', 'Cad': 'ija', 'gaf': 'lkl', 'wnc': 'tii', 'duv': 'End', 'Cul': 'bda', 'ftn': 'Chu', 'ufr': 'fov', 'zly': 'jej', 'yob': 'Eph', 'xne': 'xle', 'ryz': 'eov', 'Dim': 'iez', 'meu': 'apw', 'ltp': 'Kha', 'osg': 'gwe', 'Dae': 'wke', 'Dre': 'ldu', 'Cte': 'stt', 'ysg': 'Pom', 'emd': 'ipb', 'Dav': 'agb', 'Cym': 'Pon', 'Wes': 'eux', 'awp': 'dje', 'Dot': 'lsm', 'rkf': 'bpa', 'wga': 'xah', 'ysl': 'kei', 'ghr': 'gud', 'jah': 'Tyr', 'kkn': 'uep', 'acs': 'mep', 'wpe': 'Bre', 'Dod': 'pfl', 'tqu': 'Gar', 'mui': 'Gan', 'keg': 'Ner', 'Cos': 'yfl', 'pii': 'ycu', 'Bes': 'oue', 'aiw': 'Pac', 'mki': 'ldh', 'eyh': 'aan', 'fio': 'Fri', 'rkp': 'acm', 'Osm': 'aef', 'Sie': 'kio', 'Kin': 'sju', 'Kir': 'maw', 'Sig': 'Ali', 'oxu': 'gta', 'Kla': 'dud', 'ipf': 'aev', 'ldc': 'ltm', 'kry': 'Mis', 'laa': 'Got', 'lsp': 'Ves', 'zib': 'kka', 'Ect': 'Kat', 'Tak': 'Swa', 'Bag': 'Agr', 'kym': 'iek', 'msm': 'ytu', 'ksw': 'udu', 'kcr': 'kbr', 'cao': 'Lar', 'msk': 'hoy', 'tht': 'kdo', 'Shu': 'tbl', 'kch': 'nyx', 'Set': 'fod', 'pej': 'tpu', 'tsy': 'cok', 'izy': 'Wil', 'kow': 'Jer', 'Tig': 'Ami', 'beo': 'wdy', 'Peg': 'ekk', 'Jam': 'rby', 'oxt': 'uoi', 'bex': 'Win', 'yun': 'agw', 'kua': 'xad', 'lze': 'zeu', 'fhe': 'Des', 'Bee': 'apb', 'Jug': 'wap', 'pga': 'Rap', 'dsw': 'Nat', 'ayh': 'wnw', 'Kaf': 'wye', 'kaf': 'Das', 'Baa': 'Van', 'nsr': 'elg', 'Orb': 'Coe', 'hmu': 'pca', 'hke': 'ghh', 'iei': 'miq', 'Asa': 'ldy', 'Mid': 'Jul', 'rmp': 'pyt', 'tyk': 'Hae', 'rck': 'Lop', 'htu': 'Ent', 'wum': 'Sim', 'wun': 'rkn', 'mch': 'oob', 'Mys': 'eyf', 'eko': 'dbu', 'hch': 'Ada', 'yeh': 'jee', 'uoc': 'xma', 'soy': 'Fla', 'Ans': 'upy', 'xes': 'jau', 'gug': 'yke', 'Nin': 'akr', 'amc': 'idw', 'ofy': 'Alp', 'Lyn': 'Flo', 'Ora': 'Kor', 'zeo': 'upg', 'lnu': 'Gor', 'Swi': 'rye', 'lri': 'gfi', 'Lob': 'nxi', 'Yur': 'Thu', 'Alu': 'Gon', 'wmo': 'ems', 'Sum': 'anv', 'Lyo': 'xie', 'tka': 'Dra', 'iav': 'pwi', 'xoa': 'ygn', 'vah': 'auf', 'Sud': 'sok', 'Maj': 'Plu', 'vra': 'oyd', 'bpu': 'iak', 'Atr': 'mik', 'maa': 'knu', 'Atl': 'owk', 'Aka': 'vim', 'tix': 'asb', 'ryf': 'olh', 'Sav': 'Pap', 'eib': 'Bot', 'Cab': 'usb', 'nsb': 'ddh', 'abt': 'Thy', 'yey': 'Bou', 'psl': 'ogw', 'otn': 'Han', 'yrn': 'ruk', 'Rox': 'lpl', 'yrl': 'akt', 'Fun': 'fne', 'Pyc': 'sii', 'ahs': 'pbe', 'syw': 'ldw', 'umw': 'kbe', 'ehr': 'Lut', 'umt': 'dcr', 'lkh': 'eik', 'aww': 'Orn', 'vii': 'dak', 'Ulo': 'oig', 'Pyg': 'ngd', 'otg': 'sru', 'fom': 'xig', 'mve': 'dut', 'idp': 'pax', 'eky': 'gep', 'ukk': 'rdh', 'Eud': 'yrh', 'ffm': 'Spo', 'xea': 'Mur', 'Sah': 'Afr', 'ghn': 'rtz', 'tvi': 'Lab', 'xsi': 'wip', 'xub': 'Lei', 'bvo': 'koi', 'Fab': 'zod', 'apf': 'Leo', 'naa': 'Eli', 'mci': 'epw', 'yus': 'enp', 'Rec': 'msp', 'fbo': 'etz', 'cyd': 'Eng', 'kav': 'dgm', 'Ras': 'Ric', 'sbr': 'Ort', 'ffw': 'jon', 'Has': 'rps', 'Hon': 'oiz', 'tdr': 'euk', 'Agn': 'aam', 'lpf': 'xch', 'okb': 'tze', 'Hie': 'hoz', 'goh': 'Was', 'opg': 'ewt', 'odk': 'pah', 'bfl': 'dti', 'obf': 'oaf', 'Edw': 'wso', 'osn': 'eyw', 'wpi': 'Mai', 'smy': 'hyi', 'dsu': 'zur', 'Hyl': 'Vol', 'Rud': 'kta', 'iao': 'jew', 'Pli': 'adt', 'Ido': 'yfi', 'xuo': 'kup', 'Tox': 'gnm', 'huz': 'Cur', 'pfa': 'msc', 'udf': 'Myx', 'yki': 'poh', 'Gir': 'Cri', 'Gly': 'kre', 'Gna': 'Kan', 'mcr': 'Amo', 'ldt': 'Alg', 'kof': 'Heb', 'ssd': 'Jes', 'eok': 'ddr', 'udh': 'bpe', 'udb': 'yap', 'Aeo': 'uqu', 'Pti': 'adp', 'gdi': 'Pit', 'guz': 'uae', 'wgr': 'gnu', 'tts': 'eoh', 'ksk': 'elr', 'Nos': 'dgr', 'Rub': 'zid', 'Saf': 'wiz', 'Slo': 'jap', 'Occ': 'Don', 'Pim': 'eyb', 'Oed': 'isw', 'Orc': 'Dis', 'tyb': 'adc', 'Sed': 'apm', 'Sea': 'eyn', 'Scu': 'xiv', 'Osi': 'ldb', 'Pto': 'aol', 'bof': 'dna', 'Oro': 'lks', 'paq': 'gav', 'Ren': 'biz', 'Sas': 'nys', 'Wei': 'ptl', 'Ono': 'jad', 'Deu': 'tcl', 'Rab': 'ecd', 'Reg': 'nyo', 'Rem': 'sst', 'cph': 'uaw', 'suv': 'iit', 'nps': 'dui', 'Hit': 'anp', 'igf': 'rnw', 'Gro': 'jig', 'Gun': 'gry', 'Gur': 'Ich', 'leq': 'Pra', 'Hei': 'lpu', 'Him': 'uze', 'Hop': 'bcl', 'Noc': 'lvo', 'Hys': 'Sax', 'Wat': 'jai', 'ouz': 'Der', 'Ili': 'viu', 'Isi': 'tni', 'Ism': 'vog', 'Isr': 'nkr', 'Ith': 'nkf', 'zis': 'ldn', 'Gem': 'ogs', 'khu': 'quy', 'fue': 'Gas', 'cth': 'ihu', 'Vit': 'yox', 'jic': 'Bur', 'Ell': 'rze', 'Emp': 'pov', 'Est': 'puz', 'ucy': 'coq', 'xhu': 'ufi', 'Fid': 'amf', 'mdo': 'Scy', 'pja': 'hof', 'Fle': 'rje', 'kyi': 'auk', 'tsl': 'dgy', 'Wah': 'ldf', 'Ito': 'Ten', 'Tib': 'tpi', 'Jef': 'Sor', 'Lot': 'bii', 'Lus': 'dpr', 'Sue': 'dbr', 'zip': 'bwo', 'bpl': 'irb', 'azd': 'Wal', 'bhy': 'pco', 'Mem': 'Jan', 'Sri': 'owr', 'Die': 'nyw', 'lct': 'Ery', 'yxa': 'Amb', 'Myz': 'bch', 'eua': 'htm', 'keu': 'Bos', 'Neu': 'abh', 'Nil': 'Tap', 'uiq': 'pib', 'Lom': 'Len', 'ghg': 'jab', 'Lig': 'Ros', 'Dom': 'kse', 'Kam': 'Joh', 'Tes': 'Lit', 'gbu': 'Nep', 'kik': 'mse', 'wae': 'chh', 'Doc': 'niq', 'yir': 'dfl', 'Tay': 'ouk', 'Kol': 'rko', 'kyp': 'Anc', 'uix': 'ndc', 'bni': 'zet', 'ekh': 'kaw', 'Syb': 'dyp', 'wot': 'amw', 'Lic': 'rwr', 'btf': 'Zyg', 'Rut': 'waf', 'hsm': 'iju', 'nck': 'anx', 'ugr': 'Hes', 'ukh': 'btl', 'uju': 'Sty', 'klu': 'ywe', 'Ard': 'edw', 'guf': 'ypl', 'ksu': 'dye', 'rms': 'wau', 'Arn': 'irw', 'Arr': 'eeh', 'wwe': 'nkh', 'Yak': 'aju', 'zew': 'bez', 'shc': 'uib', 'hca': 'lwe', 'vum': 'abj', 'yum': 'coz', 'Ate': 'udy', 'dyd': 'hbr', 'chv': 'Fal', 'woa': 'noy', 'hfo': 'uay', 'ixy': 'dah', 'lyx': 'skl', 'lfs': 'iau', 'shg': 'dno', 'fho': 'kba', 'pyx': 'sra', 'gza': 'For', 'igz': 'obd', 'pix': 'pmo', 'wsi': 'ahl', 'lbl': 'ybl', 'bux': 'rvu', 'yic': 'ilr', 'But': 'rsk', 'tlu': 'hpo', 'syi': 'wki', 'why': 'roq', 'oif': 'yid', 'App': 'bne', 'dyc': 'Lap', 'Aul': 'xyt', 'yhi': 'Buc', 'dke': 'ayn', 'yul': 'kke', 'odn': 'oev', 'rdt': 'xif', 'yec': 'abn', 'tje': 'tth', 'awc': 'Jun', 'dyh': 'Bru', 'dey': 'hey', 'psm': 'avu', 'Bam': 'tyi', 'tez': 'Leu', 'ehn': 'Odo', 'wsl': 'ewd', 'mbm': 'Ped', 'xdi': 'Bet', 'bhu': 'jet', 'bij': 'llt', 'Yor': 'Med', 'llr': 'Mah', 'oji': 'dja', 'zum': 'mho', 'oyc': 'xap', 'oxl': 'osq', 'uhi': 'iax', 'axb': 'Ham', 'xhe': 'mnu', 'osw': 'hue', 'rzo': 'fts', 'orz': 'hco', 'byh': 'Sip', 'kfl': 'aiz', 'ksc': 'Squ', 'wep': 'dbi', 'okh': 'dej', 'wyn': 'uio', 'Bai': 'Rhy', 'Bob': 'bek', 'nkp': 'mwo', 'Cun': 'hba', 'Als': 'xyp', 'kov': 'ezz', 'Aet': 'sko', 'itp': 'eym', 'ntc': 'uft', 'uky': 'ffs', 'Zoa': 'koo', 'ahr': 'ipw', 'vix': 'foa', 'Ail': 'mow', 'lsy': 'Tre', 'Cec': 'Bla', 'aou': 'msi', 'itk': 'kap', 'tza': 'gbe', 'koa': 'eoz', 'dzo': 'Tub', 'Dap': 'ssp', 'dfe': 'bvi', 'mdu': 'sda', 'asg': 'Aph', 'bax': 'Cae', 'xii': 'Lon', 'umg': 'buk', 'Cim': 'uds', 'taq': 'Cra', 'tph': 'Lyc', 'ylb': 'tbi', 'yfy': 'rtb', 'huj': 'lld', 'usm': 'jub', 'rux': 'ceu', 'Cys': 'puf', 'yzi': 'Sau', 'tyt': 'tug', 'ofn': 'ryw', 'Ald': 'orv', 'caa': 'thd', 'wti': 'fuc', 'ntb': 'Ele', 'kpe': 'peb', 'mpb': 'eip', 'kec': 'ckc', 'mdi': 'ytt', 'odt': 'Ann', 'dni': 'muf', 'oey': 'erz', 'rng': 'oou', 'Hut': 'kya', 'ltc': 'cye', 'Far': 'kti', 'uob': 'atn', 'Hot': 'puk', 'Fou': 'uxu', 'byw': 'Glo', 'Cah': 'Gla', 'pbi': 'llp', 'aod': 'zeb', 'Tul': 'ebt', 'Hin': 'teh', 'Fan': 'ooe', 'atk': 'Euc', 'dsk': 'opw', 'ehm': 'wac', 'Hoo': 'edm', 'pdr': 'deq', 'enq': 'fev', 'kpa': 'uem', 'Inc': 'vos', 'Imp': 'efy', 'kau': 'Gen', 'psw': 'cue', 'Igu': 'baz', 'bfe': 'odm', 'Tot': 'doz', 'Bir': 'akl', 'cyb': 'Tho', 'shs': 'umd', 'Ice': 'olb', 'Urs': 'Bol', 'Ibe': 'evu', 'kfe': 'oua', 'ivv': 'dse', 'hgr': 'pki', 'Cit': 'Rha', 'mnl': 'keh', 'Ely': 'Pyt', 'Eme': 'riq', 'apd': 'yad', 'Boo': 'bno', 'ikl': 'ybu', 'auz': 'pue', 'oeu': 'bev', 'kuk': 'gay', 'ndd': 'gwi', 'hwh': 'Ade', 'tfr': 'nug', 'hcl': 'ioh', 'hha': 'dhi', 'wog': 'dpa', 'xud': 'aeg', 'dsa': 'nkw', 'obm': 'ghl', 'oav': 'iun', 'vae': 'kos', 'ebd': 'iml', 'mvo': 'Arm', 'weg': 'wfu', 'hpe': 'gba', 'eii': 'hah', 'xsa': 'shp', 'Gig': 'rky', 'ulr': 'mvi', 'xsu': 'lfr', 'ffb': 'ybi', 'voe': 'awy', 'ngg': 'Asp', 'oaq': 'hdr', 'Ubi': 'itw', 'Eum': 'gaw', 'haj': 'Neg', 'dpe': 'oku', 'Vau': 'awm', 'Vat': 'Cyp', 'rdp': 'Ath', 'Esc': 'hbe', 'pfe': 'iep', 'Esk': 'Mat', 'Hap': 'hsh', 'uye': 'igy', 'Hab': 'luf', 'Esp': 'Eup', 'wls': 'feb', 'sye': 'Met', 'xfi': 'ubn', 'duu': 'gey', 'Fic': 'kok', 'Gut': 'gsh', 'rmw': 'kot', 'utz': 'jag', 'uus': 'sro', 'riy': 'dsp', 'tde': 'jut', 'Deb': 'hhe', 'bik': 'Syn', 'zae': 'lln', 'lre': 'afr', 'lqu': 'ilg', 'gsi': 'gec', 'Alk': 'cuf', 'Oti': 'zir', 'syf': 'spy', 'Alf': 'Pse', 'Zio': 'nih', 'Ovi': 'soh', 'Owe': 'gto', 'lcl': 'mro', 'pfo': 'oks', 'akm': 'umc', 'bph': 'yha', 'nek': 'Cep', 'aas': 'oui', 'Sit': 'ctf', 'mex': 'ndp', 'tyx': 'kef', 'Sno': 'naz', 'iwe': 'oia', 'emw': 'suo', 'Nym': 'Sem', 'ovy': 'Ran', 'fae': 'htw', 'bva': 'ybd', 'myn': 'ddu', 'uyo': 'olg', 'Och': 'eoe', 'Ocy': 'rcy', 'Ski': 'rny', 'mri': 'Tim', 'etk': 'rdf', 'Phl': 'Tal', 'igt': 'ovu', 'imw': 'eza', 'Rad': 'osl', 'Rai': 'aje', 'ylt': 'tmi', 'etp': 'ieb', 'Red': 'ysy', 'bwa': 'ufa', 'abw': 'Cen', 'boz': 'yaw', 'Rib': 'sax', 'Abi': 'All', 'Roc': 'anm', 'tnu': 'ifr', 'bua': 'xib', 'Rum': 'bti', 'Add': 'lgr', 'dji': 'biq', 'Adr': 'otb', 'eax': 'odh', 'syt': 'six', 'lff': 'veh', 'hlu': 'bok', 'Pne': 'Chl', 'yuk': 'Nic', 'Zoo': 'kwe', 'wwa': 'ixo', 'fto': 'hui', 'Zul': 'poa', 'soj': 'uka', 'Pun': 'eea', 'yrg': 'uly', 'dsb': 'sox', 'Noa': 'kop', 'Nel': 'neh', 'Nea': 'lpt', 'zad': 'mby', 'koe': 'noz', 'ohl': 'ipn', 'Kos': 'ssb', 'Kra': 'Sac', 'gsp': 'ohn', 'baj': 'jel', 'Ede': 'Kar', 'Kul': 'Jud', 'kys': 'gow', 'ktr': 'dfo', 'kja': 'Ven', 'kca': 'upw', 'Las': 'lcy', 'kac': 'gyl', 'Bap': 'ywi', 'kev': 'eml', 'Kho': 'egy', 'mca': 'ogh', 'koc': 'Cyn', 'iks': 'lye', 'Tip': 'ksm', 'rvy': 'pez', 'wul': 'epy', 'zei': 'Shi', 'Beg': 'Pas', 'umh': 'ygd', 'fez': 'xab', 'elz': 'Din', 'jot': 'lgu', 'edp': 'kun', 'Bde': 'upf', 'Ler': 'elk', 'yuc': 'avy', 'yeg': 'Teu', 'Mul': 'zam', 'Mik': 'uku', 'Aru': 'dsi', 'waw': 'Del', 'Moa': 'ryd', 'Mod': 'oyo', 'Mot': 'pbr', 'icw': 'Xen', 'bci': 'klo', 'hvi': 'hud', 'Mut': 'Bac', 'hva': 'tya', 'hih': 'doh', 'ipk': 'Pat', 'hcu': 'bho', 'idt': 'Art', 'asf': 'Nem', 'xwe': 'Pau', 'Lox': 'Sci', 'Lun': 'Ost', 'wkw': 'Ita', 'Ava': 'uva', 'Mep': 'kom', 'Suf': 'gfu', 'xof': 'boh', 'ahn': 'hyb', 'Mak': 'tcr', 'yzy': 'xca', 'ryu': 'rsy', 'fry': 'yem', 'omc': 'uxe', 'Wai': 'kbi', 'dez': 'ivu', 'Wol': 'xol', 'ieh': 'guo', 'dhy': 'std', 'wpa': 'kic', 'miw': 'nwh', 'usw': 'nvu', 'thg': 'rnt', 'Eas': 'wba', 'Cob': 'ntg', 'nuz': 'sht', 'rmt': 'jaw', 'dsl': 'ugm', 'Wap': 'coy', 'Dad': 'yie', 'Cup': 'ilc', 'wta': 'zos', 'wca': 'huf', 'okt': 'awo', 'Dag': 'tfl', 'ewc': 'cyr', 'ftb': 'ags', 'Wer': 'lyw', 'pyh': 'anr', 'Dau': 'lry', 'gsk': 'awd', 'Sva': 'voy', 'gpa': 'ltl', 'Sur': 'yak', 'Swe': 'xys', 'vaa': 'raq', 'gsa': 'tbu', 'bdr': 'aiv', 'Lod': 'bsu', 'spn': 'moh', 'Liv': 'dav', 'urq': 'ksi', 'foy': 'Pin', 'axh': 'nah', 'xum': 'umf', 'pgu': 'dyt', 'fob': 'dih', 'iwo': 'elh', 'ibw': 'tev', 'Lew': 'ckr', 'Tao': 'oax', 'jra': 'Lim', 'wus': 'rdw', 'ajr': 'yam', 'vri': 'bpr', 'uvr': 'pef', 'bup': 'Cry', 'Gab': 'oby', 'ukr': 'hef', 'bsy': 'etn', 'yeu': 'iwa', 'kiu': 'fow', 'fuz': 'dbe', 'Fus': 'kah', 'Age': 'ilw', 'dyf': 'nik', 'wef': 'esn', 'pbl': 'lok', 'kdr': 'vam', 'cso': 'bbr', 'Fro': 'Sat', 'skf': 'Bat', 'Law': 'kur', 'Lui': 'Oph', 'Ret': 'iif', 'Reu': 'Lan', 'ynk': 'itf', 'etd': 'kou', 'uew': 'ryb', 'Sui': 'xyc', 'Zor': 'May', 'Zam': 'etb', 'pua': 'bey', 'Mia': 'Tit', 'Fas': 'Mad', 'Ust': 'bys', 'bjo': 'ndn', 'yep': 'Pic', 'arx': 'Sca', 'fah': 'Sel', 'Fag': 'byl', 'Sei': 'erq', 'Mix': 'lvu', 'Mog': 'asl', 'xuv': 'Qui', 'olr': 'yag', 'Mom': 'rnf', 'Moo': 'hik', 'xsc': 'wsh', 'Zar': 'azu', 'rmb': 'utd', 'Mou': 'Eri', 'yoa': 'xar', 'toq': 'wth', 'auq': 'hso', 'wky': 'Sep', 'toj': 'gwa', 'exd': 'juv', 'bce': 'iha', 'asn': 'fox', 'Lup': 'wie', 'feg': 'zor', 'gyi': 'yas', 'jup': 'pry', 'lyv': 'btu', 'Lys': 'yur', 'keo': 'dth', 'uyu': 'Sla', 'Pok': 'aeu', 'ukl': 'job', 'huh': 'fta', 'Aud': 'Ala', 'Auc': 'aal', 'Poe': 'anb', 'bqu': 'Dio', 'ubq': 'gda', 'wix': 'myg', 'coj': 'mso', 'syz': 'obv', 'eui': 'htn', 'eue': 'jas', 'Zol': 'oov', 'pyk': 'zze', 'Fen': 'rkm', 'lzi': 'sdi', 'ilz': 'enk', 'nns': 'ezo', 'ykn': 'Mol', 'baa': 'Dor', 'lhi': 'Mit', 'lij': 'rnb', 'bih': 'hpr', 'fbe': 'thb', 'Dru': 'viz', 'paz': 'Ram', 'dgl': 'wly', 'jem': 'Tel', 'wll': 'oab', 'Rav': 'owf', 'xbo': 'tsw', 'Ine': 'Pod', 'xbu': 'Ano', 'nkg': 'Hem', 'oxf': 'kfi', 'Yam': 'hii', 'Cov': 'ntf', 'igb': 'iah', 'Bid': 'hye', 'Tod': 'nkt', 'muk': 'ewl', 'oxm': 'kso', 'Irv': 'xta', 'hoj': 'hst', 'oyh': 'wbo', 'yax': 'stb', 'dao': 'Com', 'ysk': 'atb', 'Gry': 'tga', 'lfp': 'zim', 'Idi': 'Act', 'Ida': 'hub', 'Ica': 'ipm', 'Yar': 'eys', 'syu': 'cay', 'iji': 'tbe', 'Bog': 'adg', 'Hob': 'nyi', 'Raf': 'umv', 'xeo': 'ooz', 'okk': 'oim', 'ffn': 'Mos', 'uej': 'kri', 'pya': 'cig', 'ueg': 'bha', 'Rac': 'Alc', 'Hua': 'Qua', 'aif': 'nlu', 'omh': 'iya', 'cme': 'okl', 'ylh': 'wbe', 'Hur': 'sbu', 'gmu': 'biv', 'rlb': 'Tan', 'skw': 'dca', 'dgu': 'yfo', 'Hyb': 'Ame', 'kgu': 'Cro', 'oln': 'Ela', 'Tir': 'edb', 'Ixi': 'tsa', 'icm': 'iof', 'gse': 'wim', 'Gib': 'yru', 'Tep': 'maj', 'taa': 'ieu', 'waz': 'fty', 'bki': 'Mil', 'ewp': 'yza', 'ffc': 'oky', 'Teh': 'dof', 'Aer': 'Jap', 'gpr': 'eka', 'Gei': 'Geo', 'gco': 'toy', 'yai': 'iwi', 'Tch': 'ftl', 'Sce': 'hug', 'juk': 'Gua', 'ebs': 'akh', 'uhr': 'Sil', 'Tax': 'Rho', 'hpu': 'cni', 'fik': 'kep', 'Koe': 'keb', 'Koh': 'bta', 'cmo': 'miv', 'mbh': 'oms', 'Kad': 'ymu', 'Gin': 'dlo', 'Jut': 'rja', 'mpp': 'ilf', 'woc': 'cyg', 'Jag': 'xhi', 'Jai': 'ebb', 'akb': 'sak', 'zoy': 'owp', 'Jas': 'isj', 'Jat': 'xpu', 'Jav': 'isn', 'awg': 'vok', 'Jeb': 'luk', 'ije': 'tlo', 'kki': 'rtf', 'skn': 'Ban', 'adz': 'xcr', 'epn': 'etf', 'Joa': 'inr', 'Joc': 'lix', 'Pup': 'zza', 'Rei': 'yxi', 'wnn': 'hwi', 'ibn': 'eew', 'dqu': 'raj', 'Bub': 'vex', 'Jur': 'Whi', 'Exc': 'pbo', 'zdi': 'Gym', 'poy': 'kum', 'lza': 'Aus', 'kek': 'utm', 'vyi': 'She', 'heh': 'gdo', 'Cze': 'oml', 'nyb': 'Mas', 'Zin': 'lfe', 'Vil': 'lmu', 'alz': 'sae', 'Wis': 'ccr', 'Dig': 'Neo', 'eww': 'Asc', 'Alv': 'eyl', 'Rol': 'hho', 'xsh': 'Alb', 'vve': 'eds', 'caz': 'Mag', 'Cut': 'ilh', 'yrc': 'awf', 'Aar': 'hox', 'Neb': 'otm', 'paj': 'wet', 'mga': 'iem', 'Nip': 'ddo', 'Pav': 'Val', 'naq': 'ygl', 'Vel': 'edf', 'Sia': 'aio', 'Shr': 'Ver', 'Vip': 'lfl', 'pgi': 'wnl', 'Nim': 'ekn', 'Vas': 'azy', 'Eun': 'Dar', 'uaf': 'ewr', 'eai': 'hta', 'rdv': 'tzi', 'Som': 'Bro', 'epg': 'ofr', 'kyw': 'pem', 'yxe': 'rlu', 'mue': 'fag', 'Ske': 'pwa', 'kiy': 'rtw', 'Clo': 'Bor', 'kaz': 'wst', 'Rup': 'wwo', 'Sik': 'ehu', 'Zip': 'Ama', 'hki': 'uny', 'Aln': 'ckp', 'yii': 'Tor', 'orq': 'owy', 'gwu': 'Ind', 'swu': 'inx', 'zsc': 'hty', 'rlw': 'web', 'Odi': 'iov', 'lwh': 'pob', 'Nia': 'rwh', 'Nie': 'uav', 'orj': 'ilp', 'idf': 'kwi', 'wna': 'ldr', 'ffh': 'eul', 'Dir': 'Not', 'cze': 'eja', 'ntd': 'cyo', 'Nai': 'Aga', 'Oen': 'esk', 'lru': 'geu', 'egh': 'ngf', 'utq': 'iko', 'Cus': 'iho', 'hsc': 'eeb', 'ldp': 'sdo', 'Dat': 'Ben', 'lpy': 'ctn', 'kih': 'Den', 'oek': 'gbo', 'Gyp': 'Bri', 'rlh': 'Luc', 'Ova': 'tge', 'Cou': 'Dia', 'Dai': 'usy', 'kht': 'ylv', 'Koi': 'lds', 'Tas': 'cuc', 'pfr': 'ysc', 'Peu': 'yok', 'Tav': 'uiz', 'gki': 'otw', 'Dya': 'piz', 'mbf': 'Lat', 'Woo': 'kbo', 'Unc': 'eaw', 'Lad': 'tpo', 'exm': 'adb', 'kgr': 'Ter', 'ggu': 'ids', 'Fuc': 'rpt', 'xme': 'uxo', 'kfr': 'Por', 'lyu': 'pyc', 'tej': 'emy', 'ehl': 'apn', 'wkn': 'moa', 'pts': 'shf', 'Res': 'xas', 'Lav': 'Bab', 'euz': 'Acr', 'Ror': 'oje', 'afd': 'tue', 'Tou': 'uef', 'zwi': 'arq', 'Elk': 'Tam', 'kpl': 'bca', 'noq': 'rsm', 'wch': 'mef', 'nyr': 'iox', 'wda': 'oys', 'Ino': 'zoc', 'huv': 'bov', 'yve': 'sbo', 'Bup': 'uif', 'Row': 'Rus', 'oyn': 'ahm', 'Int': 'rju', 'bga': 'anj', 'Ane': 'afo', 'Una': 'pfu', 'yei': 'xur', 'Bim': 'bmi', 'Epa': 'nup', 'Kus': 'dba', 'pkn': 'Ech', 'zok': 'anw', 'Bad': 'rdn', 'dsy': 'ssh', 'gek': 'cah', 'Tah': 'afl', 'bwi': 'xog', 'dds': 'loz', 'Emy': 'kip', 'jik': 'zog', 'Ite': 'ccy', 'jir': 'Lin', 'Jin': 'wse', 'Goa': 'ueb', 'Pus': 'kea', 'Emm': 'Hol', 'Reb': 'Hip', 'Ist': 'enj', 'Onc': 'lwi', 'fwo': 'esw', 'lsw': 'tpa', 'Bha': 'zit', 'Gli': 'tiq', 'Gle': 'xom', 'yoz': 'ngm', 'Ish': 'cew', 'adk': 'byr', 'Isc': 'sde', 'amd': 'ypy', 'dfr': 'onz', 'lft': 'imy', 'Vid': 'rhu', 'nzd': 'opm', 'Dut': 'Cyc', 'Orl': 'cee', 'Yid': 'eef', 'srh': 'itn', 'hbl': 'aky', 'zoq': 'xpi', 'oew': 'buf', 'Cyl': 'ceb', 'ecz': 'Tro', 'uaz': 'yrt', 'alq': 'Bas', 'Goo': 'fad', 'llg': 'ugo', 'Wac': 'tdo', 'Jeh': 'utg', 'csi': 'gmi', 'Jen': 'Jac', 'Alh': 'noh', 'ltn': 'onq', 'ftp': 'bme', 'juj': 'yfu', 'Bec': 'esl', 'niy': 'bei', 'Cil': 'rsw', 'joo': 'irp', 'rji': 'dad', 'fba': 'gei', 'Tob': 'shb', 'ewg': 'lha', 'Get': 'Min', 'mcl': 'ayf', 'Toc': 'vom', 'eyc': 'bah', 'Kel': 'zea', 'fek': 'lpr', 'Kik': 'jes', 'oxs': 'yet', 'aob': 'Sol', 'Edd': 'ubh', 'Kim': 'lyh', 'fsc': 'ahy', 'ecn': 'kad', 'uhl': 'soe', 'ptc': 'oio', 'Dow': 'irn', 'Ghe': 'Tha', 'Oma': 'Myr', 'rfy': 'Nor', 'eiu': 'cno', 'Oth': 'myi', 'ujo': 'yrm', 'kgo': 'zie', 'wnr': 'ygm', 'mdr': 'mly', 'mde': 'tse', 'oxw': 'Tet', 'wng': 'kem', 'Pue': 'anq', 'udm': 'ymy', 'lyk': 'afa', 'Kai': 'ayb', 'wco': 'Apo', 'Olo': 'ubg', 'xty': 'adf', 'xth': 'oau', 'Bau': 'rgh', 'Kay': 'Arg', 'yva': 'bju', 'mha': 'wde', 'urj': 'aku', 'byg': 'Mus', 'owu': 'Fre', 'dbl': 'mfo', 'bpi': 'xyg', 'Hen': 'rld', 'rxi': 'uki', 'Rif': 'bub', 'Uri': 'nsn', 'Eva': 'chd', 'zoh': 'Hom', 'mry': 'inp', 'Hud': 'dii', 'Tua': 'axy', 'fex': 'yze', 'aiy': 'lyr', 'wut': 'iry', 'zda': 'ehi', 'axp': 'zom', 'auj': 'wax', 'oyt': 'nax', 'aoi': 'Dip', 'kiw': 'tyo', 'yao': 'jor', 'msy': 'rih', 'bya': 'upo', 'omk': 'ogm', 'ooa': 'iin', 'lfb': 'xod', 'Sog': 'goe', 'Aro': 'byt', 'Hav': 'gef', 'oox': 'ozi', 'tjo': 'joc', 'Mab': 'upc', 'Tru': 'pme', 'fki': 'Aca', 'Duc': 'rns', 'kiz': 'Coc', 'xet': 'kid', 'tzs': 'nzy', 'Rit': 'Spi', 'Zab': 'daw', 'epc': 'gim', 'Ure': 'vif', 'cmi': 'yzo', 'vsk': 'rtn', 'wcr': 'ohu', 'Abb': 'siu', 'ysn': 'xto', 'ftf': 'Hyp', 'lwr': 'dfa', 'biy': 'jol', 'Ary': 'ghb', 'Moe': 'ihi', 'Nav': 'ybo', 'wnm': 'llh', 'umk': 'daz', 'fpr': 'hwe', 'Eub': 'bve', 'uwa': 'kla', 'Cru': 'puc', 'hqu': 'ybe', 'Hoh': 'eug', 'Wea': 'udl', 'diy': 'zem', 'akn': 'ejo', 'eyp': 'mfu', 'Cod': 'ybr', 'ghd': 'alr', 'Pak': 'geb', 'Eul': 'itz', 'xyo': 'uak', 'vyh': 'tfa', 'vyw': 'Fra', 'mgu': 'aws', 'rls': 'lii', 'Mei': 'odw', 'Tuc': 'sow', 'fse': 'ssf', 'Wak': 'oww', 'iyo': 'msh', 'Pah': 'rdm', 'Cum': 'rsl', 'Mex': 'wns', 'Apr': 'Pri', 'asd': 'uml', 'ukt': 'awb', 'Fau': 'dik', 'Ply': 'dfi', 'fhy': 'nud', 'psn': 'cud', 'sss': 'vau', 'Loa': 'adn', 'lkf': 'rml', 'igd': 'ydi', 'vek': 'kai', 'ahw': 'tsu', 'Dil': 'wou', 'aht': 'gth', 'oib': 'tfi', 'opd': 'jin', 'Ebi': 'lro', 'bsm': 'atf', 'Coo': 'xco', 'pcu': 'lof', 'hsp': 'nue', 'suz': 'chc', 'Non': 'due', 'xun': 'xcl', 'Pos': 'dyi', 'tye': 'exs', 'Byz': 'Lam', 'icq': 'nzi', 'gak': 'roj', 'Yuc': 'nuo', 'quu': 'zal', 'jid': 'yit', 'ouq': 'lky', 'bfr': 'ayw', 'xfl': 'may', 'Sek': 'Amp', 'tmu': 'lua', 'ixl': 'jum', 'Ibs': 'bma', 'Pir': 'aik', 'dwr': 'oex', 'cts': 'Pte', 'Zos': 'sfa', 'bgr': 'And', 'kmi': 'mah', 'xoe': 'tca', 'rfb': 'tsp', 'voo': 'kas', 'byp': 'ffy', 'rkr': 'kor', 'Moz': 'Har', 'wop': 'Hal', 'luh': 'aei', 'sao': 'yen', 'hdu': 'ajo', 'heq': 'sku', 'uiu': 'Ari', 'zio': 'uos', 'wok': 'veg', 'htb': 'hok', 'htc': 'ycn', 'Dog': 'xoc', 'Dul': 'Rhi', 'tzy': 'Ast', 'Seb': 'sgr', 'auw': 'asq', 'Ral': 'alw', 'Smy': 'kim', 'gfa': 'mya', 'nyp': 'sve', 'Ebe': 'bop', 'Log': 'elb', 'arj': 'ooc', 'nyt': 'xip', 'abm': 'Ale', 'faf': 'gew', 'Ark': 'pwo', 'Sut': 'Sta', 'aew': 'bam', 'Cub': 'caf', 'rfm': 'ulk', 'sje': 'dbo', 'ipj': 'nya', 'syd': 'aia', 'Hoc': 'sue', 'rgs': 'sfe', 'gsc': 'jer', 'bgo': 'zil', 'xai': 'sof', 'Boi': 'eei', 'Sib': 'kag', 'baq': 'tys', 'Akk': 'Cho', 'axc': 'eoa', 'Ota': 'sgu', 'vue': 'Pet', 'ygu': 'rir', 'zca': 'tfo', 'pao': 'gwo', 'wey': 'ixa', 'gyd': 'bay', 'wlo': 'loh', 'Boh': 'bak', 'Akh': 'hna', 'wmi': 'Ach', 'aop': 'cec', 'gnt': 'wam', 'Akt': 'oei', 'Ilo': 'Cel', 'pcl': 'fog', 'rpn': 'kfu', 'ikr': 'mug', 'Yen': 'dva', 'aeb': 'bdu', 'Iac': 'xem', 'bue': 'adw', 'Yem': 'oie', 'Ily': 'Men', 'Iap': 'beb', 'eby': 'osk', 'Iba': 'nuf', 'Wam': 'Tra', 'kmu': 'ayo', 'Bin': 'yat', 'Ibi': 'aub', 'Acu': 'Eur', 'xbi': 'lox', 'Top': 'ims', 'bix': 'zzi', 'Ico': 'nkn', 'Oxf': 'eiz', 'Bit': 'gif', 'Bip': 'Epi', 'Tos': 'etm', 'Ign': 'Pyr', 'Hyo': 'atw', 'ekb': 'kol', 'Dub': 'sey', 'yqu': 'oyl', 'Bho': 'ssw', 'wdu': 'sfi', 'rnd': 'tsc', 'dkn': 'Sam', 'Irr': 'axe', 'Bhu': 'Rom', 'Blu': 'shw', 'Hou': 'elw', 'Ire': 'nsk', 'Pae': 'cox', 'wpr': 'dla', 'taj': 'pye', 'ibc': 'dso', 'msb': 'dwe', 'hze': 'tco', 'eie': 'myd', 'tju': 'bae', 'luy': 'Sin', 'Zir': 'oea', 'lby': 'rnl', 'Pay': 'von', 'rnr': 'doe', 'uyl': 'xua', 'xyu': 'nks', 'wek': 'syr', 'hmy': 'fyi', 'Kni': 'bau', 'Cow': 'tih', 'yaf': 'cua', 'Nio': 'dub', 'Lug': 'wav', 'Lum': 'zel', 'Ais': 'cuo', 'wik': 'Cap', 'Nig': 'owh', 'Awa': 'Bel', 'Lyg': 'azz', 'Lym': 'eyi', 'okn': 'hts', 'ocm': 'ixe', 'Nis': 'jam', 'pna': 'kew', 'uhu': 'ieg', 'Poi': 'pam', 'auh': 'agh', 'Aot': 'seh', 'wsc': 'yor', 'Mao': 'uag', 'wsb': 'nui', 'iup': 'joy', 'Nev': 'yea', 'Sod': 'ixt', 'Axo': 'ilb', 'hez': 'oyi', 'htt': 'ipy', 'aij': 'piu', 'iai': 'nph', 'Aze': 'nii', 'zaf': 'sby', 'wos': 'owm', 'iey': 'naf', 'yub': 'Ple', 'tpy': 'dda', 'Wit': 'edy', 'feh': 'ewh', 'uik': 'sud', 'pyf': 'ndb', 'twh': 'bbo', 'Lio': 'tik', 'Yun': 'tso', 'izu': 'Spa', 'ogp': 'vow', 'gfo': 'xha', 'axu': 'ako', 'Nom': 'bim', 'Zac': 'Pho', 'Ape': 'dov', 'Ato': 'pik', 'epd': 'huc', 'Moc': 'xot', 'yfe': 'Pen', 'ohr': 'cak', 'Moi': 'Dan', 'jia': 'paw', 'Nao': 'icc', 'Nam': 'wen', 'hiq': 'yly', 'eyg': 'ubv', 'eyt': 'Dic', 'rmc': 'omf', 'odz': 'ioa', 'Nac': 'xag', 'Muc': 'anf', 'Myt': 'lyd', 'dtr': 'ywa', 'Mug': 'itm', 'sdu': 'aja', 'hve': 'ckt', 'skm': 'owt', 'yio': 'gyp', 'obp': 'rdy', 'oux': 'oye', 'sri': 'foc', 'Nau': 'ngw', 'apj': 'nsv', 'Max': 'rek', 'gnf': 'Pel', 'zuc': 'sov', 'bja': 'dme', 'iaf': 'cko', 'Nei': 'sfo', 'hmm': 'ldl', 'tgi': 'eje', 'Soo': 'pew', 'kcl': 'peg', 'See': 'arh', 'bcy': 'lhe', 'Dit': 'ttu', 'Ase': 'sts', 'ezc': 'gac', 'svi': 'ndh', 'ugt': 'mei', 'ieq': 'kro', 'wwi': 'Mes', 'mke': 'aup', 'Syc': 'Gre', 'Azo': 'kto', 'zte': 'anz', 'ntj': 'ooi', 'Jor': 'ugn', 'Ona': 'vec', 'efs': 'dvi', 'veu': 'ozy', 'Omm': 'yss', 'Bed': 'nje', 'Juv': 'yhe', 'dto': 'vad', 'kae': 'its', 'amg': 'foi', 'skh': 'tba', 'moj': 'rfr', 'Old': 'olm', 'Okl': 'tay', 'Aep': 'nwr', 'jiv': 'chf', 'Aeq': 'mmy', 'ehs': 'Het', 'dnt': 'cym', 'mre': 'lls', 'iow': 'Cat', 'wsu': 'lho', 'hnn': 'mst', 'joe': 'haz', 'ksn': 'peo', 'kye': 'sfu', 'Jar': 'eun', 'Opu': 'xop', 'khl': 'Gra', 'zaz': 'opn', 'jed': 'lce', 'Cyd': 'Mer', 'Jem': 'bap', 'eku': 'naw', 'Jez': 'gaz', 'wcu': 'fav', 'Adv': 'hua', 'Sio': 'cag', 'caq': 'ngb', 'jez': 'isq', 'hix': 'taw', 'wsk': 'nja', 'Dib': 'wma', 'Teg': 'xec', 'vya': 'rka', 'gpu': 'kna', 'Agh': 'Meg', 'afy': 'kyl', 'zeh': 'ots', 'Kyu': 'pty', 'gev': 'epp', 'Anh': 'iew', 'Wor': 'oum', 'kjo': 'pei', 'ajn': 'kam', 'Lae': 'ysm', 'nuv': 'zia', 'Kil': 'cui', 'Lao': 'goa', 'kco': 'ezi', 'eks': 'eof', 'Dok': 'uea', 'Seq': 'ubf', 'cba': 'wol', 'teq': 'mew', 'rlp': 'noa', 'Nud': 'rgl', 'egp': 'ets', 'Kun': 'sut', 'agf': 'feu', 'gpl': 'htf', 'kud': 'jan', 'bao': 'Sch', 'fha': 'psh', 'Kio': 'ioe', 'Amu': 'enm', 'Pes': 'dgi', 'uzi': 'tbr', 'Sko': 'rkl', 'kaj': 'hov', 'Kno': 'tuf', 'Pso': 'oak', 'koh': 'llf', 'kub': 'heg', 'Kom': 'yho', 'dyo': 'upb', 'bpy': 'ylu', 'otk': 'veo', 'Kru': 'pum', 'Pez': 'ssm', 'jaj': 'Mor', 'Kub': 'llw', 'Yug': 'hev', 'dyr': 'upu', 'zah': 'exy', 'puy': 'rua', 'ecb': 'kul', 'aap': 'ntm', 'uzl': 'ews', 'Vai': 'lpo', 'Fon': 'xtu', 'kog': 'olc', 'kva': 'sbe', 'Etr': 'stn', 'Hag': 'mib', 'tsn': 'Hyd', 'eub': 'lah', 'avs': 'tuc', 'Gno': 'dsm', 'Vac': 'pyg', 'Euo': 'chs', 'epk': 'vip', 'oee': 'awi', 'ksy': 'ahu', 'xbe': 'scy', 'Zwi': 'mok', 'wru': 'inj', 'Rog': 'lki', 'abc': 'enb', 'Abs': 'xos', 'Reh': 'oir', 'tsb': 'uxi', 'Ceb': 'wni', 'Abd': 'lyn', 'vav': 'ksh', 'rkt': 'Ger', 'Glu': 'khe', 'wia': 'ixi', 'nnl': 'pif', 'mbn': 'uld', 'xba': 'ysp', 'yaj': 'Che', 'rlf': 'esb', 'itg': 'uiv', 'pih': 'xor', 'rtt': 'bui', 'rpw': 'xpa', 'uyi': 'afi', 'wya': 'uot', 'aom': 'ulb', 'gby': 'lgo', 'dwh': 'ayl', 'Equ': 'rnm', 'ndk': 'oep', 'ghp': 'Cla', 'Xyr': 'tyc', 'Erm': 'ods', 'ouw': 'stw', 'Ern': 'wad', 'cde': 'say', 'ekp': 'ugl', 'ouj': 'dho', 'Fos': 'btr', 'svo': 'Str', 'ypp': 'orf', 'Deh': 'Phi', 'uoa': 'bob', 'thq': 'San', 'guh': 'kra', 'xyd': 'Sal', 'Xer': 'bug', 'fsk': 'Sab', 'ltb': 'gap', 'abk': 'rmy', 'Fat': 'sba', 'akd': 'tsm', 'uau': 'ghi', 'jua': 'gov', 'Fav': 'cai', 'Fay': 'yci', 'fay': 'Ber', 'gpe': 'mpy', 'pmi': 'rtm', 'apk': 'inm', 'gup': 'won', 'Feb': 'uod', 'Rin': 'tov', 'xtl': 'uai', 'Ear': 'ndf', 'Rig': 'yoi', 'oix': 'yod', 'Fes': 'pok', 'Rik': 'mau', 'Urt': 'ryc', 'ipg': 'pav', 'naj': 'tof', 'wdn': 'ils', 'Gou': 'wic', 'upk': 'nub', 'Uto': 'ahi', 'yug': 'heb', 'Wab': 'icn', 'uzo': 'aml', 'xcy': 'utf', 'Goe': 'hiv', 'laj': 'env', 'bhi': 'eoi', 'Cav': 'oap', 'atv': 'fut', 'atg': 'rey', 'atd': 'uac', 'Daw': 'bud', 'wud': 'hay', 'Riv': 'lyi', 'pwh': 'oog', 'exr': 'ntw', 'zro': 'biu', 'Gus': 'llb', 'esf': 'bdi', 'hsl': 'xcu', 'Ris': 'snu', 'Fit': 'axa', 'zba': 'gym', 'hsk': 'ctl', 'Gul': 'wid', 'Fir': 'seg', 'Utr': 'vey', 'nvy': 'dwi', 'Rau': 'Sph', 'dnu': 'lup', 'mce': 'kes', 'emc': 'bde', 'aad': 'fti', 'fsi': 'yog', 'yvi': 'tpr', 'lfm': 'mih', 'rsd': 'bep', 'Ghi': 'ciu', 'Hed': 'psu', 'Wyc': 'uee', 'gcu': 'ffa', 'Bus': 'mps', 'oip': 'yct', 'fme': 'xti', 'Rug': 'ihe', 'okd': 'ndm', 'ffg': 'ngy', 'gfr': 'kho', 'Gea': 'ppu', 'wsw': 'Sar', 'Abu': 'hew', 'mml': 'rks', 'rku': 'ska', 'fof': 'kwa', 'lpw': 'eev', 'rkd': 'tsi', 'mja': 'Cas', 'tci': 'yba', 'Gai': 'nbi', 'Emi': 'gae', 'Heg': 'neq', 'vvy': 'chb', 'Eno': 'chp', 'ugd': 'rts', 'Edo': 'jar', 'Bux': 'yac', 'okf': 'heu', 'wuz': 'obj', 'Chy': 'hul', 'ahg': 'fei', 'Gek': 'dup', 'Coa': 'lpe', 'Hau': 'kwo', 'oah': 'lyb', 'oai': 'egn', 'imc': 'tbo', 'Vie': 'nmu', 'Ulv': 'oeo', 'geg': 'uip', 'Cni': 'aor', 'Haw': 'syp', 'Gav': 'rdu', 'Edr': 'uia', 'tji': 'nru', 'Lyr': 'xit', 'Ulm': 'eze', 'afg': 'Can', 'Lul': 'Ang', 'bkh': 'seo', 'Buk': 'oeb', 'ogc': 'yta', 'ftg': 'ckh', 'Kod': 'fos', 'Koc': 'uve', 'gpo': 'oko', 'Knu': 'ckf', 'Uls': 'lwa', 'Luv': 'nhy', 'vci': 'ihy', 'chz': 'uso', 'vij': 'vib', 'Suk': 'ucr', 'haq': 'Ara', 'Cak': 'pim', 'egb': 'cef', 'lfk': 'dau', 'Rie': 'aho', 'lmg': 'esy', 'psk': 'ofu', 'Pog': 'vea', 'Kip': 'tex', 'brh': 'jou', 'rcg': 'pma', 'cgr': 'Her', 'gcr': 'Cam', 'loj': 'eft', 'igp': 'yoc', 'rfs': 'Mic', 'rss': 'oag', 'Fie': 'ysh', 'Fib': 'shy', 'Ati': 'maz', 'kue': 'lba', 'jeh': 'oxe', 'Bug': 'njo', 'rbw': 'xpr', 'ubz': 'nir', 'Kis': 'peu', 'huy': 'sky', 'buh': 'enw', 'Kne': 'ofo', 'cwo': 'yrr', 'Urb': 'vai', 'gko': 'pex', 'Kli': 'lke', 'Kle': 'nry', 'niw': 'irg', 'icf': 'wro', 'osb': 'goc', 'Gec': 'dob', 'fip': 'Tar', 'Fio': 'ptr', 'ndj': 'ggy', 'Ged': 'Cer', 'Kiw': 'mee', 'Suc': 'tew', 'oiv': 'ams', 'Gee': 'xpo', 'Caj': 'Bar', 'Lak': 'Ser', 'gca': 'myx', 'Azt': 'vap', 'Dyn': 'ppy', 'lku': 'nza', 'Laz': 'xam', 'zyb': 'xci', 'uzy': 'mli', 'Led': 'imn', 'Leg': 'oze', 'azt': 'oed', 'zla': 'orw', 'jna': 'dsh', 'wnd': 'fum', 'syh': 'lso', 'Bae': 'otl', 'azl': 'soo', 'Kwa': 'aym', 'oxp': 'lbi', 'Syd': 'nky', 'oxg': 'ndw', 'rzy': 'hbo', 'aag': 'nhi', 'Ypo': 'lyl', 'Agi': 'bsi', 'mbk': 'wak', 'Lah': 'Mal', 'fub': 'gag', 'ysb': 'rao', 'Agg': 'ygr', 'fui': 'taf', 'weh': 'Arc', 'ueu': 'dfu', 'gfl': 'sas', 'yov': 'kir', 'aiu': 'ths', 'Fum': 'lyo', 'acb': 'urk', 'avr': 'Lep', 'ttw': 'lir', 'wgi': 'uzz', 'yja': 'Ste', 'yrp': 'uty', 'olz': 'yxo', 'Tad': 'yga', 'Loy': 'nox', 'Psa': 'stp', 'Lla': 'lcu', 'Suz': 'vei', 'Abo': 'lfa', 'Dah': 'zop', 'Kot': 'lsa', 'xst': 'dym', 'aoe': 'utp', 'kga': 'tok', 'uoz': 'meo', 'foh': 'fon', 'Gao': 'aby', 'pgl': 'uke', 'Koo': 'map', 'aex': 'ywo', 'yef': 'xac', 'yka': 'pow', 'nkc': 'Sco', 'Flu': 'bad', 'mbw': 'gee', 'Liz': 'htl', 'Kum': 'Sha', 'gwy': 'lwo', 'Kuk': 'llm', 'Lia': 'gie', 'aat': 'olk', 'fym': 'eke', 'ebf': 'saw', 'jao': 'ubj', 'ciq': 'ytr', 'lsc': 'dwo', 'ffk': 'pae', 'Aym': 'ugu', 'iyu': 'pug', 'Kua': 'irk', 'Yuk': 'eif', 'afw': 'wif', 'xwi': 'rvo', 'mtr': 'ckm', 'Fol': 'dha', 'Baj': 'owb', 'iue': 'fab', 'vay': 'cyn', 'axs': 'vem', 'mbp': 'inb', 'Poa': 'gob', 'ngj': 'Mac', 'fgo': 'mix', 'afn': 'elc', 'Cib': 'yol', 'fsa': 'stc', 'fft': 'yda', 'Cid': 'miu', 'ftt': 'pud', 'Eni': 'pay', 'Enh': 'cim', 'gys': 'saf', 'gja': 'ffo', 'rfh': 'gig', 'Amn': 'oha', 'kij': 'isy', 'ixp': 'oem', 'pys': 'lug', 'Pep': 'zot', 'Ola': 'Mel', 'Siu': 'odg', 'zef': 'sre', 'mgy': 'cyp', 'Ena': 'bte', 'ibh': 'wig', 'Aly': 'uas', 'umj': 'nts', 'Oni': 'lfo', 'Oes': 'wes', 'Odz': 'obt', 'fey': 'aec', 'kyu': 'nze', 'uij': 'ofa', 'Nub': 'utw', 'Nuc': 'uie', 'Nya': 'Man', 'Vor': 'ryi', 'Ank': 'bie', 'myp': 'eya', 'ghc': 'ugi', 'rgn': 'boc', 'Epe': 'awk', 'iio': 'toh', 'Ody': 'ymm', 'Vej': 'ply', 'Eog': 'kni', 'iia': 'kha', 'Roy': 'noo', 'gdu': 'usu', 'muy': 'hut', 'fda': 'ebl', 'usg': 'dju', 'eix': 'gmo', 'ddm': 'lfu', 'gns': 'ael', 'Vep': 'nsy', 'cyx': 'eez', 'mto': 'enr', 'fbi': 'ums', 'paa': 'lsh', 'udc': 'olf', 'xga': 'kon', 'aab': 'ynd', 'xye': 'wra', 'xyq': 'etw', 'byn': 'inw', 'Viv': 'ilk', 'aih': 'ats', 'Egb': 'eio', 'Ziz': 'aig', 'Cne': 'awe', 'mva': 'doa', 'akp': 'rct', 'uwe': 'yom', 'Pai': 'eia', 'Eda': 'ayi', 'Edu': 'eki', 'vna': 'adh', 'fii': 'ypn', 'Vla': 'tui', 'lmw': 'gst', 'Aki': 'ggr', 'tux': 'ulv', 'Wed': 'ols', 'htp': 'siz', 'efn': 'wli', 'akc': 'haf', 'ufu': 'dmo', 'Opa': 'bip', 'Cyg': 'nof', 'ydy': 'dew', 'irq': 'cof', 'Ord': 'iae', 'Pek': 'onh', 'Sev': 'xat', 'kyn': 'Con', 'Sex': 'bew', 'kox': 'mum', 'ymr': 'alf', 'zgi': 'mie', 'iip': 'cae', 'gny': 'ypr', 'myw': 'ffu', 'vih': 'pyo', 'faq': 'kst', 'Shy': 'npi', 'tdw': 'iru', 'ddf': 'gut', 'tkn': 'wir', 'trh': 'gad', 'Roo': 'lyz', 'ikn': 'Tur', 'nij': 'cne', 'nkd': 'bem', 'Ahm': 'yca', 'wpl': 'rqu', 'fuf': 'rsc', 'Mne': 'fau', 'Kid': 'tah', 'zek': 'teu', 'Mob': 'kly', 'Saa': 'onb', 'rmr': 'lty', 'Uzb': 'oxo', 'aov': 'tiu', 'vyl': 'idr', 'jis': 'beh', 'xra': 'onk', 'Zoh': 'ilm', 'Arl': 'cly', 'hlh': 'Hel', 'ctw': 'ccl', 'Zyr': 'you', 'Ahr': 'hla', 'ukd': 'uab', 'cuj': 'deu', 'cwa': 'ngt', 'tij': 'iob', 'Miz': 'rdr', 'ixh': 'pup', 'thk': 'Ana', 'Ars': 'bco', 'Uru': 'vot', 'mlu': 'rya', 'bgy': 'ohi', 'edj': 'lak', 'Mee': 'ydo', 'apc': 'ruf', 'Ush': 'hti', 'Fed': 'unq', 'sja': 'pyl', 'faz': 'doi', 'syo': 'rik', 'Mez': 'bom', 'ezu': 'aza', 'pyb': 'Col', 'otz': 'giv', 'zun': 'lui', 'idb': 'xim', 'tnt': 'oka', 'Sua': 'umn', 'Zoi': 'who', 'iim': 'fly', 'Mio': 'aux', 'Arv': 'gha', 'Uta': 'nhu', 'mru': 'Bal', 'xeq': 'gho', 'efd': 'kia', 'rpm': 'yab', 'eoy': 'seb', 'Aim': 'otc', 'Zel': 'arw', 'Ete': 'lux', 'wsr': 'yes', 'Vot': 'ckn', 'Sok': 'duo', 'amk': 'bog', 'Zep': 'Phy', 'Nid': 'xce', 'Eso': 'bby', 'Ecc': 'laz', 'ixs': 'sug', 'Sof': 'myt', 'Nik': 'hmi', 'ioo': 'myl', 'imk': 'zym', 'Vam': 'lse', 'Dev': 'voi', 'Ero': 'kie', 'Noe': 'roy', 'rbs': 'unj', 'nej': 'ued', 'vre': 'tmo', 'Anu': 'hwo', 'cuu': 'olp', 'fwe': 'lda', 'fcu': 'idn', 'xir': 'onw', 'cug': 'ehy', 'Mya': 'agy', 'xau': 'tef', 'hph': 'acq', 'Exa': 'giu', 'Myl': 'tav', 'ynp': 'fix', 'Ded': 'sev', 'rtp': 'luv', 'hhy': 'Gal', 'hgu': 'aed', 'hfe': 'wre', 'Ced': 'iaz', 'iky': 'sav', 'Nak': 'zan', 'oyu': 'xed', 'hoq': 'ddy', 'Cev': 'lfi', 'Cey': 'mov', 'upn': 'Pla', 'vaj': 'ypa', 'avv': 'dap', 'Nay': 'oho', 'Mni': 'eob', 'Ago': 'thf', 'khm': 'osh', 'dze': 'sef', 'hiy': 'giz', 'Thl': 'loy', 'Jiv': 'The', 'zbu': 'isb', 'tzk': 'Pan', 'Gne': 'eup', 'jod': 'ecy', 'mbb': 'nyc', 'Joe': 'sys', 'Blo': 'toz', 'Hus': 'afe', 'mta': 'loe', 'ftu': 'nka', 'ruz': 'umu', 'fst': 'oam', 'ldg': 'bsc', 'jif': 'gau', 'dka': 'utb', 'ggs': 'rej', 'amz': 'hru', 'Rat': 'exh', 'spb': 'eju', 'vyn': 'rgy', 'Ian': 'bso', 'uii': 'atm', 'Dua': 'xio', 'Tyn': 'rcr', 'Bem': 'nib', 'ylf': 'owd', 'Udi': 'rwe', 'exn': 'lst', 'Jic': 'ecc', 'mge': 'iny', 'shd': 'isd', 'jef': 'fug', 'wnp': 'hmo', 'vyb': 'Pal', 'wzi': 'Bra', 'Aec': 'eil', 'wzy': 'fem', 'Tex': 'oft', 'kwr': 'tym', 'wev': 'lbe', 'Pui': 'eiv', 'wup': 'max', 'Bay': 'erj', 'okp': 'hiu', 'elj': 'pst', 'Tud': 'ifa', 'Tyc': 'ucu', 'kju': 'lpa', 'zut': 'lga', 'wze': 'sui', 'Git': 'noe', 'oyw': 'Chi', 'juc': 'ilv', 'doy': 'thn', 'adq': 'lya', 'rtd': 'ffr', 'kty': 'awl', 'Acm': 'cqu', 'msl': 'ckb', 'omd': 'nbl', 'Tsu': 'pno', 'Ugr': 'joi', 'edk': 'rii', 'Tez': 'ads', 'Aea': 'dex', 'dgo': 'nsf', 'xtb': 'hav', 'wtu': 'zol', 'Hea': 'unu', 'lfd': 'ldo', 'biw': 'tst', 'Tyb': 'Chr', 'Bez': 'urm', 'Ini': 'ttr', 'Tla': 'ngh', 'soq': 'nak', 'Waf': 'yge', 'Ina': 'jug', 'uaq': 'uam', 'uao': 'irs', 'xwa': 'seq', 'gyv': 'isg', 'Tis': 'dst', 'nuu': 'soa', 'ptf': 'roz', 'beu': 'ika', 'Ime': 'rbl', 'Bhi': 'aum', 'Guj': 'ckw', 'Saw': 'mys', 'Bie': 'yos', 'Inv': 'lax', 'uzu': 'deg', 'uog': 'teb', 'guv': 'npu', 'aqi': 'zle', 'tiy': 'bba', 'Iro': 'ysa', 'nnh': 'dry', 'Bih': 'mae', 'rff': 'dhe', 'Ins': 'das', 'Gyn': 'zzl', 'saa': 'urf', 'Bik': 'cow', 'Ixo': 'xal', 'Ray': 'rug', 'mfa': 'hya', 'yaz': 'nsw', 'Jak': 'bry', 'lfn': 'lbo', 'Tia': 'ubu', 'kje': 'dwa', 'goz': 'shu', 'rdd': 'big', 'Tov': 'lyg', 'sgl': 'sew', 'Jay': 'Pha', 'luj': 'mud', 'dte': 'Par', 'oxd': 'wab', 'ipd': 'cky', 'Gos': 'wne', 'nyd': 'soi', 'aaf': 'req', 'ahv': 'ief', 'Tio': 'egg', 'wsy': 'ovo', 'ocs': 'eic', 'wlf': 'ssy', 'khw': 'tup', 'esr': 'arf', 'Uca': 'boi', 'lpn': 'hyn', 'Hak': 'ibo', 'Tic': 'Per', 'Bow': 'nev', 'Jab': 'yot', 'Beo': 'yse', 'kpu': 'god', 'saj': 'leh', 'Jah': 'xon', 'waa': 'axo', 'zma': 'rue', 'udz': 'rur', 'ttv': 'psa', 'Khi': 'iur', 'fco': 'gme', 'Gha': 'dum', 'nyf': 'jus', 'Khu': 'chw', 'bsl': 'abd', 'Uig': 'bai', 'Rel': 'rcl', 'ttn': 'enh', 'Gep': 'doo', 'Tum': 'izi', 'Kak': 'stf', 'ofb': 'gun', 'Ted': 'pau', 'Kem': 'twe', 'Puc': 'emn', 'Uin': 'nra', 'Bav': 'yde', 'Tek': 'fee', 'rtv': 'wei', 'nby': 'fam', 'Kev': 'uic', 'Tei': 'rnu', 'oxn': 'elv', 'snt': 'hyc', 'Khe': 'gai', 'thv': 'oes', 'suw': 'dox', 'Key': 'odl', 'eao': 'fed', 'aeq': 'eim', 'Boc': 'ulm', 'Teb': 'ays', 'boj': 'tla', 'Bod': 'utl', 'Tea': 'sni', 'ofs': 'izz', 'Boa': 'etc', 'Ked': 'oud', 'ezr': 'nlo', 'zak': 'egm', 'sih': 'bef', 'Kef': 'rfa', 'ofw': 'Cor', 'ugf': 'vou', 'Kee': 'ups', 'ooj': 'isr', 'fga': 'rgu', 'kwh': 'nty', 'poq': 'mle', 'Etc': 'rbr', 'rlc': 'ubp', 'Akr': 'sob', 'lkc': 'aha', 'Ett': 'fet', 'Hah': 'aes', 'Vag': 'tsh', 'Anz': 'xpl', 'onx': 'hif', 'Ijo': 'ees', 'pjo': 'bje', 'jma': 'rgr', 'jev': 'aru', 'fpa': 'isk', 'jeu': 'mob', 'Eua': 'lto', 'Idr': 'lka', 'Nol': 'isf', 'ziu': 'wag', 'sny': 'bdo', 'Any': 'eec', 'cuy': 'rym', 'Ned': 'itl', 'lgh': 'goi', 'tzl': 'rfl', 'Tyt': 'usk', 'yev': 'nwe', 'Neh': 'hoa', 'Hio': 'box', 'Wiy': 'reu', 'Nej': 'toe', 'ejd': 'vig', 'Yat': 'vie', 'gsu': 'goo', 'wka': 'etl', 'Sey': 'tuo', 'hhi': 'idy', 'ggc': 'ymb', 'ukp': 'yed', 'uxy': 'onj', 'Erv': 'Pol', 'kza': 'lbu', 'Bov': 'lth', 'Erw': 'lch', 'xup': 'pru', 'imh': 'uor', 'Esm': 'enf', 'cbo': 'eod', 'Hli': 'rty', 'ggf': 'how', 'Tut': 'dve', 'xyf': 'egl', 'fpe': 'omu', 'htd': 'adl', 'Tow': 'xen', 'htj': 'hak', 'skj': 'ows', 'mka': 'edd', 'Aou': 'gga', 'Eca': 'liq', 'rbm': 'haw', 'Sob': 'thw', 'xih': 'bif', 'Niu': 'atl', 'wss': 'utu', 'oaw': 'gum', 'siq': 'nmi', 'rrn': 'fai', 'ihr': 'moe', 'ihl': 'lef', 'etv': 'nds', 'Paw': 'pub', 'gok': 'boy', 'Pht': 'pad', 'aog': 'ygi', 'Ers': 'elf', 'Air': 'ofl', 'Oza': 'mna', 'Eff': 'uet', 'Pab': 'sir', 'ahp': 'lal', 'Tza': 'deh', 'ctp': 'rok', 'Spl': 'kat', 'khy': 'mne', 'Big': 'uph', 'sbl': 'odr', 'Pio': 'key', 'Zea': 'ghe', 'Cax': 'oup', 'Zeb': 'rfo', 'zfe': 'wha', 'Bok': 'dun', 'Hic': 'exu', 'uhy': 'Cal', 'Myd': 'rex', 'Gyg': 'day', 'Edi': 'gop', 'yuv': 'quo', 'Box': 'ubm', 'Mym': 'els', 'Edm': 'nro', 'lsg': 'uge', 'Inn': 'eau', 'hkn': 'zoi', 'tuz': 'hwa', 'Twa': 'urd', 'xfu': 'eek', 'gbl': 'amn', 'Spr': 'erk', 'Tok': 'agm', 'xgo': 'gir', 'exg': 'eir', 'qud': 'oub', 'Muh': 'kma', 'wqu': 'rmu', 'zay': 'Ant', 'Dab': 'lil', 'Muk': 'civ', 'khr': 'stm', 'noj': 'suf', 'myh': 'bag', 'eeo': 'viv', 'zyt': 'nri', 'Aht': 'liu', 'Spy': 'wai', 'ruu': 'inl', 'Gwe': 'dag', 'icp': 'arv', 'cpr': 'pep', 'cax': 'kan', 'Spu': 'yps', 'daa': 'zoa', 'xak': 'dir', 'lju': 'bib', 'Aig': 'emm', 'boq': 'rwi', 'Hig': 'nbr', 'hij': 'dmi', 'ceq': 'ahe', 'hwr': 'hyg', 'tdy': 'oas', 'Imo': 'bod', 'Sos': 'anh', 'uaj': 'npl', 'oii': 'kne', 'Imm': 'neb', 'Vou': 'ubd', 'Yas': 'idg', 'wib': 'dma', 'Ako': 'nbu', 'cdy': 'zyg', 'hyz': 'ifu', 'wtr': 'tty', 'lvy': 'jud', 'Ima': 'bee', 'Tze': 'xer', 'gbr': 'oit', 'Apu': 'iec', 'Arb': 'cav', 'usr': 'toa', 'Ink': 'tad', 'otq': 'roh', 'Adh': 'iki', 'Aia': 'jun', 'gyt': 'ppa', 'ghj': 'xil', 'Aid': 'loq', 'eeu': 'rak', 'imd': 'ymn', 'hge': 'poe', 'vzo': 'eag', 'hfr': 'adj', 'Naa': 'rax', 'Inf': 'had', 'ovr': 'slu', 'hja': 'lge', 'evz': 'gid', 'vkh': 'igl', 'Nae': 'oer', 'Nag': 'ryg', 'ovk': 'wle', 'Evo': 'rpu', 'wem': 'rpl', 'vej': 'irl', 'akz': 'lvi', 'saq': 'pab', 'xoz': 'dai', 'Oxo': 'kal', 'Hul': 'nba', 'ukb': 'nua', 'Olc': 'Mon', 'Eir': 'eap', 'Huk': 'Pro', 'Wyk': 'dua', 'Peo': 'upa', 'Hog': 'nzo', 'Siw': 'utc', 'Wir': 'agl', 'Ruc': 'ucl', 'lps': 'ynt', 'Olp': 'rfi', 'Rah': 'luo', 'cyz': 'law', 'uih': 'dod', 'Tsi': 'ubo', 'Pee': 'jur', 'Tso': 'acl', 'lpm': 'nef', 'Hub': 'eha', 'Yaq': 'urv', 'tdu': 'dei', 'xiu': 'idl', 'Hof': 'myr', 'ylr': 'ofe', 'ixf': 'new', 'wkb': 'cka', 'Ogc': 'sie', 'dgk': 'iad', 'yig': 'nnu', 'iuv': 'pio', 'ayz': 'nwi', 'Ogy': 'mam', 'gyg': 'xid', 'phs': 'ipu', 'uvy': 'mye', 'Ohi': 'aet', 'Haz': 'nsl', 'Oji': 'sad', 'ioj': 'rah', 'Six': 'nla', 'kci': 'aim', 'Bop': 'uvi', 'Oki': 'ulg', 'zus': 'awn', 'Wik': 'rsp', 'Rag': 'fig', 'mte': 'tei', 'Vib': 'deo', 'msw': 'sos', 'Hov': 'cub', 'msg': 'mio', 'azg': 'rlo', 'msf': 'usp', 'Ork': 'fit', 'Ecu': 'ipr', 'Orm': 'Tri', 'Osw': 'yso', 'gnw': 'url', 'msd': 'nvo', 'Hos': 'rtl', 'How': 'bow', 'Elb': 'sog', 'Hej': 'nbo', 'Osn': 'gyr', 'Orv': 'eem', 'Wya': 'nkl', 'liy': 'lul', 'Cix': 'rui', 'Peh': 'gib', 'kyd': 'ask', 'alj': 'raz', 'Tuk': 'lol', 'Els': 'upi', 'Zim': 'lci', 'ebw': 'hfu', 'ebm': 'iap', 'Our': 'oya', 'kde': 'coh', 'Oud': 'ubr', 'Wur': 'buc', 'pyw': 'dee', 'Ont': 'odd', 'tuq': 'nav', 'Otu': 'fru', 'Ooc': 'uir', 'lsb': 'tae', 'Elv': 'eaf', 'tko': 'isl', 'ofm': 'efr', 'Coq': 'ulc', 'Ope': 'poo', 'zev': 'pso', 'iuc': 'irm', 'puj': 'ady', 'Elz': 'nju', 'Ekr': 'npo', 'gik': 'muc', 'llk': 'smu', 'Eim': 'vet', 'wiy': 'amu', 'Ska': 'bse', 'unx': 'coo', 'Sma': 'cyl', 'pmu': 'nsm', 'Ehr': 'tak', 'Oxa': 'oki', 'wez': 'lov', 'obh': 'zar', 'yay': 'ypi', 'Wez': 'any', 'hrw': 'bum', 'Dik': 'cch', 'phw': 'jac', 'Aja': 'sno', 'Nus': 'ley', 'Nys': 'ofi', 'wyh': 'two', 'Shl': 'aic', 'ncm': 'udg', 'Oak': 'ymi', 'atj': 'ilu', 'rzb': 'shm', 'dij': 'cib', 'Epp': 'gru', 'Yaz': 'mno', 'dhr': 'swo', 'iaq': 'lsi', 'ggh': 'lme', 'Bix': 'rbu', 'Ait': 'lub', 'Ict': 'spu', 'uxh': 'zen', 'npy': 'xia', 'ggn': 'aem', 'Rur': 'hig', 'ikt': 'oxa', 'ixb': 'dru', 'vle': 'fou', 'Iby': 'rix', 'Nup': 'nva', 'fiy': 'xin', 'izl': 'gom', 'rnk': 'cei', 'Biz': 'oec', 'tzu': 'ntn', 'wyv': 'ulf', 'Aiz': 'olv', 'Dum': 'nyl', 'wys': 'mpu', 'Ept': 'apu', 'Sme': 'hib', 'Eop': 'lud', 'fsm': 'cun', 'Vio': 'oal', 'Dif': 'gog', 'Ode': 'ury', 'gnh': 'ioi', 'tzb': 'him', 'rrw': 'aze', 'Peb': 'niv', 'wyl': 'obu', 'ifd': 'Car', 'Ams': 'mig', 'okc': 'otu', 'auy': 'rox', 'smr': 'deb', 'Odd': 'vac', 'jha': 'ryl', 'fca': 'rki', 'uyn': 'owa', 'ouo': 'kli', 'lhu': 'ciz', 'ffp': 'hno', 'hyw': 'inh', 'Enk': 'iev', 'rfd': 'Mar', 'cda': 'icy', 'uoh': 'tow', 'Cof': 'oru', 'xyk': 'inq', 'daq': 'isu', 'ezl': 'als', 'Web': 'elp', 'Owl': 'chm', 'pnu': 'nei', 'bji': 'imu', 'wld': 'bun', 'osj': 'asy', 'Obo': 'sod', 'wgh': 'rdl', 'Obs': 'mif', 'twy': 'pee', 'Eoc': 'eps', 'cuv': 'rds', 'ydu': 'nny', 'Oce': 'bos', 'uje': 'sun', 'kyf': 'cob', 'Zyz': 'nun', 'wcl': 'sme', 'Bli': 'wil', 'Ocu': 'mad', 'ynh': 'beg', 'Rar': 'oor', 'Hyg': 'dib', 'Oda': 'adu', 'zue': 'sag', 'pde': 'nwo', 'Lid': 'aye', 'jda': 'owi', 'ujd': 'apy', 'efw': 'gab', 'Aza': 'uel', 'Rey': 'kar', 'bke': 'nau', 'wno': 'iag', 'ekm': 'ibb', 'gnn': 'hoe', 'fep': 'rwa', 'ooy': 'wri', 'Lie': 'kit', 'meq': 'ifl', 'Dwa': 'mem', 'Yaj': 'cov', 'spf': 'tyr', 'pyd': 'phu', 'Foo': 'Cha', 'Gay': 'aka', 'htk': 'yon', 'Puq': 'urp', 'Hez': 'lew', 'tmy': 'bid', 'bsq': 'obb', 'Pub': 'hli', 'suu': 'bec', 'zha': 'mec', 'mnw': 'tob', 'Yua': 'ips', 'Rev': 'dur', 'fgi': 'kno', 'Leb': 'oet', 'Azy': 'eye', 'gva': 'xpe', 'Lee': 'sai', 'wci': 'elm', 'udp': 'orl', 'cwi': 'bab', 'Byb': 'kab', 'zth': 'ohy', 'foz': 'tep', 'imt': 'ryt', 'mty': 'fid', 'zov': 'blu', 'oyb': 'mim', 'xsk': 'hry', 'kny': 'enl', 'efh': 'nov', 'xvi': 'rhy', 'ksg': 'ebi', 'oxv': 'rfu', 'stz': 'yni', 'Azi': 'fia', 'stj': 'gus', 'aah': 'sam', 'pje': 'xic', 'Klo': 'xan', 'oyp': 'dys', 'Jim': 'yop', 'bym': 'emu', 'eji': 'wed', 'Abn': 'eid', 'pgo': 'hni', 'upj': 'igm', 'Loh': 'orh', 'mfy': 'edg', 'Loi': 'pog', 'Lok': 'xte', 'gsl': 'onm', 'gfe': 'yar', 'quh': 'neg', 'Axi': 'aty', 'omg': 'yre', 'rdk': 'bbi', 'aiq': 'mab', 'xfe': 'elu', 'udn': 'hoi', 'axf': 'sei', 'wsf': 'fat', 'Geu': 'ogg', 'Low': 'twa', 'Cag': 'anl', 'Gaz': 'iam', 'Puy': 'rno', 'fgh': 'mip', 'uov': 'nuc', 'nux': 'meg', 'Yum': 'lpi', 'lkv': 'hme', 'efm': 'yer', 'Kna': 'auc', 'rlm': 'swi', 'tuu': 'fun', 'lkr': 'nho', 'mhy': 'fes', 'tsf': 'fea', 'rwu': 'thl', 'ivr': 'hma', 'Foi': 'voc', 'Uli': 'eav', 'yua': 'hyo', 'mhi': 'uls', 'dmu': 'etu', 'pij': 'aqu', 'yyo': 'ptu', 'Lle': 'asu', 'jip': 'lev', 'idc': 'dyl', 'Unr': 'ogu', 'hrs': 'mur', 'Dop': 'pes', 'Uly': 'urc', 'Gid': 'miz', 'kuc': 'upl', 'Gat': 'was', 'rgw': 'nie', 'miy': 'fas', 'kug': 'ubt', 'pps': 'gos', 'wwh': 'teg', 'sks': 'aen', 'kui': 'nmo', 'Dou': 'kil', 'Uma': 'ldi', 'afk': 'uga', 'Kaj': 'cup', 'umq': 'udd', 'mqu': 'olt', 'myk': 'osy', 'iwh': 'ift', 'nyn': 'rud', 'shv': 'ouc', 'Rep': 'ilt', 'Kut': 'sna', 'Waa': 'bru', 'Taa': 'rfe', 'fka': 'ync', 'zax': 'aya', 'iaa': 'thm', 'yip': 'gem', 'Ksh': 'now', 'kuh': 'ubc', 'Kaz': 'ltu', 'gsb': 'rsu', 'Kop': 'uid', 'uks': 'xyl', 'Teq': 'ues', 'Gia': 'apr', 'Afs': 'oul', 'Kaw': 'pai', 'fpi': 'moi', 'yhu': 'egu', 'Bum': 'ngs', 'uwo': 'ney', 'btm': 'vio', 'Kre': 'gol', 'udt': 'slo', 'Dos': 'fen', 'Kro': 'idu', 'gaj': 'zab', 'Kok': 'alb', 'ruh': 'ius', 'zys': 'rru', 'pyn': 'uts', 'kvi': 'ray', 'yrd': 'epl', 'zzu': 'nwa', 'Fru': 'oos', 'Lal': 'rpi', 'Bue': 'gur', 'uxb': 'glu', 'bsk': 'ild', 'Gio': 'rtr', 'mzi': 'dim', 'lmm': 'zon', 'gsd': 'eus', 'azn': 'lco', 'Jum': 'rla', 'Wav': 'lca', 'ecq': 'tau', 'wzl': 'yis', 'pqu': 'rpa', 'cfu': 'nut', 'rll': 'adm', 'kbl': 'sex', 'yut': 'irt', 'Ung': 'kee', 'zuo': 'pag', 'axn': 'ddi', 'Uga': 'abs', 'Jua': 'rgo', 'Zun': 'shr', 'Lai': 'cca', 'Dak': 'omn', 'fyl': 'abr', 'zne': 'fan', 'fze': 'nki', 'Kyk': 'eor', 'ykl': 'ucc', 'Kyl': 'upt', 'duh': 'sua', 'uht': 'exe', 'etj': 'fib', 'Kac': 'nai', 'kve': 'sot', 'ckv': 'dus', 'Bax': 'gyn', 'Kei': 'efa', 'iyn': 'tut', 'ttm': 'loa', 'yld': 'epu', 'awu': 'aug', 'zaa': 'diz', 'yoj': 'lmi', 'ulh': 'aid', 'lja': 'igg', 'jyn': 'lta', 'Jyn': 'wan', 'Dyt': 'esq', 'yuz': 'pig', 'axg': 'yal', 'Coi': 'icl', 'Ity': 'nip', 'Pyx': 'esa', 'aow': 'pip', 'rzu': 'awa', 'fsb': 'hai', 'idv': 'hun', 'Mie': 'gou', 'yoy': 'rut', 'Yez': 'syl', 'Mig': 'iel', 'yez': 'hau', 'Ubb': 'vag', 'jie': 'apl', 'lkg': 'ggl', 'lkn': 'eff', 'Fam': 'vas', 'Isu': 'cce', 'Arz': 'npe', 'Iss': 'ewe', 'asr': 'ugg', 'Yag': 'lgi', 'Guh': 'nym', 'Adl': 'rau', 'wyk': 'rwo', 'kku': 'azi', 'avn': 'eot', 'zuz': 'ebu', 'Dix': 'sap', 'eht': 'unv', 'ptw': 'ffl', 'ksb': 'lue', 'zch': 'fal', 'Izc': 'mom', 'joa': 'lva', 'Geh': 'rub', 'Xic': 'nur', 'Dus': 'aea', 'rfw': 'uer', 'Meh': 'abu', 'aeh': 'dot', 'hyf': 'wom', 'Mek': 'got', 'Zal': 'eny', 'lez': 'osu', 'fni': 'igu', 'lss': 'pom', 'Usk': 'onu', 'diw': 'sif', 'itj': 'cic', 'Ask': 'odu', 'wnu': 'iba', 'Yal': 'avo', 'Usn': 'bbl', 'swr': 'yng', 'Rip': 'mmu', 'Kie': 'sip', 'hgi': 'oqu', 'eiy': 'eom', 'Moq': 'exo', 'moq': 'mai', 'gsw': 'adv', 'asz': 'izo', 'zbe': 'fel', 'dts': 'tme', 'Acc': 'uca', 'Bia': 'vul', 'uyt': 'ies', 'Guz': 'too', 'Iph': 'cod', 'sze': 'cks', 'yuh': 'eit', 'uho': 'uce', 'Yer': 'cya', 'qer': 'roe', 'uzm': 'yno', 'Iow': 'tax', 'gih': 'eog', 'Zau': 'vir', 'Tof': 'obs', 'Aho': 'kel', 'usf': 'myc', 'aey': 'moo', 'xso': 'dog', 'xsp': 'suc', 'Guy': 'rke', 'mwh': 'efl', 'xbl': 'idd', 'Boy': 'phl', 'Ise': 'mir', 'Uar': 'ymo', 'aac': 'sou', 'ozu': 'hep', 'fax': 'yel', 'Yes': 'eho', 'jpu': 'ggi', 'zra': 'xis', 'lfy': 'swe', 'mbc': 'nly', 'ezb': 'urt', 'csa': 'cht', 'Irg': 'eoc', 'syg': 'pus', 'kcu': 'get', 'aof': 'swa', 'muq': 'rae', 'Cao': 'mbu', 'huo': 'osm', 'Doe': 'cad', 'Zoq': 'iid', 'avc': 'agu', 'Abk': 'pap', 'ydd': 'scl', 'yoo': 'rto', 'Lyd': 'yne', 'fje': 'lmo', 'myb': 'eos', 'pyj': 'ibu', 'Ree': 'fir', 'izg': 'ewi', 'vun': 'oop', 'suh': 'gil', 'Lyt': 'ryn', 'ahk': 'bot', 'fap': 'usa', 'zug': 'liv', 'tzr': 'vab', 'jja': 'ohe', 'ijj': 'uan', 'Ukr': 'kis', 'pyu': 'tir', 'izt': 'ego', 'Kiz': 'ndy', 'kex': 'jec', 'mej': 'oen', 'njy': 'cem', 'cfl': 'wat', 'Lub': 'uru', 'xbr': 'far', 'cna': 'tud', 'jho': 'wal', 'Agu': 'dam', 'ohp': 'ygo', 'ufb': 'ety', 'eay': 'tma', 'Upu': 'obo', 'Luk': 'myo', 'Goi': 'utr', 'eaq': 'put', 'upv': 'owl', 'jue': 'opu', 'Lur': 'rul', 'wlw': 'mut', 'csh': 'lma', 'Jet': 'foo', 'Suo': 'ecl', 'uwi': 'ppl', 'Lux': 'fur', 'wiw': 'uba', 'yil': 'lun', 'tzc': 'nhe', 'nyu': 'ved', 'ekd': 'itc', 'afs': 'raw', 'Fij': 'rbe', 'rkg': 'euc', 'ftd': 'lel', 'jae': 'wel', 'Urg': 'ivo', 'Uch': 'fli', 'Xin': 'acy', 'ssk': 'bbe', 'kax': 'nfu', 'dsn': 'oac', 'mpc': 'obr', 'Fez': 'npa', 'cpa': 'cyc', 'wgl': 'clu', 'img': 'yra', 'zde': 'rup', 'hms': 'ubl', 'osz': 'vid', 'Ahe': 'bet', 'Mbu': 'cty', 'ubk': 'see', 'ztl': 'nig', 'Adu': 'efo', 'Aub': 'hie', 'ktu': 'ubb', 'xae': 'hex', 'Way': 'amy', 'ttf': 'vor', 'bka': 'hte', 'vug': 'dev', 'wfe': 'aps', 'Goy': 'esm', 'Map': 'hac', 'ruj': 'upp', 'Pty': 'uda', 'nzh': 'sle', 'Jaq': 'eig', 'zhy': 'eld', 'bzo': 'nee', 'hza': 'aun', 'mgo': 'unk', 'bty': 'yme', 'dux': 'rpr', 'nzt': 'nha', 'wce': 'yin', 'alx': 'ulu', 'ioq': 'dli', 'doq': 'cie', 'Zub': 'hyr', 'sml': 'iod', 'agv': 'nil', 'xlo': 'oic', 'xfa': 'wea', 'zud': 'nbe', 'yrb': 'ccu', 'uur': 'sus', 'zui': 'nfa', 'vss': 'dyn', 'zyp': 'ppi', 'Zut': 'uou', 'Zyt': 'elt', 'Wew': 'umm', 'Wet': 'ses', 'bzi': 'alp', 'Zmu': 'whe', 'jex': 'hei', 'ezn': 'dil', 'ebk': 'aud', 'smp': 'onl', 'hrl': 'lay', 'tyu': 'mpt', 'zup': 'tod', 'pka': 'ryo', 'abz': 'rdo', 'rlg': 'fte', 'ijk': 'ypt', 'lzo': 'did', 'buj': 'eon', 'Sef': 'enz', 'Seg': 'niu', 'Seh': 'poc', 'fci': 'uco', 'lfc': 'lur', 'mcy': 'alk', 'wej': 'cci', 'Ryu': 'nus', 'qib': 'sum', 'cbr': 'dde', 'rbd': 'pne', 'zti': 'onr', 'Zoy': 'oad', 'Sae': 'ais', 'rgk': 'mea', 'zow': 'twi', 'rsb': 'lym', 'rfp': 'fus', 'Rym': 'oel', 'zwa': 'ozo', 'Ryn': 'cki', 'Ryt': 'moc', 'wlp': 'eba', 'Sba': 'lyt', 'cyi': 'ait', 'Zou': 'leb', 'lzf': 'nno', 'ahh': 'rtu', 'uud': 'nvi', 'zlo': 'alv', 'eee': 'mpi', 'Sao': 'efe', 'zuu': 'lex', 'Saq': 'gor', 'Say': 'ryp', 'wbw': 'tto', 'Weg': 'ssl', 'iil': 'rho', 'mup': 'upr', 'mtu': 'rhi', 'Wra': 'esu', 'waj': 'oil', 'Tue': 'ird', 'gtu': 'aeo', 'Yau': 'ocl', 'Tsh': 'nfr', 'Tsc': 'azo', 'Tsa': 'umo', 'hje': 'ssu', 'dhj': 'yce', 'oez': 'ewo', 'tyq': 'luc', 'yav': 'pta', 'efg': 'uln', 'Yav': 'urb', 'eey': 'enu', 'lll': 'cco', 'wln': 'iog', 'tvy': 'cau', 'tuw': 'nfl', 'nzs': 'eru', 'tuy': 'ltr', 'Uau': 'dou', 'tuh': 'uil', 'Tzu': 'iqu', 'Tzo': 'oom', 'Yao': 'hiz', 'aoo': 'num', 'ynw': 'tus', 'Yap': 'tox', 'Tym': 'shn', 'ykh': 'lei', 'Tyi': 'nul', 'fdi': 'ald', 'Wre': 'lib', 'wyb': 'erh', 'Twi': 'tun', 'Twe': 'tfu', 'Tuz': 'onp', 'Tuy': 'rpe', 'wlb': 'mun', 'nsj': 'lee', 'trs': 'pun', 'mbt': 'det', 'ujy': 'fre', 'jop': 'ppr', 'yms': 'mni', 'ghk': 'rew', 'Yin': 'off', 'gch': 'nma', 'gyc': 'ske', 'efp': 'rva', 'Woy': 'lav', 'fcr': 'uad', 'efc': 'onn', 'gnd': 'ioc', 'oow': 'boo', 'rfc': 'bst', 'zke': 'ges', 'ezk': 'oan', 'zcu': 'abb', 'xtm': 'rca', 'xgu': 'usc', 'Tew': 'bir', 'Yil': 'poi', 'Yik': 'ior', 'mpd': 'edr', 'Tid': 'orb', 'ggm': 'hly', 'azf': 'ycl', 'Too': 'fro', 'Yel': 'pie', 'lsl': 'ssn', 'mjo': 'dow', 'omj': 'ogo', 'luq': 'cif', 'Toh': 'ddl', 'Toe': 'tie', 'Toa': 'evo', 'Tme': 'nep', 'Tli': 'asa', 'yex': 'fri', 'Tiw': 'hym', 'Tiv': 'ewa', 'ezd': 'ttl', 'rrl': 'lap', 'Tik': 'pou', 'Tie': 'eak', 'Wro': 'sau', 'Wad': 'rda', 'jno': 'lyc', 'Vog': 'yco', 'wug': 'die', 'wyp': 'eet', 'Vea': 'igr', 'Vaz': 'sli', 'Vay': 'yma', 'vaw': 'rys', 'zsa': 'aso', 'azs': 'nke', 'Vos': 'ebe', 'Vad': 'fil', 'Vaa': 'eel', 'Xav': 'wit', 'xeb': 'shl', 'vrb': 'anu', 'Xem': 'dig', 'Wuc': 'zin', 'uvv': 'vil', 'wyo': 'cog', 'Voe': 'igo', 'Veg': 'dop', 'vax': 'ege', 'uok': 'dif', 'viq': 'hog', 'Wun': 'fec', 'Vim': 'urs', 'Vij': 'sym', 'gyo': 'imb', 'ibg': 'aul', 'wyd': 'stl', 'iaj': 'nob', 'Wye': 'gni', 'Vet': 'set', 'Wul': 'bis', 'esz': 'ogn', 'voa': 'bou', 'wym': 'tub', 'Voc': 'gno', 'Vod': 'aus', 'Wyo': 'hoc', 'joz': 'obe', 'Vei': 'coi', 'Veh': 'reh', 'Uvu': 'nme', 'Uve': 'uss', 'Ute': 'chn', 'Usu': 'ebo', 'Uno': 'chu', 'Unj': 'abe', 'Une': 'gea', 'Und': 'hap', 'mpq': 'yte', 'Ump': 'uen', 'Ulu': 'zed', 'Ult': 'cac', 'Ule': 'lau', 'Yad': 'dre', 'Uit': 'cys', 'Uir': 'ipi', 'hll': 'egr', 'jei': 'lod', 'Ueu': 'hec', 'Uds': 'iet', 'Udo': 'pia', 'nrr': 'thu', 'pva': 'via', 'Usp': 'aer', 'Usi': 'yti', 'Xim': 'ppo', 'Xir': 'boa', 'Urd': 'zoo', 'Urc': 'ipt', 'pvo': 'ked', 'upq': 'mbl', 'pge': 'rha', 'Xma': 'var', 'pdi': 'hus', 'pci': 'ndl', 'Unu': 'ncl', 'Xos': 'rof', 'euf': 'dos', 'suq': 'alg', 'Zeg': 'iff', 'Sox': 'nod', 'wlt': 'gma', 'ouh': 'lte', 'Zei': 'mog', 'gwr': 'eut', 'lsn': 'mmi', 'vsb': 'hod', 'lvs': 'ntu', 'Zek': 'edu', 'mnn': 'hre', 'mnc': 'eng', 'Zeo': 'hne', 'Soj': 'raf', 'Soi': 'nqu', 'fok': 'mba', 'zeq': 'diu', 'Zer': 'gua', 'wbl': 'spr', 'ahb': 'uno', 'ovn': 'efi', 'Sne': 'iom', 'vvl': 'unn', 'xhl': 'exi', 'Zee': 'rci', 'Zec': 'eva', 'oyg': 'ogl', 'gyb': 'nag', 'dld': 'mop', 'lkj': 'nfi', 'lfg': 'yna', 'emh': 'ova', 'woi': 'opr', 'abp': 'ube', 'tsr': 'hur', 'Ssi': 'rsa', 'Zav': 'add', 'Wog': 'cab', 'uax': 'nad', 'Wod': 'ubs', 'pyp': 'nsc', 'Woc': 'div', 'euw': 'ocu', 'zko': 'opp', 'itd': 'oug', 'nxl': 'inv', 'Soy': 'ehe', 'eyy': 'rve', 'Smo': 'uci', 'Yoj': 'eam', 'lkt': 'cam', 'Sih': 'sea', 'gnp': 'ves', 'Wic': 'yla', 'gnb': 'ror', 'Sif': 'agn', 'egf': 'blo', 'Zil': 'run', 'nnw': 'hle', 'wec': 'hae', 'Sht': 'mbi', 'hku': 'nle', 'Shk': 'ibe', 'ivz': 'but', 'ldd': 'tum', 'ryv': 'ken', 'ffd': 'egi', 'ikd': 'rly', 'dgw': 'eda', 'ekw': 'dip', 'ahz': 'eck', 'Sga': 'ava', 'wii': 'ngr', 'iik': 'ody', 'kej': 'hob', 'gph': 'rar', 'Zhm': 'tli', 'wgo': 'coe', 'ryr': 'ops', 'Sle': 'has', 'vdo': 'hir', 'avd': 'sim', 'Sky': 'fol', 'kyc': 'teo', 'kyb': 'cir', 'Sku': 'orc', 'vvi': 'gli', 'kii': 'ubi', 'zix': 'ncu', 'Sjo': 'eep', 'aak': 'lae', 'jaa': 'gio', 'Sja': 'mmo', 'xhy': 'ket', 'zih': 'rst', 'siw': 'epo', 'zik': 'atc', 'Zaq': 'plu', 'yfz': 'dab', 'fzi': 'irc', 'aoy': 'lyp', 'djy': 'sla', 'Taj': 'lve', 'kgi': 'edo', 'hlt': 'org', 'hkh': 'gla', 'fyw': 'apt', 'Taf': 'bes', 'Ypu': 'ski', 'Wau': 'dol', 'szo': 'oke', 'szl': 'nfo', 'Sze': 'asp', 'sza': 'mod', 'odj': 'nae', 'Syu': 'nfe', 'ynr': 'exc', 'Yqu': 'rvi', 'lck': 'rry', 'asv': 'pht', 'qum': 'rba', 'hgl': 'ncr', 'ruy': 'urg', 'Teo': 'dul', 'vox': 'cry', 'Tej': 'imm', 'Yok': 'tul', 'uex': 'heo', 'Tee': 'way', 'Yol': 'xtr', 'tck': 'lob', 'woy': 'ged', 'Yom': 'ude', 'Tca': 'oar', 'Yon': 'mpr', 'Wov': 'rpo', 'Taw': 'agr', 'vgh': 'bic', 'avg': 'unw', 'wlr': 'gri', 'ldq': 'rso', 'rlt': 'ngn', 'cmy': 'rhe', 'ymt': 'ovi', 'Wax': 'lai', 'Sye': 'exa', 'Sug': 'ipo', 'ixm': 'syc', 'Won': 'unl', 'bzy': 'pac', 'yzg': 'ruc', 'btw': 'bed', 'bsn': 'dar', 'Zad': 'cyt', 'Zag': 'eum', 'zgo': 'loo', 'Zai': 'bus', 'Zak': 'esh', 'uvo': 'nli', 'bmy': 'yth', 'ctd': 'oxy', 'bgw': 'ced', 'bgu': 'gue', 'bgi': 'urr', 'Waz': 'cip', 'zaq': 'ool', 'aqq': 'spl', 'qqu': 'aba', 'suj': 'hid', 'sux': 'pea', 'usd': 'uar', 'gde': 'ecr', 'msu': 'riv', 'Yue': 'lad', 'yuf': 'alu', 'zbo': 'ckl', 'Yui': 'mbo', 'Sve': 'arn', 'Suy': 'sep', 'Suw': 'hat', 'Suu': 'ark', 'phb': 'ump', 'Yus': 'opy', 'zlu': 'hum', 'rbn': 'ipl', 'fiu': 'tua', 'Sup': 'hee', 'Yvo': 'fie', 'phm': 'adr', 'phh': 'aln', 'jyl': 'yle', 'Run': 'doc', 'rlk': 'ngo', 'Err': 'oty', 'Ert': 'lde', 'Eru': 'git', 'yht': 'aly', 'Esd': 'coa', 'Ese': 'ois', 'Esq': 'cru', 'Eta': 'igi', 'Etn': 'acu', 'Eto': 'uis', 'ucn': 'obl', 'Eue': 'eer', 'Eux': 'gge', 'veq': 'yri', 'Ewe': 'geo', 'xde': 'onv', 'Erp': 'ook', 'rgm': 'pop', 'fja': 'dep', 'Erg': 'tta', 'Ene': 'def', 'Ens': 'yan', 'gnc': 'sig', 'gnr': 'bia', 'Enu': 'asm', 'Eoa': 'oat', 'Eod': 'occ', 'Eoh': 'axi', 'Eom': 'uch', 'Eos': 'unh', 'Eoz': 'hra', 'php': 'epe', 'Epo': 'uck', 'Epr': 'bea', 'Eps': 'ada', 'voq': 'gel', 'uul': 'bon', 'xeu': 'cut', 'Exm': 'een', 'xmo': 'rga', 'xru': 'ymp', 'Feg': 'rce', 'Feh': 'cil', 'Fei': 'ado', 'eij': 'nec', 'Fem': 'vic', 'Feu': 'whi', 'ziw': 'ibr', 'Fia': 'ces', 'ibd': 'sth', 'Fif': 'dac', 'Fig': 'own', 'lmd': 'tig', 'Fim': 'neo', 'fiq': 'lie', 'zcl': 'omb', 'Fiu': 'nct', 'Fec': 'tne', 'Fap': 'hlo', 'Ezr': 'zer', 'Ext': 'gui', 'exz': 'dor', 'xzo': 'uff', 'Eye': 'leo', 'Eze': 'psy', 'fao': 'oon', 'Fac': 'sab', 'Fae': 'apa', 'Fah': 'tee', 'Fak': 'oci', 'cyw': 'nga', 'oao': 'mbe', 'emg': 'rov', 'Ema': 'sac', 'khn': 'nim', 'Dup': 'imo', 'duy': 'ffi', 'uyk': 'nca', 'ndv': 'rbo', 'rfn': 'tap', 'Dwi': 'gul', 'Dwy': 'tip', 'Dyl': 'oda', 'ysf': 'pid', 'sgn': 'nve', 'smn': 'ias', 'ysr': 'rle', 'Dys': 'toi', 'Dzu': 'psi', 'Duk': 'lys', 'duj': 'pur', 'Dui': 'iab', 'hky': 'yto', 'bts': 'eis', 'Dov': 'aft', 'wsa': 'uat', 'Dox': 'iar', 'Doy': 'mbr', 'wge': 'oct', 'Dri': 'vat', 'Duh': 'dge', 'Dsc': 'kle', 'ltj': 'tam', 'bhg': 'smi', 'ucd': 'agg', 'Dud': 'eop', 'Due': 'tib', 'Dug': 'iro', 'Eat': 'rgi', 'Egl': 'nna', 'Ego': 'mma', 'Egr': 'riu', 'Eha': 'rbi', 'Eic': 'uit', 'Eik': 'inu', 'Eil': 'sty', 'Ein': 'ugh', 'Eja': 'leu', 'Eko': 'gam', 'kph': 'nsh', 'Eld': 'ndu', 'lkd': 'yph', 'Elm': 'tec', 'Elr': 'air', 'Elw': 'oxi', 'ggp': 'inn', 'ggb': 'nsa', 'Ege': 'ics', 'Eci': 'cas', 'bbm': 'nsp', 'Ebo': 'erw', 'Ebu': 'ume', 'Ecb': 'soc', 'cbl': 'loi', 'ecg': 'iop', 'cgo': 'abo', 'Eck': 'ffe', 'Efi': 'nen', 'Ecl': 'fac', 'ecm': 'ify', 'cmn': 'ink', 'Eco': 'utt', 'Edg': 'urn', 'Edn': 'van', 'ixu': 'smo', 'Doo': 'noi', 'Haf': 'eol', 'fny': 'ctu', 'ikw': 'mag', 'lsf': 'ipa', 'mza': 'ebr', 'sry': 'tet', 'npf': 'rrh', 'ikv': 'sib', 'wkl': 'arl', 'zna': 'gna', 'dph': 'alm', 'rtq': 'iga', 'emr': 'ipp', 'Heh': 'lom', 'lmh': 'bio', 'Hac': 'uta', 'Fjo': 'efu', 'ssq': 'ulp', 'mgr': 'eab', 'ivn': 'nem', 'szy': 'tot', 'grr': 'api', 'yaq': 'hri', 'Gub': 'fle', 'guc': 'pir', 'ujr': 'alc', 'Gum': 'pil', 'uyd': 'oba', 'Gya': 'aga', 'ymk': 'flu', 'mkh': 'arg', 'yrf': 'mpo', 'ytl': 'yro', 'ihd': 'nso', 'zeg': 'hab', 'Heu': 'rav', 'opv': 'rro', 'pvi': 'bol', 'rsf': 'iot', 'wff': 'irr', 'Hoy': 'uma', 'Hri': 'nex', 'Hro': 'ott', 'Hsi': 'bur', 'Hsu': 'pyr', 'Huc': 'rde', 'Hue': 'vol', 'Hui': 'cus', 'mhu': 'ira', 'Hup': 'ham', 'Hux': 'tag', 'uxl': 'ocr', 'ofp': 'iph', 'ysw': 'gro', 'lmb': 'lip', 'ndq': 'ecu', 'Hev': 'hio', 'xaf': 'udi', 'xav': 'evi', 'xok': 'oin', 'xoy': 'sec', 'Hia': 'nas', 'Hid': 'ios', 'Hiv': 'pas', 'Hok': 'cot', 'Hle': 'eac', 'dhs': 'uth', 'Hlo': 'cet', 'xee': 'nea', 'obg': 'gas', 'Hod': 'rta', 'pev': 'aff', 'yim': 'fis', 'Gok': 'ush', 'Fom': 'emb', 'Fot': 'oof', 'xgl': 'nap', 'mdl': 'bas', 'mdn': 'tiz', 'eyj': 'wer', 'hsd': 'cum', 'iul': 'lep', 'Fue': 'esp', 'Fui': 'nio', 'fuj': 'plo', 'ulz': 'stu', 'fuy': 'nam', 'zzb': 'hes', 'fyk': 'nog', 'fyr': 'mol', 'iic': 'ied', 'Fok': 'pel', 'uxr': 'aki', 'vob': 'rra', 'axd': 'rne', 'xdr': 'ank', 'Fli': 'ars', 'ixw': 'vit', 'kyh': 'row', 'uxm': 'hyt', 'xro': 'ibi', 'nng': 'ipe', 'uxw': 'lag', 'Fly': 'hit', 'csl': 'npr', 'Fod': 'rib', 'hnl': 'woo', 'Foe': 'chl', 'Goh': 'arp', 'ntk': 'fin', 'bbs': 'asc', 'Gie': 'rge', 'Gif': 'phr', 'ltt': 'roa', 'Gim': 'umi', 'Gip': 'mos', 'tks': 'mus', 'Giu': 'ece', 'Gme': 'rum', 'oaj': 'typ', 'Goc': 'epr', 'Gog': 'lph', 'Ghu': 'ony', 'gez': 'ych', 'vao': 'bre', 'vyu': 'old', 'abg': 'sar', 'Gaf': 'tea', 'fky': 'tas', 'Gah': 'wee', 'wsn': 'rsi', 'Gap': 'uct', 'rhw': 'hth', 'wby': 'ido', 'eoo': 'lut', 'wkh': 'owe', 'ayy': 'ork', 'ktw': 'pot', 'eej': 'oga', 'Geg': 'ige', 'vev': 'onf', 'aox': 'enn', 'eyk': 'dan', 'Rul': 'fra', 'Awe': 'epa', 'Aws': 'reb', 'Axe': 'lim', 'xel': 'bor', 'Axm': 'gre', 'xmi': 'sso', 'Axu': 'yli', 'Aya': 'rsh', 'Ayd': 'tti', 'Ayl': 'ocy', 'Ayr': 'exp', 'Ayt': 'yll', 'Ayu': 'dat', 'Ayy': 'ule', 'yyu': 'alt', 'Azh': 'rli', 'Awo': 'leg', 'puh': 'iva', 'Biv': 'cio', 'vsh': 'nel', 'rzr': 'sat', 'zru': 'olu', 'hko': 'reo', 'yxy': 'oso', 'Asu': 'bin', 'Asy': 'mak', 'Atf': 'mpa', 'Atk': 'llu', 'Atn': 'ape', 'Atu': 'sop', 'Aue': 'scu', 'Auk': 'gar', 'Aun': 'uin', 'xoh': 'duc', 'Avs': 'avi', 'byd': 'sho', 'byf': 'ors', 'zbi': 'roi', 'nzp': 'arm', 'zpi': 'clo', 'ztr': 'ben', 'Bep': 'iri', 'Beu': 'fla', 'Bev': 'itr', 'ziq': 'cli', 'ezp': 'bli', 'zpo': 'rcu', 'ojp': 'rme', 'Bic': 'syn', 'gsg': 'omm', 'llj': 'unm', 'lji': 'amm', 'nzu': 'osa', 'Bio': 'ylo', 'nzb': 'nni', 'duq': 'ict', 'Bej': 'hop', 'nuy': 'ban', 'tzn': 'equ', 'Baf': 'nif', 'fyo': 'flo', 'jre': 'rna', 'jri': 'cte', 'nff': 'ech', 'nxr': 'mpl', 'Bei': 'gia', 'xri': 'hys', 'rkc': 'ign', 'rmk': 'erd', 'wds': 'pet', 'Baw': 'aur', 'Baz': 'rei', 'edq': 'nor', 'zaw': 'pto', 'zav': 'umb', 'ajh': 'wis', 'Afi': 'lif', 'kaa': 'hag', 'Aft': 'itt', 'Afz': 'isa', 'Agd': 'ash', 'Agk': 'ypo', 'aoz': 'tou', 'Agy': 'arb', 'aai': 'ssa', 'Aha': 'rob', 'Ahi': 'bel', 'luw': 'spa', 'Ahn': 'lem', 'hnf': 'isp', 'iaw': 'pra', 'Ain': 'cis', 'Afg': 'rev', 'Afe': 'ctr', 'Afa': 'tai', 'smh': 'sph', 'Aan': 'aca', 'abf': 'chy', 'Abh': 'rco', 'Abl': 'nid', 'bmh': 'tyl', 'bsf': 'mot', 'bsv': 'emp', 'Ael': 'amo', 'abv': 'ago', 'Aby': 'udo', 'Acl': 'ppe', 'Acn': 'nci', 'wlu': 'mme', 'Aed': 'reg', 'Aix': 'coc', 'Aju': 'dea', 'rmg': 'gne', 'zga': 'hos', 'Aoi': 'vin', 'Aon': 'mes', 'bhr': 'bat', 'Apn': 'itu', 'poj': 'seu', 'npt': 'sed', 'hci': 'lti', 'hhu': 'bit', 'chj': 'bal', 'hjo': 'nol', 'hsn': 'obi', 'hsw': 'atu', 'hsy': 'noc', 'rfv': 'ein', 'fve': 'sid', 'ufy': 'cap', 'Arh': 'gle', 'usv': 'tim', 'iej': 'mil', 'Ake': 'rod', 'Akw': 'glo', 'fnu': 'opt', 'efz': 'our', 'phz': 'del', 'faj': 'vis', 'ljo': 'mid', 'diq': 'apo', 'yhm': 'siv', 'xou': 'hoo', 'mhr': 'mac', 'Amr': 'ulo', 'mtm': 'sil', 'amv': 'pli', 'Anj': 'inf', 'rdg': 'ega', 'xby': 'amb', 'ogv': 'not', 'lng': 'pec', 'byy': 'rni', 'yye': 'bla', 'Cud': 'pod', 'Cue': 'ute', 'Cui': 'val', 'Cuj': 'bul', 'cuk': 'ysi', 'Cuo': 'tid', 'ewu': 'dem', 'Cuv': 'usn', 'Cuz': 'cta', 'uzc': 'unb', 'zce': 'ual', 'cwm': 'usi', 'Cyb': 'bac', 'cyk': 'oot', 'Cua': 'pul', 'wdw': 'win', 'ssj': 'tem', 'gwh': 'ped', 'Coh': 'use', 'cwe': 'mas', 'bwr': 'lon', 'rmm': 'eso', 'pym': 'sch', 'psb': 'riz', 'wpu': 'pon', 'owq': 'ese', 'xsw': 'erf', 'Coy': 'tog', 'zey': 'eud', 'zyc': 'mph', 'zyw': 'sci', 'mcu': 'mpe', 'ekf': 'squ', 'yml': 'ngu', 'Cyz': 'lne', 'evn': 'rph', 'evv': 'san', 'Dew': 'erg', 'Dex': 'sel', 'Dez': 'rim', 'Dha': 'hou', 'Dhe': 'rri', 'Dhr': 'med', 'Dhu': 'ail', 'Dii': 'pis', 'ylq': 'dri', 'ptm': 'nsu', 'svu': 'pse', 'Diu': 'ril', 'Div': 'ext', 'Dja': 'rmo', 'Dju': 'erb', 'Dob': 'hed', 'Det': 'ntl', 'Dek': 'ede', 'ehw': 'eed', 'Day': 'hom', 'fyd': 'imi', 'Daf': 'sor', 'mkj': 'gat', 'rbh': 'sic', 'ktz': 'ier', 'Daz': 'lid', 'ehk': 'cos', 'dce': 'eci', 'Dea': 'try', 'emj': 'low', 'mju': 'cid', 'Dee': 'gan', 'Deg': 'ord', 'ehg': 'pte', 'Cog': 'tif', 'ksf': 'ase', 'yzu': 'pit', 'dza': 'iol', 'Buf': 'rie', 'ugp': 'lot', 'rgg': 'ivi', 'rrg': 'eca', 'rrk': 'mou', 'ttg': 'ire', 'Buy': 'bri', 'zzg': 'eas', 'zgl': 'icr', 'zzw': 'opl', 'Byn': 'nac', 'Bys': 'eto', 'byb': 'otr', 'omv': 'ceo', 'nyv': 'acr', 'Bjo': 'rip', 'uwb': 'nab', 'zkr': 'unf', 'wgu': 'tly', 'bwh': 'gon', 'gij': 'cke', 'byx': 'cur', 'otj': 'ima', 'mss': 'sma', 'ylk': 'ref', 'wlm': 'ndo', 'oxk': 'ota', 'xke': 'mul', 'dyu': 'mia', 'kkl': 'hia', 'afh': 'tac', 'jep': 'lig', 'gyw': 'dio', 'lmn': 'dle', 'ldk': 'ann', 'suy': 'het', 'nhw': 'lam', 'hiw': 'rig', 'Chn': 'ype', 'oyr': 'eur', 'ukc': 'nop', 'Chw': 'oss', 'Cip': 'ded', 'umz': 'cit', 'mze': 'rif', 'Civ': 'sul', 'cix': 'ilo', 'kdi': 'lab', 'uxs': 'ree', 'spt': 'dit', 'yoq': 'ull', 'ihf': 'acc', 'Cez': 'orn', 'eyx': 'ett', 'lxy': 'ung', 'mny': 'gal', 'byu': 'sur', 'mpg': 'ila', 'ivl': 'ncy', 'vly': 'hyl', 'Caq': 'dal', 'olx': 'nse', 'szi': 'aro', 'ltd': 'sol', 'viy': 'ngi', 'awq': 'nne', 'Cco': 'cla', 'Cea': 'arr', 'Cei': 'hot', 'llv': 'lop', 'Huy': 'orr', 'uyg': 'tes', 'Huz': 'usl', 'ddn': 'ily', 'Oec': 'ife', 'Ofe': 'rse', 'fgr': 'tru', 'fsp': 'rer', 'Ofo': 'erv', 'Oga': 'isi', 'Ogb': 'uro', 'Ogh': 'dra', 'Ogl': 'eae', 'Ogo': 'lus', 'Ogp': 'ydr', 'Oid': 'ien', 'Oir': 'neu', 'Oka': 'tos', 'ofd': 'elo', 'Ods': 'eve', 'xph': 'rai', 'Ocr': 'nre', 'Nut': 'bar', 'Nyd': 'iac', 'Nyo': 'esc', 'Nyr': 'dom', 'Oan': 'gis', 'Oba': 'edn', 'Obb': 'agi', 'Obe': 'lio', 'Obi': 'she', 'Obr': 'uto', 'Oci': 'son', 'Ocn': 'cel', 'Oco': 'opa', 'ocq': 'ndr', 'Oku': 'thy', 'Olg': 'nda', 'Oll': 'ito', 'Oln': 'sca', 'Osk': 'sce', 'Osp': 'uli', 'Ote': 'rus', 'Oty': 'toc', 'Oui': 'sha', 'Out': 'loc', 'tby': 'ake', 'tgn': 'erp', 'Ove': 'hyd', 'vof': 'ama', 'Ovo': 'rag', 'Ovu': 'aco', 'wlg': 'scr', 'wlh': 'lum', 'wtc': 'yst', 'xey': 'hel', 'vud': 'aut', 'scn': 'ave', 'Osa': 'orp', 'Oos': 'amp', 'Ols': 'sse', 'yko': 'edl', 'Omn': 'att', 'One': 'nst', 'Onm': 'rdi', 'Ony': 'rmi', 'Oom': 'don', 'Oot': 'tch', 'ziv': 'gin', 'Opo': 'osc', 'Opp': 'unr', 'rfg': 'mel', 'Ors': 'cri', 'Oru': 'oco', 'nuq': 'uti', 'Nun': 'iss', 'Nul': 'tol', 'Nad': 'app', 'tsj': 'dec', 'mux': 'ock', 'Muy': 'ice', 'uys': 'bro', 'uzh': 'cle', 'zhi': 'ned', 'Muz': 'rte', 'Mwa': 'lea', 'Mye': 'ept', 'Myi': 'pri', 'yif': 'eth', 'mym': 'omp', 'Myn': 'ins', 'ahf': 'rre', 'Mup': 'oll', 'Muo': 'cep', 'mua': 'war', 'Mox': 'erl', 'Mpa': 'ick', 'Mpo': 'rel', 'Mrs': 'ras', 'Mru': 'zat', 'mub': 'ode', 'jta': 'ime', 'Mud': 'osp', 'Mue': 'ifo', 'uez': 'que', 'muh': 'iso', 'Mui': 'som', 'muj': 'une', 'ujt': 'atr', 'agk': 'ich', 'Nuk': 'rem', 'Naj': 'chr', 'Niq': 'tha', 'iua': 'ean', 'Niz': 'oce', 'Nod': 'ogy', 'Nog': 'odo', 'Noh': 'eal', 'Noo': 'icu', 'Nop': 'igh', 'fye': 'net', 'Nou': 'his', 'ovc': 'mar', 'Now': 'nou', 'Noz': 'des', 'Nug': 'sly', 'Nih': 'tle', 'htg': 'niz', 'vli': 'cre', 'mgi': 'cia', 'Nal': 'mit', 'zii': 'nos', 'kyo': 'til', 'Nee': 'sal', 'jdi': 'ela', 'evl': 'lou', 'Nek': 'cin', 'Nen': 'nom', 'xtn': 'ong', 'Ngo': 'dne', 'Ngu': 'rog', 'Nha': 'roo', 'Nhe': 'rth', 'xla': 'rol', 'oxr': 'ght', 'uzv': 'sia', 'qas': 'sen', 'qin': 'ena', 'Qoh': 'bly', 'qop': 'dly', 'lmp': 'ibl', 'sij': 'oca', 'qub': 'lor', 'Qun': 'epi', 'Quo': 'aci', 'Qur': 'ust', 'xre': 'ory', 'yvu': 'ood', 'Psh': 'ote', 'pss': 'spi', 'syk': 'cea', 'ykt': 'nto', 'Pta': 'pan', 'goq': 'nsi', 'Pud': 'sne', 'Puf': 'fic', 'Puj': 'omy', 'Puk': 'hen', 'lpb': 'pti', 'ulq': 'spo', 'Pum': 'asi', 'Put': 'emo', 'pux': 'adi', 'Pyl': 'pal', 'pyv': 'ans', 'Raa': 'rad', 'ajb': 'unp', 'jba': 'mal', 'ajp': 'cou', 'hmp': 'odi', 'nnc': 'los', 'Rio': 'are', 'skp': 'vel', 'ouy': 'ack', 'Roh': 'onc', 'Roi': 'led', 'Rok': 'ade', 'ftr': 'ead', 'ugy': 'nar', 'wty': 'ult', 'Rua': 'una', 'Rue': 'tit', 'Ruf': 'ile', 'Ruk': 'opo', 'hml': 'ern', 'Rhu': 'pic', 'zau': 'imp', 'hsg': 'rab', 'Rak': 'lec', 'Rao': 'isc', 'Raz': 'qua', 'eaa': 'hol', 'Rea': 'opi', 'bln': 'top', 'Ref': 'ola', 'Rej': 'liz', 'Rex': 'alo', 'Rek': 'hil', 'ezv': 'sit', 'zvo': 'hon', 'ndz': 'ame', 'dzi': 'eco', 'Req': 'gic', 'vui': 'phe', 'doj': 'sin', 'ptb': 'ano', 'gml': 'err', 'cij': 'wor', 'wkr': 'cra', 'Pax': 'let', 'iub': 'eat', 'Paz': 'oti', 'egw': 'tre', 'Pei': 'hyp', 'Pem': 'ery', 'ntt': 'hem', 'Peq': 'ond', 'rcn': 'ifi', 'ovs': 'eou', 'Pey': 'och', 'Pfa': 'iza', 'Pfe': 'rep', 'nxe': 'upe', 'aoh': 'eph', 'Paq': 'ope', 'Pao': 'ata', 'npn': 'ens', 'xyi': 'pen', 'xyw': 'oro', 'Oya': 'rma', 'Ozi': 'lac', 'Ozo': 'ser', 'nmn': 'eme', 'aau': 'tia', 'hyv': 'can', 'Paj': 'ane', 'khp': 'cto', 'ihn': 'ram', 'lmc': 'edi', 'lmf': 'oly', 'gox': 'cer', 'idj': 'thr', 'ixn': 'pin', 'Pig': 'ith', 'yvo': 'pat', 'ntv': 'abi', 'gye': 'ain', 'opj': 'dic', 'tpn': 'ico', 'stx': 'oge', 'txy': 'rid', 'otd': 'tel', 'Pov': 'ear', 'Pow': 'rio', 'puu': 'cop', 'aez': 'rch', 'mnt': 'uni', 'ssg': 'oun', 'cek': 'ise', 'ocz': 'inc', 'ctt': 'rti', 'cyh': 'sio', 'Pob': 'spe', 'uow': 'dro', 'gsn': 'ker', 'ncp': 'mor', 'cpi': 'han', 'njr': 'ger', 'qur': 'kin', 'rrm': 'ura', 'shq': 'fer', 'nxt': 'ple', 'ttd': 'nge', 'yku': 'out', 'owj': 'ole', 'wjo': 'sem', 'wwr': 'llo', 'gdr': 'tte', 'ynl': 'hip', 'wyr': 'ber', 'hwy': 'ons', 'joj': 'oth', 'Joo': 'ert', 'Jop': 'omi', 'Jot': 'bra', 'Jou': 'ely', 'wpy': 'tar', 'Joy': 'omo', 'Joz': 'ind', 'Juc': 'ami', 'Jue': 'ass', 'juf': 'col', 'Juh': 'iat', 'Jup': 'har', 'Juy': 'din', 'Juz': 'lle', 'Jwa': 'ose', 'Jol': 'ven', 'Jod': 'ium', 'Mop': 'arc', 'dhp': 'tab', 'zre': 'lik', 'jhe': 'qui', 'Jhu': 'eta', 'Jia': 'pos', 'ibm': 'sup', 'jih': 'cor', 'Jil': 'hic', 'imj': 'ema', 'jiq': 'hin', 'Jir': 'ren', 'Jis': 'lia', 'Jit': 'ana', 'jix': 'iou', 'Job': 'erc', 'aok': 'uri', 'Kia': 'pol', 'Kic': 'por', 'Kih': 'ale', 'kuy': 'cen', 'lnh': 'nin', 'lnm': 'ike', 'lnr': 'thi', 'hax': 'hea', 'axk': 'bil', 'xki': 'nch', 'iyi': 'mer', 'Kje': 'nth', 'Klu': 'ler', 'obk': 'ary', 'zmi': 'idi', 'azm': 'esi', 'Khw': 'age', 'Kep': 'dae', 'Kau': 'sco', 'Kav': 'las', 'ayv': 'ner', 'zuh': 'ntr', 'Kea': 'ogi', 'Kek': 'nco', 'ekc': 'ure', 'ryk': 'ful', 'khv': 'cro', 'Ket': 'ala', 'Keu': 'ssi', 'vut': 'ret', 'Kew': 'hro', 'vzu': 'unt', 'Khl': 'ndi', 'Khm': 'ton', 'jeq': 'roc', 'Jel': 'ita', 'dcy': 'tur', 'gdy': 'den', 'Igl': 'orm', 'Igo': 'ogr', 'Ihl': 'tan', 'iiw': 'shi', 'ijm': 'eno', 'Ike': 'dia', 'Ikh': 'ach', 'Ila': 'rot', 'Ilp': 'ino', 'guk': 'end', 'Inj': 'ang', 'nnk': 'uns', 'Inq': 'ora', 'erx': 'hor', 'Igd': 'ono', 'Igb': 'ron', 'Iga': 'hal', 'Iam': 'nit', 'zva': 'gly', 'Hwa': 'sub', 'hyk': 'ici', 'mnb': 'act', 'Ibo': 'etr', 'Ifu': 'nia', 'Idd': 'ore', 'Ide': 'ath', 'Idu': 'mis', 'Ier': 'ort', 'rxy': 'ont', 'Iod': 'oto', 'Iva': 'tho', 'vyf': 'eti', 'Iza': 'cho', 'Izd': 'pla', 'zdu': 'osi', 'Izu': 'enc', 'Izz': 'cha', 'Jaa': 'lla', 'ajm': 'ara', 'Jal': 'che', 'jaq': 'art', 'Jaz': 'eni', 'Itz': 'ard', 'Itu': 'rit', 'Iti': 'car', 'Irf': 'rec', 'Ios': 'com', 'Ipa': 'rom', 'Ipi': 'lli', 'Ipo': 'ten', 'qia': 'ros', 'Irm': 'anc', 'tcz': 'rea', 'Irp': 'tat', 'Irw': 'lan', 'Isf': 'mic', 'smd': 'ral', 'Isn': 'ete', 'vni': 'unc', 'Isw': 'red', 'Koa': 'tom', 'Kob': 'ini', 'rkk': 'cul', 'Maa': 'lis', 'cbe': 'phy', 'acd': 'lic', 'cdu': 'ngl', 'acf': 'eli', 'dhv': 'ris', 'icd': 'ers', 'idk': 'mon', 'ajl': 'oid', 'jli': 'ill', 'khz': 'nta', 'ozh': 'oli', 'zho': 'erm', 'nxm': 'and', 'nxw': 'cat', 'zas': 'rou', 'Maq': 'pha', 'Luw': 'sto', 'owv': 'gen', 'wvi': 'tis', 'ucb': 'tal', 'Lue': 'nce', 'Luf': 'len', 'Luo': 'par', 'Luz': 'ell', 'Lwo': 'min', 'Lya': 'ide', 'Lye': 'sis', 'ymh': 'rac', 'mhp': 'for', 'Lyp': 'est', 'kge': 'aph', 'asj': 'nal', 'iqa': 'ele', 'sji': 'ida', 'lkb': 'nis', 'lzb': 'lar', 'zbr': 'one', 'nxs': 'rap', 'iqr': 'emi', 'qra': 'cti', 'irz': 'ori', 'hwu': 'phi', 'isz': 'oma', 'izm': 'sta', 'izp': 'nat', 'zpa': 'ace', 'izr': 'nic', 'Moj': 'chi', 'ijl': 'ost', 'Mev': 'met', 'Meu': 'tiv', 'ttb': 'ish', 'Mav': 'dis', 'xix': 'ial', 'azh': 'ula', 'Mba': 'ere', 'Mci': 'ona', 'Mck': 'log', 'Mde': 'rop', 'yln': 'ove', 'Mea': 'ili', 'Meb': 'und', 'gmh': 'ani', 'hrd': 'ize', 'Meo': 'ect', 'srs': 'pho', 'esv': 'ted', 'gcl': 'ome', 'Kog': 'rin', 'cmu': 'lly', 'dzu': 'mat', 'Kue': 'olo', 'Kuf': 'les', 'Kuh': 'her', 'uhn': 'ina', 'Kui': 'tro', 'Kuo': 'int', 'pff': 'gra', 'kuv': 'ity', 'Kuv': 'str', 'Kyb': 'ria', 'Kyp': 'nde', 'Kyr': 'iti', 'kyt': 'non', 'Kud': 'men', 'Kuc': 'ran', 'zto': 'der', 'Kow': 'res', 'hlr': 'ast', 'koj': 'ato', 'Koj': 'era', 'daj': 'man', 'lkk': 'ari', 'zky': 'tin', 'Kou': 'ric', 'koy': 'lat', 'szt': 'lin', 'koz': 'ste', 'Kpu': 'ero', 'hnk': 'oph', 'mmh': 'the', 'Krz': 'lit', 'ysz': 'tor', 'acw': 'ive', 'Loe': 'rat', 'Laf': 'nti', 'zgh': 'ian', 'Lho': 'nte', 'ibk': 'oni', 'Lif': 'ism', 'Lih': 'pro', 'lnl': 'tri', 'Liq': 'ene', 'Lir': 'sti', 'itv': 'con', 'Liu': 'ite', 'iuk': 'ali', 'Liy': 'pre', 'Llo': 'ver', 'Llu': 'tra', 'evs': 'all', 'ezg': 'eri', 'Lez': 'per', 'Lex': 'abl', 'afb': 'ant', 'hnd': 'ine', 'bsd': 'cal', 'gsy': 'ble', 'awz': 'ist', 'Lay': 'ica', 'zyh': 'tic', 'zyi': 'ate', 'afc': 'ent', 'Leh': 'nes', 'hrb': 'tio', 'hrm': 'ous', 'Lel': 'ing', 'esg': 'ati', 'sgh': 'ter', 'siy': 'ion', 'yzz': 'ess'}\n"
          ]
        }
      ]
    },
    {
      "cell_type": "markdown",
      "source": [
        "#### Approach 2: Limit swapping based on percentiles"
      ],
      "metadata": {
        "id": "SQ8JEGmwZ14P"
      }
    },
    {
      "cell_type": "code",
      "source": [
        "# 10% only\n",
        "import pandas as pd\n",
        "import random\n",
        "\n",
        "df = pd.read_excel('bigram.xlsx')\n",
        "df = df[df['bi-gram'].apply(lambda x: '-' not in x)]\n",
        "# Calculate the threshold for the top 10 percentile\n",
        "top_10_threshold = df['freq'].quantile(0.9)\n",
        "\n",
        "# Filter the DataFrame to include only top 10 percentile values\n",
        "filtered_df = df[df['freq'] >= top_10_threshold]\n",
        "\n",
        "bigram_dict = filtered_df.set_index('bi-gram')['freq'].to_dict()\n",
        "ori_df = [bigram for bigram, freq in bigram_dict.items()]\n",
        "list_df = [bigram for bigram, freq in bigram_dict.items()]\n",
        "random.shuffle(list_df)\n",
        "\n",
        "ori_trans = {}\n",
        "for ori, trans in zip(ori_df, list_df):\n",
        "  ori_trans[ori] = trans\n",
        "\n",
        "df = pd.DataFrame(list(ori_trans.items()), columns=['Original', 'Translation'])\n",
        "with pd.ExcelWriter('bigram_10p.xlsx') as writer:\n",
        "  df.to_excel(writer, sheet_name='Dictionary', index=False)"
      ],
      "metadata": {
        "id": "-O4SPBw-bOOo"
      },
      "execution_count": null,
      "outputs": []
    },
    {
      "cell_type": "code",
      "source": [
        "# 10% only\n",
        "import pandas as pd\n",
        "import random\n",
        "\n",
        "df = pd.read_excel('trigram.xlsx')\n",
        "df = df.dropna()\n",
        "df = df[df['tri-gram'].apply(lambda x: '-' not in x)]\n",
        "# Calculate the threshold for the top 10 percentile\n",
        "top_10_threshold = df['freq'].quantile(0.9)\n",
        "\n",
        "# Filter the DataFrame to include only top 10 percentile values\n",
        "filtered_df = df[df['freq'] >= top_10_threshold]\n",
        "\n",
        "trigram_dict = filtered_df.set_index('tri-gram')['freq'].to_dict()\n",
        "ori_df = [trigram for trigram, freq in trigram_dict.items()]\n",
        "list_df = [trigram for trigram, freq in trigram_dict.items()]\n",
        "random.shuffle(list_df)\n",
        "\n",
        "ori_trans = {}\n",
        "for ori, trans in zip(ori_df, list_df):\n",
        "  ori_trans[ori] = trans\n",
        "\n",
        "print(len(df))\n",
        "\n",
        "df = pd.DataFrame(list(ori_trans.items()), columns=['Original', 'Translation'])\n",
        "with pd.ExcelWriter('trigram_10p.xlsx') as writer:\n",
        "  df.to_excel(writer, sheet_name='Dictionary', index=False)"
      ],
      "metadata": {
        "colab": {
          "base_uri": "https://localhost:8080/"
        },
        "id": "EU8iJIN-9dmz",
        "outputId": "b07562c8-8516-4931-a36d-ddc831535d4b"
      },
      "execution_count": null,
      "outputs": [
        {
          "output_type": "stream",
          "name": "stdout",
          "text": [
            "10782\n"
          ]
        }
      ]
    },
    {
      "cell_type": "markdown",
      "source": [
        "### Compounding\n",
        "Algorithm:\n",
        "1. takes 2 input: Tokens, flag\n",
        "2. Len(Token) = len(flag), default flag = [1 for e in Token]\n",
        "3. If 2 subsequent token has flag 1 below them, perform compounding. Do this in a sliding window style."
      ],
      "metadata": {
        "id": "-DANUvlXqp12"
      }
    },
    {
      "cell_type": "code",
      "source": [
        "def pretty_print(dictio):\n",
        "  o = \"{\\n\"\n",
        "\n",
        "  for key, value in dictio.items():\n",
        "    o += f\"{key}: {value}\\n\"\n",
        "  o += \"}\"\n",
        "  return o"
      ],
      "metadata": {
        "id": "-NBwK63_IwTy"
      },
      "execution_count": null,
      "outputs": []
    },
    {
      "cell_type": "code",
      "source": [
        "from nltk.corpus import words\n",
        "from tqdm import tqdm\n",
        "ENGLISH_DICTIONARY = words.words()\n",
        "\n",
        "import random # used for portmanteau\n",
        "\n",
        "class CompoundNoise:\n",
        "  def __init__(self):\n",
        "    self.blend_map = {}\n",
        "    self.portmanteau_map = {}\n",
        "\n",
        "  def set_blend(self, blend_map):\n",
        "    self.blend_map = blend_map\n",
        "\n",
        "  def set_portmanteau(self, portmanteau_map):\n",
        "    self.portmanteau_map = portmanteau_map\n",
        "\n",
        "  def blend(self, input):\n",
        "    ###\n",
        "    # def blend:\n",
        "    #   input:\n",
        "    #     dictionary with keys {tokens: list of str, flag: list of boolean}\n",
        "    #     len(flag) == len(tokens)\n",
        "    #     Two subsequent 1 flag will blend 2 subsequent tokens.\n",
        "    ###\n",
        "\n",
        "    def blend_token(s1, s2):\n",
        "      if (s1, s2) in self.blend_map:\n",
        "        return self.blend_map(s1, s2)\n",
        "\n",
        "      generate_blend_result = self.generate_blend(s1, s2)\n",
        "\n",
        "      if generate_blend_result == -1:\n",
        "        return -1\n",
        "\n",
        "      self.blend_map[(s1, s2)] = generate_blend_result\n",
        "      self.blend_map[generate_blend_result] = (s1, s2)\n",
        "      return generate_blend_result\n",
        "\n",
        "    tokens = input['tokens']\n",
        "    blend_flag = input['flag']\n",
        "\n",
        "    assert len(tokens) == len(blend_flag), ValueError(\"length of token and flag is not the same\")\n",
        "\n",
        "    prev_one = False\n",
        "    output = {}\n",
        "    output['tokens'] = []\n",
        "    output['flag']  = []\n",
        "\n",
        "    for i in range(len(tokens)):\n",
        "      if blend_flag[i]:\n",
        "        if prev_one:\n",
        "          res = blend_token(tokens[i-1], tokens[i])\n",
        "          if res == -1:\n",
        "            output['tokens'] += [tokens[i-1]]\n",
        "            output['flag'] += [0]\n",
        "          else:\n",
        "            output['tokens'].append(res)\n",
        "            output['flag'].append(1)\n",
        "            prev_one = False\n",
        "        else:\n",
        "          if i == len(tokens) - 1:\n",
        "            output['tokens'] += [tokens[i]]\n",
        "            output['flag'] += [0]\n",
        "          prev_one = True\n",
        "      else:\n",
        "        output['tokens'].append(tokens[i])\n",
        "        output['flag'].append(0)\n",
        "    return output\n",
        "\n",
        "  # inverse of blend\n",
        "  def reverse_blend(self, input):\n",
        "    tokens = input[\"tokens\"]\n",
        "    flag = input[\"flag\"]\n",
        "\n",
        "    output = {}\n",
        "    output[\"tokens\"] = []\n",
        "    output[\"flag\"]   = []\n",
        "    for i in range(len(flag)):\n",
        "      if flag[i]:\n",
        "        if tokens[i] in self.blend_map:\n",
        "          out1, out2 = self.blend_map[tokens[i]]\n",
        "          output[\"tokens\"] += [out1, out2]\n",
        "          output[\"flag\"]   += [1, 1]\n",
        "        else:\n",
        "          output[\"tokens\"] += [tokens[i]]\n",
        "          output[\"flag\"]   += [0]\n",
        "      else:\n",
        "        output[\"tokens\"] += [tokens[i]]\n",
        "        output[\"flag\"]   += [0]\n",
        "    return output\n",
        "\n",
        "  def portmanteau(self, input):\n",
        "    def portmanteau_token(s1, s2):\n",
        "      if (s1, s2) in self.portmanteau_map:\n",
        "        return self.portmanteau_map(s1, s2)\n",
        "\n",
        "      generate_portmanteau_result = self.generate_portmanteau(s1, s2)\n",
        "\n",
        "      if generate_portmanteau_result == -1:\n",
        "        return -1\n",
        "\n",
        "      self.portmanteau_map[(s1, s2)] = generate_portmanteau_result\n",
        "      self.portmanteau_map[generate_portmanteau_result] = (s1, s2)\n",
        "      return generate_portmanteau_result\n",
        "\n",
        "    tokens = input['tokens']\n",
        "    portmanteau_flag = input['flag']\n",
        "\n",
        "    assert len(tokens) == len(portmanteau_flag), ValueError(\"length of token and flag is not the same\")\n",
        "\n",
        "    prev_one = False\n",
        "    output = {}\n",
        "    output['tokens'] = []\n",
        "    output['flag']  = []\n",
        "\n",
        "    for i in range(len(tokens)):\n",
        "      if portmanteau_flag[i]:\n",
        "        if prev_one:\n",
        "          res = portmanteau_token(tokens[i-1], tokens[i])\n",
        "          if res == -1:\n",
        "            output['tokens'] += [tokens[i-1]]\n",
        "            output['flag'] += [0]\n",
        "          else:\n",
        "            output['tokens'].append(res)\n",
        "            output['flag'].append(1)\n",
        "            prev_one = False\n",
        "        else:\n",
        "          if i == len(tokens) - 1:\n",
        "            output['tokens'] += [tokens[i]]\n",
        "            output['flag'] += [0]\n",
        "          prev_one = True\n",
        "      else:\n",
        "        output['tokens'].append(tokens[i])\n",
        "        output['flag'].append(0)\n",
        "    return output\n",
        "\n",
        "  def reverse_portmanteau(self, input):\n",
        "    tokens = input[\"tokens\"]\n",
        "    flag = input[\"flag\"]\n",
        "\n",
        "    output = {}\n",
        "    output[\"tokens\"] = []\n",
        "    output[\"flag\"]   = []\n",
        "    for i in range(len(flag)):\n",
        "      if flag[i]:\n",
        "        if tokens[i] in self.portmanteau_map:\n",
        "          out1, out2 = self.portmanteau_map[tokens[i]]\n",
        "          output[\"tokens\"] += [out1, out2]\n",
        "          output[\"flag\"]   += [1, 1]\n",
        "        else:\n",
        "          output[\"tokens\"] += [tokens[i]]\n",
        "          output[\"flag\"]   += [0]\n",
        "      else:\n",
        "        output[\"tokens\"] += [tokens[i]]\n",
        "        output[\"flag\"]   += [0]\n",
        "    return output\n",
        "  # Helper Functions\n",
        "\n",
        "  ## Blending helper function\n",
        "  def get_indices(self, lst, target_element):\n",
        "      return [index for index, element in enumerate(lst) if element == target_element]\n",
        "\n",
        "  def find_common_character(self, word1, word2):\n",
        "      chars = []\n",
        "      for char in word1:\n",
        "          if char in word2:\n",
        "              chars.append(char)\n",
        "      return chars\n",
        "\n",
        "  def generate_blend(self, word1, word2):\n",
        "      common_chars = list(set(self.find_common_character(word1, word2)))\n",
        "      # vowels = [\"a\", \"i\", \"u\", \"e\", \"o\"]\n",
        "      candidates = []\n",
        "      len_diff = []\n",
        "      for common_char in common_chars:\n",
        "        if common_char: # in vowels:\n",
        "          index1 = self.get_indices(word1, common_char)\n",
        "          index2 = self.get_indices(word2, common_char)\n",
        "\n",
        "          average_length = (len(word1) + len(word2)) // 2\n",
        "          for idx1 in index1:\n",
        "            for idx2 in index2:\n",
        "              new_word = word1[:idx1] + word2[idx2:]\n",
        "              if new_word in ENGLISH_DICTIONARY or new_word in self.blend_map:\n",
        "                continue\n",
        "\n",
        "              if (abs(len(new_word) - average_length)) <= 3:\n",
        "                candidates.append(new_word)\n",
        "                len_diff.append(abs(len(new_word) - average_length))\n",
        "\n",
        "      mini = 999\n",
        "      mini_idx = None\n",
        "      for i in range(len(candidates)):\n",
        "        if len_diff[i] < mini:\n",
        "          mini = len_diff[i]\n",
        "          mini_idx = i\n",
        "\n",
        "      if mini_idx is not None:\n",
        "        return candidates[mini_idx]\n",
        "      return -1\n",
        "\n",
        "  def generate_portmanteau(self, word1, word2):\n",
        "    portmanteau_type = [1] * 2 + [2] * 1 + [3] * 2 + [4] * 5\n",
        "    random.shuffle(portmanteau_type)\n",
        "\n",
        "    choice = random.choice(portmanteau_type)\n",
        "\n",
        "    # Type 1: Full Append (20% chance)\n",
        "    # Example: [basket] + [ball] = basketball\n",
        "    res = \"\"\n",
        "    if choice == 1:\n",
        "      res = word1 + word2\n",
        "\n",
        "    # Type 2: word1 + half end of word2 (10% chance)\n",
        "    # Example: [guess] + es[timate] = guesstimate\n",
        "    elif choice == 2:\n",
        "      res = word1 + word2[int(len(word2)/2):]\n",
        "\n",
        "    # Type 3: half first of word1 + half first of word2 (20% chance)\n",
        "    # Example: [sit]uation + [com]edy = sitcom\n",
        "    elif choice == 3:\n",
        "      res = word1[:int(len(word1)/2)] + word2[:int(len(word2)/2)]\n",
        "\n",
        "    # Type 4: half first of word1 + half second of word2 (50% chance)\n",
        "    # Example: [glam]orous + cam[ping] = glamping\n",
        "    elif choice == 4:\n",
        "      res = word1[:int(len(word1)/2)] + word2[int(len(word2)/2):]\n",
        "\n",
        "    if res in self.portmanteau_map or res in ENGLISH_DICTIONARY:\n",
        "      return -1\n",
        "    return res"
      ],
      "metadata": {
        "id": "xFcs2kbNvgmC"
      },
      "execution_count": null,
      "outputs": []
    },
    {
      "cell_type": "code",
      "source": [
        "###############################################\n",
        "import pickle\n",
        "\n",
        "Compounder = CompoundNoise()\n",
        "input = {\n",
        "    'tokens': ['Information', 'commercial', 'received', 'mixed', 'approvals', 'by', 'audiences', 'of', 'glamorous', 'camping'],\n",
        "    'flag'  : [1, 1, 1, 1, 0, 1, 1, 1, 1, 1]\n",
        "}\n",
        "\n",
        "output = Compounder.blend(input)\n",
        "filename = 'data.pickle'\n",
        "with open(filename, 'wb') as file:\n",
        "    pickle.dump(output, file)\n",
        "\n",
        "with open(filename, 'rb') as file:\n",
        "    data = pickle.load(file)\n",
        "\n",
        "print(Compounder.blend_map)\n",
        "###############################################"
      ],
      "metadata": {
        "colab": {
          "base_uri": "https://localhost:8080/"
        },
        "id": "gYSsgFhwqEMY",
        "outputId": "aa504121-6543-4fb1-c466-8d45ffc7dbba"
      },
      "execution_count": null,
      "outputs": [
        {
          "output_type": "stream",
          "name": "stdout",
          "text": [
            "{('Information', 'commercial'): 'Inforcial', 'Inforcial': ('Information', 'commercial'), ('received', 'mixed'): 'reced', 'reced': ('received', 'mixed'), ('of', 'glamorous'): 'orous', 'orous': ('of', 'glamorous')}\n"
          ]
        }
      ]
    },
    {
      "cell_type": "code",
      "source": [
        "Compounder = CompoundNoise()\n",
        "input = {\n",
        "    'tokens': ['Information', 'commercial', 'received', 'mixed', 'approvals', 'by', 'audiences', 'of', 'glamorous', 'camping'],\n",
        "    'flag'  : [1, 1, 1, 1, 0, 1, 1, 1, 1, 1]\n",
        "}\n",
        "output = Compounder.blend(input)\n",
        "\n",
        "import json\n",
        "\n",
        "print(f\"\"\"\n",
        "Input = {pretty_print(input)}\n",
        "\n",
        "output = {pretty_print(output)}\n",
        "\n",
        "reverse-able = {pretty_print(Compounder.reverse_blend(output))}\n",
        "\"\"\")"
      ],
      "metadata": {
        "id": "5dmRAUFaQ3Ta",
        "colab": {
          "base_uri": "https://localhost:8080/"
        },
        "outputId": "4e595501-3752-4c75-c0da-09d1b2879eae"
      },
      "execution_count": null,
      "outputs": [
        {
          "output_type": "stream",
          "name": "stdout",
          "text": [
            "\n",
            "Input = {\n",
            "tokens: ['Information', 'commercial', 'received', 'mixed', 'approvals', 'by', 'audiences', 'of', 'glamorous', 'camping']\n",
            "flag: [1, 1, 1, 1, 0, 1, 1, 1, 1, 1]\n",
            "}\n",
            "\n",
            "output = {\n",
            "tokens: ['Inforcial', 'reced', 'approvals', 'by', 'audiences', 'orous', 'camping']\n",
            "flag: [1, 1, 0, 0, 0, 1, 0]\n",
            "}\n",
            "\n",
            "reverse-able = {\n",
            "tokens: ['Information', 'commercial', 'received', 'mixed', 'approvals', 'by', 'audiences', 'of', 'glamorous', 'camping']\n",
            "flag: [1, 1, 1, 1, 0, 0, 0, 1, 1, 0]\n",
            "}\n",
            "\n"
          ]
        }
      ]
    },
    {
      "cell_type": "code",
      "source": [
        "Compounder = CompoundNoise()\n",
        "input = {\n",
        "    'tokens': ['Information', 'commercial', 'received', 'mixed', 'approvals', 'by', 'audiences', 'of', 'glamorous', 'camping'],\n",
        "    'flag'  : [1, 1, 1, 1, 0, 1, 1, 1, 1, 1]\n",
        "}\n",
        "output = Compounder.portmanteau(input)\n",
        "\n",
        "import json\n",
        "\n",
        "print(f\"\"\"\n",
        "Input = {pretty_print(input)}\n",
        "\n",
        "output = {pretty_print(output)}\n",
        "\n",
        "reverse-able = {pretty_print(Compounder.reverse_portmanteau(output))}\n",
        "\"\"\")"
      ],
      "metadata": {
        "id": "TM1jlRRQQ5H6",
        "colab": {
          "base_uri": "https://localhost:8080/"
        },
        "outputId": "6e6d921f-8385-45ec-9b09-de0b024ac5fd"
      },
      "execution_count": null,
      "outputs": [
        {
          "output_type": "stream",
          "name": "stdout",
          "text": [
            "\n",
            "Input = {\n",
            "tokens: ['Information', 'commercial', 'received', 'mixed', 'approvals', 'by', 'audiences', 'of', 'glamorous', 'camping']\n",
            "flag: [1, 1, 1, 1, 0, 1, 1, 1, 1, 1]\n",
            "}\n",
            "\n",
            "output = {\n",
            "tokens: ['Inforcomme', 'recexed', 'approvals', 'byaudiences', 'oglam', 'camping']\n",
            "flag: [1, 1, 0, 1, 1, 0]\n",
            "}\n",
            "\n",
            "reverse-able = {\n",
            "tokens: ['Information', 'commercial', 'received', 'mixed', 'approvals', 'by', 'audiences', 'of', 'glamorous', 'camping']\n",
            "flag: [1, 1, 1, 1, 0, 1, 1, 1, 1, 0]\n",
            "}\n",
            "\n"
          ]
        }
      ]
    },
    {
      "cell_type": "code",
      "source": [
        "from nltk.corpus import words\n",
        "from tqdm import tqdm\n",
        "ENGLISH_DICTIONARY = words.words()\n",
        "\n",
        "import pandas as pd\n",
        "word_bigram = pd.read_excel('bigram.xlsx').iloc[1:]\n",
        "word_trigram = pd.read_excel('trigram.xlsx')"
      ],
      "metadata": {
        "id": "3RVJJhhv5tMN"
      },
      "execution_count": null,
      "outputs": []
    },
    {
      "cell_type": "markdown",
      "source": [
        "# Word Level Translation\n",
        "Using the english monolingual data obtained from nltk, we perform word-level translation using google translation to the following languages:\n",
        "1. Croatian (hr)\n",
        "2. Italian (it)\n",
        "3. German (de)"
      ],
      "metadata": {
        "id": "GPpqTOUJ3mZ8"
      }
    },
    {
      "cell_type": "markdown",
      "source": [
        "## Croatian (hr)\n",
        "Task to do:\n",
        "1. Translate ENGLISH_DICTIONARY to CROATIAN_DICTIONARY\n",
        "2. Get bigram for CROATIAN_DICTIONARY\n",
        "3. Get trigram fro CROATIAN_DICTIONARY\n",
        "4. Save both to Croatian_bigram.xlsx and Croatian_trigram.xlsx"
      ],
      "metadata": {
        "id": "H_mLc18P6fSc"
      }
    },
    {
      "cell_type": "markdown",
      "source": [
        "### 1. Translate English Dictioanry to Croatian Dictionary"
      ],
      "metadata": {
        "id": "RV4hG6db6snM"
      }
    },
    {
      "cell_type": "code",
      "source": [
        "translate_text('hr', 'en', 'Aani')['translatedText']"
      ],
      "metadata": {
        "colab": {
          "base_uri": "https://localhost:8080/",
          "height": 35
        },
        "id": "wRbzUQSw7ccH",
        "outputId": "49099046-68a8-455c-8b02-ce155294c989"
      },
      "execution_count": null,
      "outputs": [
        {
          "output_type": "execute_result",
          "data": {
            "text/plain": [
              "'Aani'"
            ],
            "application/vnd.google.colaboratory.intrinsic+json": {
              "type": "string"
            }
          },
          "metadata": {},
          "execution_count": 16
        }
      ]
    },
    {
      "cell_type": "code",
      "source": [
        "# from nltk.corpus import words\n",
        "# from tqdm import tqdm\n",
        "# ENGLISH_DICTIONARY = words.words()\n",
        "\n",
        "# CROATIAN_DICTIONARY = []\n",
        "# for w in tqdm(ENGLISH_DICTIONARY):\n",
        "#   try:\n",
        "#     CROATIAN_DICTIONARY.append(translate_text('hr', 'en-US', w)['translatedText'])\n",
        "#   except Exception as e:\n",
        "#     print(f\"Somethine went wrong during the translation of word {w}, error: {e}\")\n",
        "#     CROATIAN_DICTIONARY.append(w)"
      ],
      "metadata": {
        "id": "pLi_Q3ud6vgN"
      },
      "execution_count": null,
      "outputs": []
    },
    {
      "cell_type": "code",
      "source": [],
      "metadata": {
        "id": "e-KGQ3SO6eSA"
      },
      "execution_count": null,
      "outputs": []
    },
    {
      "cell_type": "markdown",
      "source": [
        "# Creating an Artificial Language of Varying Degree of \"Difficulty\"\n",
        "\n",
        "The Difficulty of the language (compared to English) will change depending on the following changes:\n",
        "Change:\n",
        "1. Lexical\n",
        "2. Word Ordering\n",
        "\n",
        "\n",
        "**Lexical Changes** of varying degree can be made by utilizing the insertion, deletion, substitute, or the cognate noise.\n",
        "\n",
        "To differentiate the difficulty of lexical changes that we perform, we utilizes the average edit distance of the ENGLISH_DICTIONARY and SYNTHETIC_DICTIONARY.\n",
        "\n",
        "Meanwhile, to differentiate the difficulty of word ordering, it is quite hard to immediately figure out (Probably it juut adds extra difficulty, right?)"
      ],
      "metadata": {
        "id": "2NnSUcC8BUjT"
      }
    },
    {
      "cell_type": "markdown",
      "source": [
        "## Lexical Changes"
      ],
      "metadata": {
        "id": "Lx_ChHJlCeC7"
      }
    },
    {
      "cell_type": "markdown",
      "source": [
        "### Level 1 (<= 2 Edit Distance, 1 Noise type)\n",
        "Indicating the easiest lexical changes, there will be an average of 2 edit distance from the ENGLISH_DICTIONARY and SYNTHETIC_DICTIONARY.\n",
        "\n",
        "Why the value 2? 2 is the usual level of typo. 80% of errorneous typos has an Edit Distance of less than or equal to 2.\n",
        "(Actually, I think it's even higher. Got the knowledge from Information Retrieval class. Will check sources later)"
      ],
      "metadata": {
        "id": "_11BgGrtCixK"
      }
    },
    {
      "cell_type": "code",
      "source": [
        "# 0. Ensure ENGLISH_DICTIONARY is filled and SYNTHETIC_DICTIONARY is empty\n",
        "from nltk.corpus import words\n",
        "ENGLISH_DICTIONARY = words.words()\n",
        "SYNTHETIC_DICTIONARY = []"
      ],
      "metadata": {
        "id": "pm0vMnVxBrGk"
      },
      "execution_count": null,
      "outputs": []
    },
    {
      "cell_type": "code",
      "source": [
        "# 1. Due to an average edit distance of 2, we use mean = 2, and standard deviation = 1.\n",
        "MEAN     = 2\n",
        "STD_DEV  = 1\n",
        "\n",
        "# 2. We want to make it so that the noise happen quite randomly.\n",
        "#    We limit the noise to the 3 most basic one for now.\n",
        "import random\n",
        "noises = [insertion_noise, deletion_noise, substitute_noise]\n",
        "\n",
        "# 3. Generate the synthetic dictionary\n",
        "from tqdm import tqdm\n",
        "\n",
        "for word in tqdm(ENGLISH_DICTIONARY):\n",
        "  noise = random.choice(noises)\n",
        "  try:\n",
        "    SYNTHETIC_DICTIONARY.append(noise(word, MEAN, STD_DEV))\n",
        "  except:\n",
        "    print(f\"\\nword = {word}\")\n",
        "    SYNTHETIC_DICTIONARY.append(word)\n",
        "\n",
        "# 4. Ensure that the requirement of Edit Distance is met\n",
        "print(f\"The average Levenshtein edit distance = {levenshtein_distance(ENGLISH_DICTIONARY, SYNTHETIC_DICTIONARY)}\")\n",
        "print(f\"The average Damerau Levenshtein edit distance = {damerau_levenshtein_distance(ENGLISH_DICTIONARY, SYNTHETIC_DICTIONARY)}\")\n"
      ],
      "metadata": {
        "id": "A2FM5rzjDZM5"
      },
      "execution_count": null,
      "outputs": []
    },
    {
      "cell_type": "code",
      "source": [
        "import pandas as pd\n",
        "\n",
        "dictionary = []\n",
        "for en, synth in zip(ENGLISH_DICTIONARY, SYNTHETIC_DICTIONARY):\n",
        "  dictionary.append((en, synth))\n",
        "\n",
        "df = pd.DataFrame(dictionary, columns=['English', 'Level1'])\n",
        "\n",
        "with pd.ExcelWriter('level1.xlsx') as writer:\n",
        "  df.to_excel(writer, sheet_name='Dictionary', index=False)"
      ],
      "metadata": {
        "id": "GTyQZ5YcH-5F"
      },
      "execution_count": null,
      "outputs": []
    },
    {
      "cell_type": "code",
      "source": [
        "i = 0\n",
        "for en, synth in zip(ENGLISH_DICTIONARY, SYNTHETIC_DICTIONARY):\n",
        "  if en == synth:\n",
        "    i += 1\n",
        "\n",
        "i/len(ENGLISH_DICTIONARY)"
      ],
      "metadata": {
        "colab": {
          "base_uri": "https://localhost:8080/"
        },
        "id": "k1voxtxsuOte",
        "outputId": "14ce8f07-b725-4e8b-a76d-0f0f6f4df321"
      },
      "execution_count": null,
      "outputs": [
        {
          "output_type": "execute_result",
          "data": {
            "text/plain": [
              "0.015329311976209787"
            ]
          },
          "metadata": {},
          "execution_count": 33
        }
      ]
    },
    {
      "cell_type": "code",
      "source": [],
      "metadata": {
        "id": "_lXKuV5fDkYA"
      },
      "execution_count": null,
      "outputs": []
    },
    {
      "cell_type": "markdown",
      "source": [
        "### Level 2 (~3 Edit Distance, 2 Noise type)"
      ],
      "metadata": {
        "id": "NzPCfujjNacZ"
      }
    },
    {
      "cell_type": "markdown",
      "source": [
        "# Experimentation"
      ],
      "metadata": {
        "id": "SAYdpn1hbssM"
      }
    },
    {
      "cell_type": "code",
      "source": [
        "import nltk\n",
        "import pandas as pd\n",
        "nltk.download('punkt')\n",
        "\n",
        "from nltk import ngrams\n",
        "from collections import Counter\n",
        "\n",
        "ENGLISH_DICTIONARY = nltk.corpus.words.words()\n",
        "\n",
        "En_dict = ['-' + w + '-' for w in ENGLISH_DICTIONARY]\n",
        "\n",
        "# Combine the list of strings into a single text\n",
        "combined_text = ''.join(En_dict)\n",
        "\n",
        "# Choose the value of n for character n-grams (e.g., n=2 for bigrams, n=3 for trigrams, etc.)\n",
        "n = 3\n",
        "\n",
        "# Generate character n-grams\n",
        "ngram_tuples = list(ngrams(combined_text, n))\n",
        "\n",
        "# Convert n-gram tuples back to strings\n",
        "ngrams_as_strings = [''.join(ngram) for ngram in ngram_tuples]\n",
        "\n",
        "# Count the frequency of each character n-gram\n",
        "ngram_frequency = Counter(ngrams_as_strings)\n",
        "\n",
        "# Print the character n-grams and their frequencies\n",
        "df = pd.DataFrame(list(dict(ngram_frequency).items()), columns=['tri-gram', 'freq'])\n",
        "df = df.sort_values(by='freq', ascending=False)\n",
        "with pd.ExcelWriter('trigram.xlsx') as writer:\n",
        "  df.to_excel(writer, sheet_name='trigram', index=False)"
      ],
      "metadata": {
        "colab": {
          "base_uri": "https://localhost:8080/"
        },
        "id": "bJyWXBSfd4-B",
        "outputId": "61975a4e-adf6-4c53-d109-1c9965cb515b"
      },
      "execution_count": null,
      "outputs": [
        {
          "output_type": "stream",
          "name": "stderr",
          "text": [
            "[nltk_data] Downloading package punkt to /root/nltk_data...\n",
            "[nltk_data]   Unzipping tokenizers/punkt.zip.\n"
          ]
        }
      ]
    },
    {
      "cell_type": "code",
      "source": [
        "from nltk.corpus import words\n",
        "\n",
        "English_vocab = words.words()\n",
        "\n",
        "En_list = []\n",
        "for w in English_vocab:\n",
        "  En_list.append('0' + w + '1') # 0 Denotes START token, 1 Denotes END token\n",
        "\n",
        "one_gram = []\n",
        "two_grams = []"
      ],
      "metadata": {
        "id": "NQRJgB8JbuuQ"
      },
      "execution_count": null,
      "outputs": []
    },
    {
      "cell_type": "code",
      "source": [],
      "metadata": {
        "id": "nLjDBVl5b3DQ"
      },
      "execution_count": null,
      "outputs": []
    }
  ]
}